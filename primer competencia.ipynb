{
 "cells": [
  {
   "cell_type": "markdown",
   "id": "4696b0e9",
   "metadata": {},
   "source": [
    "# Imports & General"
   ]
  },
  {
   "cell_type": "code",
   "execution_count": 1,
   "id": "229d677f",
   "metadata": {},
   "outputs": [],
   "source": [
    "import pandas as pd\n",
    "import numpy as np\n",
    "import seaborn as sns\n",
    "import matplotlib.pyplot as plt\n",
    "\n",
    "from sklearn.model_selection import train_test_split\n",
    "from sklearn.model_selection import ShuffleSplit, StratifiedShuffleSplit\n",
    "from sklearn.ensemble import RandomForestClassifier\n",
    "from sklearn.impute import SimpleImputer\n",
    "\n",
    "import lightgbm as lgb\n",
    "\n",
    "import optuna\n",
    "from optuna.visualization import plot_optimization_history, plot_param_importances, plot_slice, plot_contour\n",
    "\n",
    "from time import time\n",
    "\n",
    "import pickle"
   ]
  },
  {
   "cell_type": "code",
   "execution_count": 2,
   "id": "5589827f-e8e1-45a1-82e5-bc75db118e38",
   "metadata": {},
   "outputs": [
    {
     "name": "stdout",
     "output_type": "stream",
     "text": [
      "OK\n"
     ]
    }
   ],
   "source": [
    "print(\"OK\")"
   ]
  },
  {
   "cell_type": "code",
   "execution_count": 3,
   "id": "836aac1b-58ad-481b-9d19-676d1af2c5d3",
   "metadata": {},
   "outputs": [],
   "source": [
    "base_path = '/content/drive/MyDrive/dmeyf/2024/'\n",
    "dataset_path = base_path + 'datos/'\n",
    "modelos_path = base_path + 'modelos/'\n",
    "db_path = base_path + 'db/'\n",
    "dataset_file = 'competencia_01.csv'\n",
    "\n",
    "ganancia_acierto = 780000\n",
    "costo_estimulo = 20000\n",
    "\n",
    "mes_train = [202101, 202102, 202103]\n",
    "#mes_train = [202103]\n",
    "mes_test = 202104\n",
    "\n",
    "mes_train_all = [202101, 202102, 202103,202104]\n",
    "mes_futuro = 202106\n",
    "\n",
    "\n",
    "semillas = [100992,140795,130316,130351,130255]"
   ]
  },
  {
   "cell_type": "code",
   "execution_count": 4,
   "id": "9c20cf31-5d12-4b6b-9aa1-e9ba665b5a29",
   "metadata": {},
   "outputs": [
    {
     "name": "stderr",
     "output_type": "stream",
     "text": [
      "/tmp/ipykernel_7198/3351902583.py:4: DtypeWarning: Columns (154) have mixed types. Specify dtype option on import or set low_memory=False.\n",
      "  df = pd.read_csv(file_path)\n"
     ]
    }
   ],
   "source": [
    "bucket_name = \"brianlitwak_bukito3\"  # Reemplaza con el nombre de tu bucket\n",
    "file_path = f\"gs://{bucket_name}/datasets/competencia_01.csv\"\n",
    "# Leer el CSV\n",
    "df = pd.read_csv(file_path)"
   ]
  },
  {
   "cell_type": "code",
   "execution_count": 5,
   "id": "f80b4576-4816-43d8-a0cf-7844b7f89ffe",
   "metadata": {},
   "outputs": [
    {
     "data": {
      "text/html": [
       "<div>\n",
       "<style scoped>\n",
       "    .dataframe tbody tr th:only-of-type {\n",
       "        vertical-align: middle;\n",
       "    }\n",
       "\n",
       "    .dataframe tbody tr th {\n",
       "        vertical-align: top;\n",
       "    }\n",
       "\n",
       "    .dataframe thead th {\n",
       "        text-align: right;\n",
       "    }\n",
       "</style>\n",
       "<table border=\"1\" class=\"dataframe\">\n",
       "  <thead>\n",
       "    <tr style=\"text-align: right;\">\n",
       "      <th></th>\n",
       "      <th>numero_de_cliente</th>\n",
       "      <th>foto_mes</th>\n",
       "      <th>active_quarter</th>\n",
       "      <th>cliente_vip</th>\n",
       "      <th>internet</th>\n",
       "      <th>cliente_edad</th>\n",
       "      <th>cliente_antiguedad</th>\n",
       "      <th>mrentabilidad</th>\n",
       "      <th>mrentabilidad_annual</th>\n",
       "      <th>mcomisiones</th>\n",
       "      <th>...</th>\n",
       "      <th>Visa_fultimo_cierre</th>\n",
       "      <th>Visa_mpagado</th>\n",
       "      <th>Visa_mpagospesos</th>\n",
       "      <th>Visa_mpagosdolares</th>\n",
       "      <th>Visa_fechaalta</th>\n",
       "      <th>Visa_mconsumototal</th>\n",
       "      <th>Visa_cconsumos</th>\n",
       "      <th>Visa_cadelantosefectivo</th>\n",
       "      <th>Visa_mpagominimo</th>\n",
       "      <th>clase_ternaria</th>\n",
       "    </tr>\n",
       "  </thead>\n",
       "  <tbody>\n",
       "    <tr>\n",
       "      <th>0</th>\n",
       "      <td>249221323</td>\n",
       "      <td>202101</td>\n",
       "      <td>1</td>\n",
       "      <td>0</td>\n",
       "      <td>0</td>\n",
       "      <td>46</td>\n",
       "      <td>93</td>\n",
       "      <td>3070.24</td>\n",
       "      <td>15691.1</td>\n",
       "      <td>1278.11</td>\n",
       "      <td>...</td>\n",
       "      <td>4.0</td>\n",
       "      <td>0.00</td>\n",
       "      <td>-20833.47</td>\n",
       "      <td>0.0</td>\n",
       "      <td>2814.0</td>\n",
       "      <td>6743.38</td>\n",
       "      <td>6.0</td>\n",
       "      <td>0.0</td>\n",
       "      <td>9559.95</td>\n",
       "      <td>CONTINUA</td>\n",
       "    </tr>\n",
       "    <tr>\n",
       "      <th>1</th>\n",
       "      <td>249227600</td>\n",
       "      <td>202101</td>\n",
       "      <td>1</td>\n",
       "      <td>0</td>\n",
       "      <td>0</td>\n",
       "      <td>42</td>\n",
       "      <td>278</td>\n",
       "      <td>496.21</td>\n",
       "      <td>15321.8</td>\n",
       "      <td>418.97</td>\n",
       "      <td>...</td>\n",
       "      <td>11.0</td>\n",
       "      <td>13267.49</td>\n",
       "      <td>-9662.51</td>\n",
       "      <td>0.0</td>\n",
       "      <td>5541.0</td>\n",
       "      <td>9419.90</td>\n",
       "      <td>8.0</td>\n",
       "      <td>0.0</td>\n",
       "      <td>1900.26</td>\n",
       "      <td>CONTINUA</td>\n",
       "    </tr>\n",
       "  </tbody>\n",
       "</table>\n",
       "<p>2 rows × 155 columns</p>\n",
       "</div>"
      ],
      "text/plain": [
       "   numero_de_cliente  foto_mes  active_quarter  cliente_vip  internet  \\\n",
       "0          249221323    202101               1            0         0   \n",
       "1          249227600    202101               1            0         0   \n",
       "\n",
       "   cliente_edad  cliente_antiguedad  mrentabilidad  mrentabilidad_annual  \\\n",
       "0            46                  93        3070.24               15691.1   \n",
       "1            42                 278         496.21               15321.8   \n",
       "\n",
       "   mcomisiones  ...  Visa_fultimo_cierre  Visa_mpagado  Visa_mpagospesos  \\\n",
       "0      1278.11  ...                  4.0          0.00         -20833.47   \n",
       "1       418.97  ...                 11.0      13267.49          -9662.51   \n",
       "\n",
       "   Visa_mpagosdolares  Visa_fechaalta  Visa_mconsumototal  Visa_cconsumos  \\\n",
       "0                 0.0          2814.0             6743.38             6.0   \n",
       "1                 0.0          5541.0             9419.90             8.0   \n",
       "\n",
       "   Visa_cadelantosefectivo  Visa_mpagominimo  clase_ternaria  \n",
       "0                      0.0           9559.95        CONTINUA  \n",
       "1                      0.0           1900.26        CONTINUA  \n",
       "\n",
       "[2 rows x 155 columns]"
      ]
     },
     "execution_count": 5,
     "metadata": {},
     "output_type": "execute_result"
    }
   ],
   "source": [
    "df.head(2)"
   ]
  },
  {
   "cell_type": "code",
   "execution_count": 6,
   "id": "3b648a94",
   "metadata": {},
   "outputs": [],
   "source": [
    "#df['target'] = (df['clase_ternaria'] == 'BAJA+2').astype('int8')\n",
    "df[\"target\"] = df[\"clase_ternaria\"].isin([\"BAJA+1\", \"BAJA+2\"]).astype(\"int8\")\n",
    "df['clase_peso'] = 1.0"
   ]
  },
  {
   "cell_type": "code",
   "execution_count": 7,
   "id": "0763ffd0-34e7-499c-9fd6-b0ff3f7b5561",
   "metadata": {},
   "outputs": [
    {
     "name": "stdout",
     "output_type": "stream",
     "text": [
      "✅ Convertida active_quarter → active_quarter_pctl\n",
      "✅ Convertida cliente_vip → cliente_vip_pctl\n",
      "✅ Convertida internet → internet_pctl\n",
      "✅ Convertida cliente_edad → cliente_edad_pctl\n",
      "✅ Convertida cliente_antiguedad → cliente_antiguedad_pctl\n",
      "✅ Convertida mrentabilidad → mrentabilidad_pctl\n",
      "✅ Convertida mrentabilidad_annual → mrentabilidad_annual_pctl\n",
      "✅ Convertida mcomisiones → mcomisiones_pctl\n",
      "✅ Convertida mactivos_margen → mactivos_margen_pctl\n",
      "✅ Convertida mpasivos_margen → mpasivos_margen_pctl\n",
      "✅ Convertida cproductos → cproductos_pctl\n",
      "✅ Convertida tcuentas → tcuentas_pctl\n",
      "✅ Convertida ccuenta_corriente → ccuenta_corriente_pctl\n",
      "✅ Convertida mcuenta_corriente_adicional → mcuenta_corriente_adicional_pctl\n",
      "✅ Convertida mcuenta_corriente → mcuenta_corriente_pctl\n",
      "✅ Convertida ccaja_ahorro → ccaja_ahorro_pctl\n",
      "✅ Convertida mcaja_ahorro → mcaja_ahorro_pctl\n",
      "✅ Convertida mcaja_ahorro_adicional → mcaja_ahorro_adicional_pctl\n",
      "✅ Convertida mcaja_ahorro_dolares → mcaja_ahorro_dolares_pctl\n",
      "✅ Convertida cdescubierto_preacordado → cdescubierto_preacordado_pctl\n",
      "✅ Convertida mcuentas_saldo → mcuentas_saldo_pctl\n",
      "✅ Convertida ctarjeta_debito → ctarjeta_debito_pctl\n",
      "✅ Convertida ctarjeta_debito_transacciones → ctarjeta_debito_transacciones_pctl\n",
      "✅ Convertida mautoservicio → mautoservicio_pctl\n",
      "✅ Convertida ctarjeta_visa → ctarjeta_visa_pctl\n",
      "✅ Convertida ctarjeta_visa_transacciones → ctarjeta_visa_transacciones_pctl\n",
      "✅ Convertida mtarjeta_visa_consumo → mtarjeta_visa_consumo_pctl\n",
      "✅ Convertida ctarjeta_master → ctarjeta_master_pctl\n",
      "✅ Convertida ctarjeta_master_transacciones → ctarjeta_master_transacciones_pctl\n",
      "✅ Convertida mtarjeta_master_consumo → mtarjeta_master_consumo_pctl\n",
      "✅ Convertida cprestamos_personales → cprestamos_personales_pctl\n",
      "✅ Convertida mprestamos_personales → mprestamos_personales_pctl\n",
      "✅ Convertida cprestamos_prendarios → cprestamos_prendarios_pctl\n",
      "✅ Convertida mprestamos_prendarios → mprestamos_prendarios_pctl\n",
      "✅ Convertida cprestamos_hipotecarios → cprestamos_hipotecarios_pctl\n",
      "✅ Convertida mprestamos_hipotecarios → mprestamos_hipotecarios_pctl\n",
      "✅ Convertida cplazo_fijo → cplazo_fijo_pctl\n",
      "✅ Convertida mplazo_fijo_dolares → mplazo_fijo_dolares_pctl\n",
      "✅ Convertida mplazo_fijo_pesos → mplazo_fijo_pesos_pctl\n",
      "✅ Convertida cinversion1 → cinversion1_pctl\n",
      "✅ Convertida minversion1_pesos → minversion1_pesos_pctl\n",
      "✅ Convertida minversion1_dolares → minversion1_dolares_pctl\n",
      "✅ Convertida cinversion2 → cinversion2_pctl\n",
      "✅ Convertida minversion2 → minversion2_pctl\n",
      "✅ Convertida cseguro_vida → cseguro_vida_pctl\n",
      "✅ Convertida cseguro_auto → cseguro_auto_pctl\n",
      "✅ Convertida cseguro_vivienda → cseguro_vivienda_pctl\n",
      "✅ Convertida cseguro_accidentes_personales → cseguro_accidentes_personales_pctl\n",
      "✅ Convertida ccaja_seguridad → ccaja_seguridad_pctl\n",
      "✅ Convertida cpayroll_trx → cpayroll_trx_pctl\n",
      "✅ Convertida mpayroll → mpayroll_pctl\n",
      "✅ Convertida mpayroll2 → mpayroll2_pctl\n",
      "✅ Convertida cpayroll2_trx → cpayroll2_trx_pctl\n",
      "✅ Convertida ccuenta_debitos_automaticos → ccuenta_debitos_automaticos_pctl\n",
      "✅ Convertida mcuenta_debitos_automaticos → mcuenta_debitos_automaticos_pctl\n",
      "✅ Convertida ctarjeta_visa_debitos_automaticos → ctarjeta_visa_debitos_automaticos_pctl\n",
      "✅ Convertida mttarjeta_visa_debitos_automaticos → mttarjeta_visa_debitos_automaticos_pctl\n",
      "✅ Convertida ctarjeta_master_debitos_automaticos → ctarjeta_master_debitos_automaticos_pctl\n",
      "✅ Convertida mttarjeta_master_debitos_automaticos → mttarjeta_master_debitos_automaticos_pctl\n",
      "✅ Convertida cpagodeservicios → cpagodeservicios_pctl\n",
      "✅ Convertida mpagodeservicios → mpagodeservicios_pctl\n",
      "✅ Convertida cpagomiscuentas → cpagomiscuentas_pctl\n",
      "✅ Convertida mpagomiscuentas → mpagomiscuentas_pctl\n",
      "✅ Convertida ccajeros_propios_descuentos → ccajeros_propios_descuentos_pctl\n",
      "✅ Convertida mcajeros_propios_descuentos → mcajeros_propios_descuentos_pctl\n",
      "✅ Convertida ctarjeta_visa_descuentos → ctarjeta_visa_descuentos_pctl\n",
      "✅ Convertida mtarjeta_visa_descuentos → mtarjeta_visa_descuentos_pctl\n",
      "✅ Convertida ctarjeta_master_descuentos → ctarjeta_master_descuentos_pctl\n",
      "✅ Convertida mtarjeta_master_descuentos → mtarjeta_master_descuentos_pctl\n",
      "✅ Convertida ccomisiones_mantenimiento → ccomisiones_mantenimiento_pctl\n",
      "✅ Convertida mcomisiones_mantenimiento → mcomisiones_mantenimiento_pctl\n",
      "✅ Convertida ccomisiones_otras → ccomisiones_otras_pctl\n",
      "✅ Convertida mcomisiones_otras → mcomisiones_otras_pctl\n",
      "✅ Convertida cforex → cforex_pctl\n",
      "✅ Convertida cforex_buy → cforex_buy_pctl\n",
      "✅ Convertida mforex_buy → mforex_buy_pctl\n",
      "✅ Convertida cforex_sell → cforex_sell_pctl\n",
      "✅ Convertida mforex_sell → mforex_sell_pctl\n",
      "✅ Convertida ctransferencias_recibidas → ctransferencias_recibidas_pctl\n",
      "✅ Convertida mtransferencias_recibidas → mtransferencias_recibidas_pctl\n",
      "✅ Convertida ctransferencias_emitidas → ctransferencias_emitidas_pctl\n",
      "✅ Convertida mtransferencias_emitidas → mtransferencias_emitidas_pctl\n",
      "✅ Convertida cextraccion_autoservicio → cextraccion_autoservicio_pctl\n",
      "✅ Convertida mextraccion_autoservicio → mextraccion_autoservicio_pctl\n",
      "✅ Convertida ccheques_depositados → ccheques_depositados_pctl\n",
      "✅ Convertida mcheques_depositados → mcheques_depositados_pctl\n",
      "✅ Convertida ccheques_emitidos → ccheques_emitidos_pctl\n",
      "✅ Convertida mcheques_emitidos → mcheques_emitidos_pctl\n",
      "✅ Convertida ccheques_depositados_rechazados → ccheques_depositados_rechazados_pctl\n",
      "✅ Convertida mcheques_depositados_rechazados → mcheques_depositados_rechazados_pctl\n",
      "✅ Convertida ccheques_emitidos_rechazados → ccheques_emitidos_rechazados_pctl\n",
      "✅ Convertida mcheques_emitidos_rechazados → mcheques_emitidos_rechazados_pctl\n",
      "✅ Convertida tcallcenter → tcallcenter_pctl\n",
      "✅ Convertida ccallcenter_transacciones → ccallcenter_transacciones_pctl\n",
      "✅ Convertida thomebanking → thomebanking_pctl\n",
      "✅ Convertida chomebanking_transacciones → chomebanking_transacciones_pctl\n"
     ]
    },
    {
     "name": "stderr",
     "output_type": "stream",
     "text": [
      "/tmp/ipykernel_7198/2277465782.py:23: PerformanceWarning: DataFrame is highly fragmented.  This is usually the result of calling `frame.insert` many times, which has poor performance.  Consider joining all columns at once using pd.concat(axis=1) instead. To get a de-fragmented frame, use `newframe = frame.copy()`\n",
      "  df[new_col] = df.groupby('foto_mes')[c].transform(to_percentile)\n"
     ]
    },
    {
     "name": "stdout",
     "output_type": "stream",
     "text": [
      "✅ Convertida ccajas_transacciones → ccajas_transacciones_pctl\n"
     ]
    },
    {
     "name": "stderr",
     "output_type": "stream",
     "text": [
      "/tmp/ipykernel_7198/2277465782.py:23: PerformanceWarning: DataFrame is highly fragmented.  This is usually the result of calling `frame.insert` many times, which has poor performance.  Consider joining all columns at once using pd.concat(axis=1) instead. To get a de-fragmented frame, use `newframe = frame.copy()`\n",
      "  df[new_col] = df.groupby('foto_mes')[c].transform(to_percentile)\n"
     ]
    },
    {
     "name": "stdout",
     "output_type": "stream",
     "text": [
      "✅ Convertida ccajas_consultas → ccajas_consultas_pctl\n"
     ]
    },
    {
     "name": "stderr",
     "output_type": "stream",
     "text": [
      "/tmp/ipykernel_7198/2277465782.py:23: PerformanceWarning: DataFrame is highly fragmented.  This is usually the result of calling `frame.insert` many times, which has poor performance.  Consider joining all columns at once using pd.concat(axis=1) instead. To get a de-fragmented frame, use `newframe = frame.copy()`\n",
      "  df[new_col] = df.groupby('foto_mes')[c].transform(to_percentile)\n"
     ]
    },
    {
     "name": "stdout",
     "output_type": "stream",
     "text": [
      "✅ Convertida ccajas_depositos → ccajas_depositos_pctl\n"
     ]
    },
    {
     "name": "stderr",
     "output_type": "stream",
     "text": [
      "/tmp/ipykernel_7198/2277465782.py:23: PerformanceWarning: DataFrame is highly fragmented.  This is usually the result of calling `frame.insert` many times, which has poor performance.  Consider joining all columns at once using pd.concat(axis=1) instead. To get a de-fragmented frame, use `newframe = frame.copy()`\n",
      "  df[new_col] = df.groupby('foto_mes')[c].transform(to_percentile)\n"
     ]
    },
    {
     "name": "stdout",
     "output_type": "stream",
     "text": [
      "✅ Convertida ccajas_extracciones → ccajas_extracciones_pctl\n"
     ]
    },
    {
     "name": "stderr",
     "output_type": "stream",
     "text": [
      "/tmp/ipykernel_7198/2277465782.py:23: PerformanceWarning: DataFrame is highly fragmented.  This is usually the result of calling `frame.insert` many times, which has poor performance.  Consider joining all columns at once using pd.concat(axis=1) instead. To get a de-fragmented frame, use `newframe = frame.copy()`\n",
      "  df[new_col] = df.groupby('foto_mes')[c].transform(to_percentile)\n"
     ]
    },
    {
     "name": "stdout",
     "output_type": "stream",
     "text": [
      "✅ Convertida ccajas_otras → ccajas_otras_pctl\n"
     ]
    },
    {
     "name": "stderr",
     "output_type": "stream",
     "text": [
      "/tmp/ipykernel_7198/2277465782.py:23: PerformanceWarning: DataFrame is highly fragmented.  This is usually the result of calling `frame.insert` many times, which has poor performance.  Consider joining all columns at once using pd.concat(axis=1) instead. To get a de-fragmented frame, use `newframe = frame.copy()`\n",
      "  df[new_col] = df.groupby('foto_mes')[c].transform(to_percentile)\n"
     ]
    },
    {
     "name": "stdout",
     "output_type": "stream",
     "text": [
      "✅ Convertida catm_trx → catm_trx_pctl\n"
     ]
    },
    {
     "name": "stderr",
     "output_type": "stream",
     "text": [
      "/tmp/ipykernel_7198/2277465782.py:23: PerformanceWarning: DataFrame is highly fragmented.  This is usually the result of calling `frame.insert` many times, which has poor performance.  Consider joining all columns at once using pd.concat(axis=1) instead. To get a de-fragmented frame, use `newframe = frame.copy()`\n",
      "  df[new_col] = df.groupby('foto_mes')[c].transform(to_percentile)\n"
     ]
    },
    {
     "name": "stdout",
     "output_type": "stream",
     "text": [
      "✅ Convertida matm → matm_pctl\n"
     ]
    },
    {
     "name": "stderr",
     "output_type": "stream",
     "text": [
      "/tmp/ipykernel_7198/2277465782.py:23: PerformanceWarning: DataFrame is highly fragmented.  This is usually the result of calling `frame.insert` many times, which has poor performance.  Consider joining all columns at once using pd.concat(axis=1) instead. To get a de-fragmented frame, use `newframe = frame.copy()`\n",
      "  df[new_col] = df.groupby('foto_mes')[c].transform(to_percentile)\n"
     ]
    },
    {
     "name": "stdout",
     "output_type": "stream",
     "text": [
      "✅ Convertida catm_trx_other → catm_trx_other_pctl\n"
     ]
    },
    {
     "name": "stderr",
     "output_type": "stream",
     "text": [
      "/tmp/ipykernel_7198/2277465782.py:23: PerformanceWarning: DataFrame is highly fragmented.  This is usually the result of calling `frame.insert` many times, which has poor performance.  Consider joining all columns at once using pd.concat(axis=1) instead. To get a de-fragmented frame, use `newframe = frame.copy()`\n",
      "  df[new_col] = df.groupby('foto_mes')[c].transform(to_percentile)\n"
     ]
    },
    {
     "name": "stdout",
     "output_type": "stream",
     "text": [
      "✅ Convertida matm_other → matm_other_pctl\n"
     ]
    },
    {
     "name": "stderr",
     "output_type": "stream",
     "text": [
      "/tmp/ipykernel_7198/2277465782.py:23: PerformanceWarning: DataFrame is highly fragmented.  This is usually the result of calling `frame.insert` many times, which has poor performance.  Consider joining all columns at once using pd.concat(axis=1) instead. To get a de-fragmented frame, use `newframe = frame.copy()`\n",
      "  df[new_col] = df.groupby('foto_mes')[c].transform(to_percentile)\n"
     ]
    },
    {
     "name": "stdout",
     "output_type": "stream",
     "text": [
      "✅ Convertida ctrx_quarter → ctrx_quarter_pctl\n"
     ]
    },
    {
     "name": "stderr",
     "output_type": "stream",
     "text": [
      "/tmp/ipykernel_7198/2277465782.py:23: PerformanceWarning: DataFrame is highly fragmented.  This is usually the result of calling `frame.insert` many times, which has poor performance.  Consider joining all columns at once using pd.concat(axis=1) instead. To get a de-fragmented frame, use `newframe = frame.copy()`\n",
      "  df[new_col] = df.groupby('foto_mes')[c].transform(to_percentile)\n"
     ]
    },
    {
     "name": "stdout",
     "output_type": "stream",
     "text": [
      "✅ Convertida tmobile_app → tmobile_app_pctl\n"
     ]
    },
    {
     "name": "stderr",
     "output_type": "stream",
     "text": [
      "/tmp/ipykernel_7198/2277465782.py:23: PerformanceWarning: DataFrame is highly fragmented.  This is usually the result of calling `frame.insert` many times, which has poor performance.  Consider joining all columns at once using pd.concat(axis=1) instead. To get a de-fragmented frame, use `newframe = frame.copy()`\n",
      "  df[new_col] = df.groupby('foto_mes')[c].transform(to_percentile)\n"
     ]
    },
    {
     "name": "stdout",
     "output_type": "stream",
     "text": [
      "✅ Convertida cmobile_app_trx → cmobile_app_trx_pctl\n"
     ]
    },
    {
     "name": "stderr",
     "output_type": "stream",
     "text": [
      "/tmp/ipykernel_7198/2277465782.py:23: PerformanceWarning: DataFrame is highly fragmented.  This is usually the result of calling `frame.insert` many times, which has poor performance.  Consider joining all columns at once using pd.concat(axis=1) instead. To get a de-fragmented frame, use `newframe = frame.copy()`\n",
      "  df[new_col] = df.groupby('foto_mes')[c].transform(to_percentile)\n"
     ]
    },
    {
     "name": "stdout",
     "output_type": "stream",
     "text": [
      "✅ Convertida Master_delinquency → Master_delinquency_pctl\n"
     ]
    },
    {
     "name": "stderr",
     "output_type": "stream",
     "text": [
      "/tmp/ipykernel_7198/2277465782.py:23: PerformanceWarning: DataFrame is highly fragmented.  This is usually the result of calling `frame.insert` many times, which has poor performance.  Consider joining all columns at once using pd.concat(axis=1) instead. To get a de-fragmented frame, use `newframe = frame.copy()`\n",
      "  df[new_col] = df.groupby('foto_mes')[c].transform(to_percentile)\n"
     ]
    },
    {
     "name": "stdout",
     "output_type": "stream",
     "text": [
      "✅ Convertida Master_status → Master_status_pctl\n"
     ]
    },
    {
     "name": "stderr",
     "output_type": "stream",
     "text": [
      "/tmp/ipykernel_7198/2277465782.py:23: PerformanceWarning: DataFrame is highly fragmented.  This is usually the result of calling `frame.insert` many times, which has poor performance.  Consider joining all columns at once using pd.concat(axis=1) instead. To get a de-fragmented frame, use `newframe = frame.copy()`\n",
      "  df[new_col] = df.groupby('foto_mes')[c].transform(to_percentile)\n"
     ]
    },
    {
     "name": "stdout",
     "output_type": "stream",
     "text": [
      "✅ Convertida Master_mfinanciacion_limite → Master_mfinanciacion_limite_pctl\n"
     ]
    },
    {
     "name": "stderr",
     "output_type": "stream",
     "text": [
      "/tmp/ipykernel_7198/2277465782.py:23: PerformanceWarning: DataFrame is highly fragmented.  This is usually the result of calling `frame.insert` many times, which has poor performance.  Consider joining all columns at once using pd.concat(axis=1) instead. To get a de-fragmented frame, use `newframe = frame.copy()`\n",
      "  df[new_col] = df.groupby('foto_mes')[c].transform(to_percentile)\n"
     ]
    },
    {
     "name": "stdout",
     "output_type": "stream",
     "text": [
      "✅ Convertida Master_Fvencimiento → Master_Fvencimiento_pctl\n"
     ]
    },
    {
     "name": "stderr",
     "output_type": "stream",
     "text": [
      "/tmp/ipykernel_7198/2277465782.py:23: PerformanceWarning: DataFrame is highly fragmented.  This is usually the result of calling `frame.insert` many times, which has poor performance.  Consider joining all columns at once using pd.concat(axis=1) instead. To get a de-fragmented frame, use `newframe = frame.copy()`\n",
      "  df[new_col] = df.groupby('foto_mes')[c].transform(to_percentile)\n"
     ]
    },
    {
     "name": "stdout",
     "output_type": "stream",
     "text": [
      "✅ Convertida Master_Finiciomora → Master_Finiciomora_pctl\n"
     ]
    },
    {
     "name": "stderr",
     "output_type": "stream",
     "text": [
      "/tmp/ipykernel_7198/2277465782.py:23: PerformanceWarning: DataFrame is highly fragmented.  This is usually the result of calling `frame.insert` many times, which has poor performance.  Consider joining all columns at once using pd.concat(axis=1) instead. To get a de-fragmented frame, use `newframe = frame.copy()`\n",
      "  df[new_col] = df.groupby('foto_mes')[c].transform(to_percentile)\n"
     ]
    },
    {
     "name": "stdout",
     "output_type": "stream",
     "text": [
      "✅ Convertida Master_msaldototal → Master_msaldototal_pctl\n"
     ]
    },
    {
     "name": "stderr",
     "output_type": "stream",
     "text": [
      "/tmp/ipykernel_7198/2277465782.py:23: PerformanceWarning: DataFrame is highly fragmented.  This is usually the result of calling `frame.insert` many times, which has poor performance.  Consider joining all columns at once using pd.concat(axis=1) instead. To get a de-fragmented frame, use `newframe = frame.copy()`\n",
      "  df[new_col] = df.groupby('foto_mes')[c].transform(to_percentile)\n"
     ]
    },
    {
     "name": "stdout",
     "output_type": "stream",
     "text": [
      "✅ Convertida Master_msaldopesos → Master_msaldopesos_pctl\n"
     ]
    },
    {
     "name": "stderr",
     "output_type": "stream",
     "text": [
      "/tmp/ipykernel_7198/2277465782.py:23: PerformanceWarning: DataFrame is highly fragmented.  This is usually the result of calling `frame.insert` many times, which has poor performance.  Consider joining all columns at once using pd.concat(axis=1) instead. To get a de-fragmented frame, use `newframe = frame.copy()`\n",
      "  df[new_col] = df.groupby('foto_mes')[c].transform(to_percentile)\n"
     ]
    },
    {
     "name": "stdout",
     "output_type": "stream",
     "text": [
      "✅ Convertida Master_msaldodolares → Master_msaldodolares_pctl\n"
     ]
    },
    {
     "name": "stderr",
     "output_type": "stream",
     "text": [
      "/tmp/ipykernel_7198/2277465782.py:23: PerformanceWarning: DataFrame is highly fragmented.  This is usually the result of calling `frame.insert` many times, which has poor performance.  Consider joining all columns at once using pd.concat(axis=1) instead. To get a de-fragmented frame, use `newframe = frame.copy()`\n",
      "  df[new_col] = df.groupby('foto_mes')[c].transform(to_percentile)\n"
     ]
    },
    {
     "name": "stdout",
     "output_type": "stream",
     "text": [
      "✅ Convertida Master_mconsumospesos → Master_mconsumospesos_pctl\n"
     ]
    },
    {
     "name": "stderr",
     "output_type": "stream",
     "text": [
      "/tmp/ipykernel_7198/2277465782.py:23: PerformanceWarning: DataFrame is highly fragmented.  This is usually the result of calling `frame.insert` many times, which has poor performance.  Consider joining all columns at once using pd.concat(axis=1) instead. To get a de-fragmented frame, use `newframe = frame.copy()`\n",
      "  df[new_col] = df.groupby('foto_mes')[c].transform(to_percentile)\n"
     ]
    },
    {
     "name": "stdout",
     "output_type": "stream",
     "text": [
      "✅ Convertida Master_mconsumosdolares → Master_mconsumosdolares_pctl\n"
     ]
    },
    {
     "name": "stderr",
     "output_type": "stream",
     "text": [
      "/tmp/ipykernel_7198/2277465782.py:23: PerformanceWarning: DataFrame is highly fragmented.  This is usually the result of calling `frame.insert` many times, which has poor performance.  Consider joining all columns at once using pd.concat(axis=1) instead. To get a de-fragmented frame, use `newframe = frame.copy()`\n",
      "  df[new_col] = df.groupby('foto_mes')[c].transform(to_percentile)\n"
     ]
    },
    {
     "name": "stdout",
     "output_type": "stream",
     "text": [
      "✅ Convertida Master_mlimitecompra → Master_mlimitecompra_pctl\n"
     ]
    },
    {
     "name": "stderr",
     "output_type": "stream",
     "text": [
      "/tmp/ipykernel_7198/2277465782.py:23: PerformanceWarning: DataFrame is highly fragmented.  This is usually the result of calling `frame.insert` many times, which has poor performance.  Consider joining all columns at once using pd.concat(axis=1) instead. To get a de-fragmented frame, use `newframe = frame.copy()`\n",
      "  df[new_col] = df.groupby('foto_mes')[c].transform(to_percentile)\n"
     ]
    },
    {
     "name": "stdout",
     "output_type": "stream",
     "text": [
      "✅ Convertida Master_madelantopesos → Master_madelantopesos_pctl\n"
     ]
    },
    {
     "name": "stderr",
     "output_type": "stream",
     "text": [
      "/tmp/ipykernel_7198/2277465782.py:23: PerformanceWarning: DataFrame is highly fragmented.  This is usually the result of calling `frame.insert` many times, which has poor performance.  Consider joining all columns at once using pd.concat(axis=1) instead. To get a de-fragmented frame, use `newframe = frame.copy()`\n",
      "  df[new_col] = df.groupby('foto_mes')[c].transform(to_percentile)\n"
     ]
    },
    {
     "name": "stdout",
     "output_type": "stream",
     "text": [
      "✅ Convertida Master_madelantodolares → Master_madelantodolares_pctl\n"
     ]
    },
    {
     "name": "stderr",
     "output_type": "stream",
     "text": [
      "/tmp/ipykernel_7198/2277465782.py:23: PerformanceWarning: DataFrame is highly fragmented.  This is usually the result of calling `frame.insert` many times, which has poor performance.  Consider joining all columns at once using pd.concat(axis=1) instead. To get a de-fragmented frame, use `newframe = frame.copy()`\n",
      "  df[new_col] = df.groupby('foto_mes')[c].transform(to_percentile)\n"
     ]
    },
    {
     "name": "stdout",
     "output_type": "stream",
     "text": [
      "✅ Convertida Master_fultimo_cierre → Master_fultimo_cierre_pctl\n"
     ]
    },
    {
     "name": "stderr",
     "output_type": "stream",
     "text": [
      "/tmp/ipykernel_7198/2277465782.py:23: PerformanceWarning: DataFrame is highly fragmented.  This is usually the result of calling `frame.insert` many times, which has poor performance.  Consider joining all columns at once using pd.concat(axis=1) instead. To get a de-fragmented frame, use `newframe = frame.copy()`\n",
      "  df[new_col] = df.groupby('foto_mes')[c].transform(to_percentile)\n"
     ]
    },
    {
     "name": "stdout",
     "output_type": "stream",
     "text": [
      "✅ Convertida Master_mpagado → Master_mpagado_pctl\n"
     ]
    },
    {
     "name": "stderr",
     "output_type": "stream",
     "text": [
      "/tmp/ipykernel_7198/2277465782.py:23: PerformanceWarning: DataFrame is highly fragmented.  This is usually the result of calling `frame.insert` many times, which has poor performance.  Consider joining all columns at once using pd.concat(axis=1) instead. To get a de-fragmented frame, use `newframe = frame.copy()`\n",
      "  df[new_col] = df.groupby('foto_mes')[c].transform(to_percentile)\n"
     ]
    },
    {
     "name": "stdout",
     "output_type": "stream",
     "text": [
      "✅ Convertida Master_mpagospesos → Master_mpagospesos_pctl\n"
     ]
    },
    {
     "name": "stderr",
     "output_type": "stream",
     "text": [
      "/tmp/ipykernel_7198/2277465782.py:23: PerformanceWarning: DataFrame is highly fragmented.  This is usually the result of calling `frame.insert` many times, which has poor performance.  Consider joining all columns at once using pd.concat(axis=1) instead. To get a de-fragmented frame, use `newframe = frame.copy()`\n",
      "  df[new_col] = df.groupby('foto_mes')[c].transform(to_percentile)\n"
     ]
    },
    {
     "name": "stdout",
     "output_type": "stream",
     "text": [
      "✅ Convertida Master_mpagosdolares → Master_mpagosdolares_pctl\n"
     ]
    },
    {
     "name": "stderr",
     "output_type": "stream",
     "text": [
      "/tmp/ipykernel_7198/2277465782.py:23: PerformanceWarning: DataFrame is highly fragmented.  This is usually the result of calling `frame.insert` many times, which has poor performance.  Consider joining all columns at once using pd.concat(axis=1) instead. To get a de-fragmented frame, use `newframe = frame.copy()`\n",
      "  df[new_col] = df.groupby('foto_mes')[c].transform(to_percentile)\n"
     ]
    },
    {
     "name": "stdout",
     "output_type": "stream",
     "text": [
      "✅ Convertida Master_fechaalta → Master_fechaalta_pctl\n"
     ]
    },
    {
     "name": "stderr",
     "output_type": "stream",
     "text": [
      "/tmp/ipykernel_7198/2277465782.py:23: PerformanceWarning: DataFrame is highly fragmented.  This is usually the result of calling `frame.insert` many times, which has poor performance.  Consider joining all columns at once using pd.concat(axis=1) instead. To get a de-fragmented frame, use `newframe = frame.copy()`\n",
      "  df[new_col] = df.groupby('foto_mes')[c].transform(to_percentile)\n"
     ]
    },
    {
     "name": "stdout",
     "output_type": "stream",
     "text": [
      "✅ Convertida Master_mconsumototal → Master_mconsumototal_pctl\n"
     ]
    },
    {
     "name": "stderr",
     "output_type": "stream",
     "text": [
      "/tmp/ipykernel_7198/2277465782.py:23: PerformanceWarning: DataFrame is highly fragmented.  This is usually the result of calling `frame.insert` many times, which has poor performance.  Consider joining all columns at once using pd.concat(axis=1) instead. To get a de-fragmented frame, use `newframe = frame.copy()`\n",
      "  df[new_col] = df.groupby('foto_mes')[c].transform(to_percentile)\n"
     ]
    },
    {
     "name": "stdout",
     "output_type": "stream",
     "text": [
      "✅ Convertida Master_cconsumos → Master_cconsumos_pctl\n"
     ]
    },
    {
     "name": "stderr",
     "output_type": "stream",
     "text": [
      "/tmp/ipykernel_7198/2277465782.py:23: PerformanceWarning: DataFrame is highly fragmented.  This is usually the result of calling `frame.insert` many times, which has poor performance.  Consider joining all columns at once using pd.concat(axis=1) instead. To get a de-fragmented frame, use `newframe = frame.copy()`\n",
      "  df[new_col] = df.groupby('foto_mes')[c].transform(to_percentile)\n"
     ]
    },
    {
     "name": "stdout",
     "output_type": "stream",
     "text": [
      "✅ Convertida Master_cadelantosefectivo → Master_cadelantosefectivo_pctl\n"
     ]
    },
    {
     "name": "stderr",
     "output_type": "stream",
     "text": [
      "/tmp/ipykernel_7198/2277465782.py:23: PerformanceWarning: DataFrame is highly fragmented.  This is usually the result of calling `frame.insert` many times, which has poor performance.  Consider joining all columns at once using pd.concat(axis=1) instead. To get a de-fragmented frame, use `newframe = frame.copy()`\n",
      "  df[new_col] = df.groupby('foto_mes')[c].transform(to_percentile)\n"
     ]
    },
    {
     "name": "stdout",
     "output_type": "stream",
     "text": [
      "✅ Convertida Master_mpagominimo → Master_mpagominimo_pctl\n"
     ]
    },
    {
     "name": "stderr",
     "output_type": "stream",
     "text": [
      "/tmp/ipykernel_7198/2277465782.py:23: PerformanceWarning: DataFrame is highly fragmented.  This is usually the result of calling `frame.insert` many times, which has poor performance.  Consider joining all columns at once using pd.concat(axis=1) instead. To get a de-fragmented frame, use `newframe = frame.copy()`\n",
      "  df[new_col] = df.groupby('foto_mes')[c].transform(to_percentile)\n"
     ]
    },
    {
     "name": "stdout",
     "output_type": "stream",
     "text": [
      "✅ Convertida Visa_delinquency → Visa_delinquency_pctl\n"
     ]
    },
    {
     "name": "stderr",
     "output_type": "stream",
     "text": [
      "/tmp/ipykernel_7198/2277465782.py:23: PerformanceWarning: DataFrame is highly fragmented.  This is usually the result of calling `frame.insert` many times, which has poor performance.  Consider joining all columns at once using pd.concat(axis=1) instead. To get a de-fragmented frame, use `newframe = frame.copy()`\n",
      "  df[new_col] = df.groupby('foto_mes')[c].transform(to_percentile)\n"
     ]
    },
    {
     "name": "stdout",
     "output_type": "stream",
     "text": [
      "✅ Convertida Visa_status → Visa_status_pctl\n"
     ]
    },
    {
     "name": "stderr",
     "output_type": "stream",
     "text": [
      "/tmp/ipykernel_7198/2277465782.py:23: PerformanceWarning: DataFrame is highly fragmented.  This is usually the result of calling `frame.insert` many times, which has poor performance.  Consider joining all columns at once using pd.concat(axis=1) instead. To get a de-fragmented frame, use `newframe = frame.copy()`\n",
      "  df[new_col] = df.groupby('foto_mes')[c].transform(to_percentile)\n"
     ]
    },
    {
     "name": "stdout",
     "output_type": "stream",
     "text": [
      "✅ Convertida Visa_mfinanciacion_limite → Visa_mfinanciacion_limite_pctl\n"
     ]
    },
    {
     "name": "stderr",
     "output_type": "stream",
     "text": [
      "/tmp/ipykernel_7198/2277465782.py:23: PerformanceWarning: DataFrame is highly fragmented.  This is usually the result of calling `frame.insert` many times, which has poor performance.  Consider joining all columns at once using pd.concat(axis=1) instead. To get a de-fragmented frame, use `newframe = frame.copy()`\n",
      "  df[new_col] = df.groupby('foto_mes')[c].transform(to_percentile)\n"
     ]
    },
    {
     "name": "stdout",
     "output_type": "stream",
     "text": [
      "✅ Convertida Visa_Fvencimiento → Visa_Fvencimiento_pctl\n"
     ]
    },
    {
     "name": "stderr",
     "output_type": "stream",
     "text": [
      "/tmp/ipykernel_7198/2277465782.py:23: PerformanceWarning: DataFrame is highly fragmented.  This is usually the result of calling `frame.insert` many times, which has poor performance.  Consider joining all columns at once using pd.concat(axis=1) instead. To get a de-fragmented frame, use `newframe = frame.copy()`\n",
      "  df[new_col] = df.groupby('foto_mes')[c].transform(to_percentile)\n"
     ]
    },
    {
     "name": "stdout",
     "output_type": "stream",
     "text": [
      "✅ Convertida Visa_Finiciomora → Visa_Finiciomora_pctl\n"
     ]
    },
    {
     "name": "stderr",
     "output_type": "stream",
     "text": [
      "/tmp/ipykernel_7198/2277465782.py:23: PerformanceWarning: DataFrame is highly fragmented.  This is usually the result of calling `frame.insert` many times, which has poor performance.  Consider joining all columns at once using pd.concat(axis=1) instead. To get a de-fragmented frame, use `newframe = frame.copy()`\n",
      "  df[new_col] = df.groupby('foto_mes')[c].transform(to_percentile)\n"
     ]
    },
    {
     "name": "stdout",
     "output_type": "stream",
     "text": [
      "✅ Convertida Visa_msaldototal → Visa_msaldototal_pctl\n"
     ]
    },
    {
     "name": "stderr",
     "output_type": "stream",
     "text": [
      "/tmp/ipykernel_7198/2277465782.py:23: PerformanceWarning: DataFrame is highly fragmented.  This is usually the result of calling `frame.insert` many times, which has poor performance.  Consider joining all columns at once using pd.concat(axis=1) instead. To get a de-fragmented frame, use `newframe = frame.copy()`\n",
      "  df[new_col] = df.groupby('foto_mes')[c].transform(to_percentile)\n"
     ]
    },
    {
     "name": "stdout",
     "output_type": "stream",
     "text": [
      "✅ Convertida Visa_msaldopesos → Visa_msaldopesos_pctl\n"
     ]
    },
    {
     "name": "stderr",
     "output_type": "stream",
     "text": [
      "/tmp/ipykernel_7198/2277465782.py:23: PerformanceWarning: DataFrame is highly fragmented.  This is usually the result of calling `frame.insert` many times, which has poor performance.  Consider joining all columns at once using pd.concat(axis=1) instead. To get a de-fragmented frame, use `newframe = frame.copy()`\n",
      "  df[new_col] = df.groupby('foto_mes')[c].transform(to_percentile)\n"
     ]
    },
    {
     "name": "stdout",
     "output_type": "stream",
     "text": [
      "✅ Convertida Visa_msaldodolares → Visa_msaldodolares_pctl\n"
     ]
    },
    {
     "name": "stderr",
     "output_type": "stream",
     "text": [
      "/tmp/ipykernel_7198/2277465782.py:23: PerformanceWarning: DataFrame is highly fragmented.  This is usually the result of calling `frame.insert` many times, which has poor performance.  Consider joining all columns at once using pd.concat(axis=1) instead. To get a de-fragmented frame, use `newframe = frame.copy()`\n",
      "  df[new_col] = df.groupby('foto_mes')[c].transform(to_percentile)\n"
     ]
    },
    {
     "name": "stdout",
     "output_type": "stream",
     "text": [
      "✅ Convertida Visa_mconsumospesos → Visa_mconsumospesos_pctl\n"
     ]
    },
    {
     "name": "stderr",
     "output_type": "stream",
     "text": [
      "/tmp/ipykernel_7198/2277465782.py:23: PerformanceWarning: DataFrame is highly fragmented.  This is usually the result of calling `frame.insert` many times, which has poor performance.  Consider joining all columns at once using pd.concat(axis=1) instead. To get a de-fragmented frame, use `newframe = frame.copy()`\n",
      "  df[new_col] = df.groupby('foto_mes')[c].transform(to_percentile)\n"
     ]
    },
    {
     "name": "stdout",
     "output_type": "stream",
     "text": [
      "✅ Convertida Visa_mconsumosdolares → Visa_mconsumosdolares_pctl\n"
     ]
    },
    {
     "name": "stderr",
     "output_type": "stream",
     "text": [
      "/tmp/ipykernel_7198/2277465782.py:23: PerformanceWarning: DataFrame is highly fragmented.  This is usually the result of calling `frame.insert` many times, which has poor performance.  Consider joining all columns at once using pd.concat(axis=1) instead. To get a de-fragmented frame, use `newframe = frame.copy()`\n",
      "  df[new_col] = df.groupby('foto_mes')[c].transform(to_percentile)\n"
     ]
    },
    {
     "name": "stdout",
     "output_type": "stream",
     "text": [
      "✅ Convertida Visa_mlimitecompra → Visa_mlimitecompra_pctl\n"
     ]
    },
    {
     "name": "stderr",
     "output_type": "stream",
     "text": [
      "/tmp/ipykernel_7198/2277465782.py:23: PerformanceWarning: DataFrame is highly fragmented.  This is usually the result of calling `frame.insert` many times, which has poor performance.  Consider joining all columns at once using pd.concat(axis=1) instead. To get a de-fragmented frame, use `newframe = frame.copy()`\n",
      "  df[new_col] = df.groupby('foto_mes')[c].transform(to_percentile)\n"
     ]
    },
    {
     "name": "stdout",
     "output_type": "stream",
     "text": [
      "✅ Convertida Visa_madelantopesos → Visa_madelantopesos_pctl\n"
     ]
    },
    {
     "name": "stderr",
     "output_type": "stream",
     "text": [
      "/tmp/ipykernel_7198/2277465782.py:23: PerformanceWarning: DataFrame is highly fragmented.  This is usually the result of calling `frame.insert` many times, which has poor performance.  Consider joining all columns at once using pd.concat(axis=1) instead. To get a de-fragmented frame, use `newframe = frame.copy()`\n",
      "  df[new_col] = df.groupby('foto_mes')[c].transform(to_percentile)\n"
     ]
    },
    {
     "name": "stdout",
     "output_type": "stream",
     "text": [
      "✅ Convertida Visa_madelantodolares → Visa_madelantodolares_pctl\n"
     ]
    },
    {
     "name": "stderr",
     "output_type": "stream",
     "text": [
      "/tmp/ipykernel_7198/2277465782.py:23: PerformanceWarning: DataFrame is highly fragmented.  This is usually the result of calling `frame.insert` many times, which has poor performance.  Consider joining all columns at once using pd.concat(axis=1) instead. To get a de-fragmented frame, use `newframe = frame.copy()`\n",
      "  df[new_col] = df.groupby('foto_mes')[c].transform(to_percentile)\n"
     ]
    },
    {
     "name": "stdout",
     "output_type": "stream",
     "text": [
      "✅ Convertida Visa_fultimo_cierre → Visa_fultimo_cierre_pctl\n"
     ]
    },
    {
     "name": "stderr",
     "output_type": "stream",
     "text": [
      "/tmp/ipykernel_7198/2277465782.py:23: PerformanceWarning: DataFrame is highly fragmented.  This is usually the result of calling `frame.insert` many times, which has poor performance.  Consider joining all columns at once using pd.concat(axis=1) instead. To get a de-fragmented frame, use `newframe = frame.copy()`\n",
      "  df[new_col] = df.groupby('foto_mes')[c].transform(to_percentile)\n"
     ]
    },
    {
     "name": "stdout",
     "output_type": "stream",
     "text": [
      "✅ Convertida Visa_mpagado → Visa_mpagado_pctl\n"
     ]
    },
    {
     "name": "stderr",
     "output_type": "stream",
     "text": [
      "/tmp/ipykernel_7198/2277465782.py:23: PerformanceWarning: DataFrame is highly fragmented.  This is usually the result of calling `frame.insert` many times, which has poor performance.  Consider joining all columns at once using pd.concat(axis=1) instead. To get a de-fragmented frame, use `newframe = frame.copy()`\n",
      "  df[new_col] = df.groupby('foto_mes')[c].transform(to_percentile)\n"
     ]
    },
    {
     "name": "stdout",
     "output_type": "stream",
     "text": [
      "✅ Convertida Visa_mpagospesos → Visa_mpagospesos_pctl\n"
     ]
    },
    {
     "name": "stderr",
     "output_type": "stream",
     "text": [
      "/tmp/ipykernel_7198/2277465782.py:23: PerformanceWarning: DataFrame is highly fragmented.  This is usually the result of calling `frame.insert` many times, which has poor performance.  Consider joining all columns at once using pd.concat(axis=1) instead. To get a de-fragmented frame, use `newframe = frame.copy()`\n",
      "  df[new_col] = df.groupby('foto_mes')[c].transform(to_percentile)\n"
     ]
    },
    {
     "name": "stdout",
     "output_type": "stream",
     "text": [
      "✅ Convertida Visa_mpagosdolares → Visa_mpagosdolares_pctl\n"
     ]
    },
    {
     "name": "stderr",
     "output_type": "stream",
     "text": [
      "/tmp/ipykernel_7198/2277465782.py:23: PerformanceWarning: DataFrame is highly fragmented.  This is usually the result of calling `frame.insert` many times, which has poor performance.  Consider joining all columns at once using pd.concat(axis=1) instead. To get a de-fragmented frame, use `newframe = frame.copy()`\n",
      "  df[new_col] = df.groupby('foto_mes')[c].transform(to_percentile)\n"
     ]
    },
    {
     "name": "stdout",
     "output_type": "stream",
     "text": [
      "✅ Convertida Visa_fechaalta → Visa_fechaalta_pctl\n"
     ]
    },
    {
     "name": "stderr",
     "output_type": "stream",
     "text": [
      "/tmp/ipykernel_7198/2277465782.py:23: PerformanceWarning: DataFrame is highly fragmented.  This is usually the result of calling `frame.insert` many times, which has poor performance.  Consider joining all columns at once using pd.concat(axis=1) instead. To get a de-fragmented frame, use `newframe = frame.copy()`\n",
      "  df[new_col] = df.groupby('foto_mes')[c].transform(to_percentile)\n"
     ]
    },
    {
     "name": "stdout",
     "output_type": "stream",
     "text": [
      "✅ Convertida Visa_mconsumototal → Visa_mconsumototal_pctl\n"
     ]
    },
    {
     "name": "stderr",
     "output_type": "stream",
     "text": [
      "/tmp/ipykernel_7198/2277465782.py:23: PerformanceWarning: DataFrame is highly fragmented.  This is usually the result of calling `frame.insert` many times, which has poor performance.  Consider joining all columns at once using pd.concat(axis=1) instead. To get a de-fragmented frame, use `newframe = frame.copy()`\n",
      "  df[new_col] = df.groupby('foto_mes')[c].transform(to_percentile)\n"
     ]
    },
    {
     "name": "stdout",
     "output_type": "stream",
     "text": [
      "✅ Convertida Visa_cconsumos → Visa_cconsumos_pctl\n"
     ]
    },
    {
     "name": "stderr",
     "output_type": "stream",
     "text": [
      "/tmp/ipykernel_7198/2277465782.py:23: PerformanceWarning: DataFrame is highly fragmented.  This is usually the result of calling `frame.insert` many times, which has poor performance.  Consider joining all columns at once using pd.concat(axis=1) instead. To get a de-fragmented frame, use `newframe = frame.copy()`\n",
      "  df[new_col] = df.groupby('foto_mes')[c].transform(to_percentile)\n"
     ]
    },
    {
     "name": "stdout",
     "output_type": "stream",
     "text": [
      "✅ Convertida Visa_cadelantosefectivo → Visa_cadelantosefectivo_pctl\n"
     ]
    },
    {
     "name": "stderr",
     "output_type": "stream",
     "text": [
      "/tmp/ipykernel_7198/2277465782.py:23: PerformanceWarning: DataFrame is highly fragmented.  This is usually the result of calling `frame.insert` many times, which has poor performance.  Consider joining all columns at once using pd.concat(axis=1) instead. To get a de-fragmented frame, use `newframe = frame.copy()`\n",
      "  df[new_col] = df.groupby('foto_mes')[c].transform(to_percentile)\n"
     ]
    },
    {
     "name": "stdout",
     "output_type": "stream",
     "text": [
      "✅ Convertida Visa_mpagominimo → Visa_mpagominimo_pctl\n",
      "\n",
      "Total columnas convertidas: 152\n"
     ]
    }
   ],
   "source": [
    "\n",
    "import pandas as pd\n",
    "import numpy as np\n",
    "\n",
    "# Asegurar orden temporal\n",
    "df = df.sort_values(['foto_mes', 'numero_de_cliente']).reset_index(drop=True)\n",
    "\n",
    "# Detectar columnas numéricas que no son ID ni target\n",
    "num_cols = [\n",
    "    c for c in df.columns\n",
    "    if c not in ['numero_de_cliente', 'foto_mes', 'clase_ternaria', 'target','clase_peso']\n",
    "    and pd.api.types.is_numeric_dtype(df[c])\n",
    "]\n",
    "\n",
    "\n",
    "# Función auxiliar: asigna centil por grupo\n",
    "def to_percentile(series):\n",
    "    # rank(pct=True) da un rango [0,1] → lo escalamos a 0–100\n",
    "    return (series.rank(pct=True) * 100).astype(np.float32)\n",
    "\n",
    "# Aplicar por mes y reemplazar\n",
    "for c in num_cols:\n",
    "    new_col = f'{c}_pctl'\n",
    "    df[new_col] = df.groupby('foto_mes')[c].transform(to_percentile)\n",
    "    df.drop(columns=[c], inplace=True)  # eliminar la original\n",
    "    print(f\"✅ Convertida {c} → {new_col}\")\n",
    "\n",
    "print(f\"\\nTotal columnas convertidas: {len(num_cols)}\")\n"
   ]
  },
  {
   "cell_type": "code",
   "execution_count": 8,
   "id": "f9f9684c",
   "metadata": {},
   "outputs": [
    {
     "name": "stderr",
     "output_type": "stream",
     "text": [
      "/tmp/ipykernel_7198/3416244142.py:19: PerformanceWarning: DataFrame is highly fragmented.  This is usually the result of calling `frame.insert` many times, which has poor performance.  Consider joining all columns at once using pd.concat(axis=1) instead. To get a de-fragmented frame, use `newframe = frame.copy()`\n",
      "  df[f'{c}_dlag{n}'] = df[c] - lag\n",
      "/tmp/ipykernel_7198/3416244142.py:18: PerformanceWarning: DataFrame is highly fragmented.  This is usually the result of calling `frame.insert` many times, which has poor performance.  Consider joining all columns at once using pd.concat(axis=1) instead. To get a de-fragmented frame, use `newframe = frame.copy()`\n",
      "  df[f'{c}_lag{n}']  = lag\n",
      "/tmp/ipykernel_7198/3416244142.py:19: PerformanceWarning: DataFrame is highly fragmented.  This is usually the result of calling `frame.insert` many times, which has poor performance.  Consider joining all columns at once using pd.concat(axis=1) instead. To get a de-fragmented frame, use `newframe = frame.copy()`\n",
      "  df[f'{c}_dlag{n}'] = df[c] - lag\n",
      "/tmp/ipykernel_7198/3416244142.py:18: PerformanceWarning: DataFrame is highly fragmented.  This is usually the result of calling `frame.insert` many times, which has poor performance.  Consider joining all columns at once using pd.concat(axis=1) instead. To get a de-fragmented frame, use `newframe = frame.copy()`\n",
      "  df[f'{c}_lag{n}']  = lag\n",
      "/tmp/ipykernel_7198/3416244142.py:19: PerformanceWarning: DataFrame is highly fragmented.  This is usually the result of calling `frame.insert` many times, which has poor performance.  Consider joining all columns at once using pd.concat(axis=1) instead. To get a de-fragmented frame, use `newframe = frame.copy()`\n",
      "  df[f'{c}_dlag{n}'] = df[c] - lag\n",
      "/tmp/ipykernel_7198/3416244142.py:18: PerformanceWarning: DataFrame is highly fragmented.  This is usually the result of calling `frame.insert` many times, which has poor performance.  Consider joining all columns at once using pd.concat(axis=1) instead. To get a de-fragmented frame, use `newframe = frame.copy()`\n",
      "  df[f'{c}_lag{n}']  = lag\n",
      "/tmp/ipykernel_7198/3416244142.py:19: PerformanceWarning: DataFrame is highly fragmented.  This is usually the result of calling `frame.insert` many times, which has poor performance.  Consider joining all columns at once using pd.concat(axis=1) instead. To get a de-fragmented frame, use `newframe = frame.copy()`\n",
      "  df[f'{c}_dlag{n}'] = df[c] - lag\n",
      "/tmp/ipykernel_7198/3416244142.py:18: PerformanceWarning: DataFrame is highly fragmented.  This is usually the result of calling `frame.insert` many times, which has poor performance.  Consider joining all columns at once using pd.concat(axis=1) instead. To get a de-fragmented frame, use `newframe = frame.copy()`\n",
      "  df[f'{c}_lag{n}']  = lag\n",
      "/tmp/ipykernel_7198/3416244142.py:19: PerformanceWarning: DataFrame is highly fragmented.  This is usually the result of calling `frame.insert` many times, which has poor performance.  Consider joining all columns at once using pd.concat(axis=1) instead. To get a de-fragmented frame, use `newframe = frame.copy()`\n",
      "  df[f'{c}_dlag{n}'] = df[c] - lag\n",
      "/tmp/ipykernel_7198/3416244142.py:18: PerformanceWarning: DataFrame is highly fragmented.  This is usually the result of calling `frame.insert` many times, which has poor performance.  Consider joining all columns at once using pd.concat(axis=1) instead. To get a de-fragmented frame, use `newframe = frame.copy()`\n",
      "  df[f'{c}_lag{n}']  = lag\n",
      "/tmp/ipykernel_7198/3416244142.py:19: PerformanceWarning: DataFrame is highly fragmented.  This is usually the result of calling `frame.insert` many times, which has poor performance.  Consider joining all columns at once using pd.concat(axis=1) instead. To get a de-fragmented frame, use `newframe = frame.copy()`\n",
      "  df[f'{c}_dlag{n}'] = df[c] - lag\n",
      "/tmp/ipykernel_7198/3416244142.py:18: PerformanceWarning: DataFrame is highly fragmented.  This is usually the result of calling `frame.insert` many times, which has poor performance.  Consider joining all columns at once using pd.concat(axis=1) instead. To get a de-fragmented frame, use `newframe = frame.copy()`\n",
      "  df[f'{c}_lag{n}']  = lag\n",
      "/tmp/ipykernel_7198/3416244142.py:19: PerformanceWarning: DataFrame is highly fragmented.  This is usually the result of calling `frame.insert` many times, which has poor performance.  Consider joining all columns at once using pd.concat(axis=1) instead. To get a de-fragmented frame, use `newframe = frame.copy()`\n",
      "  df[f'{c}_dlag{n}'] = df[c] - lag\n",
      "/tmp/ipykernel_7198/3416244142.py:18: PerformanceWarning: DataFrame is highly fragmented.  This is usually the result of calling `frame.insert` many times, which has poor performance.  Consider joining all columns at once using pd.concat(axis=1) instead. To get a de-fragmented frame, use `newframe = frame.copy()`\n",
      "  df[f'{c}_lag{n}']  = lag\n",
      "/tmp/ipykernel_7198/3416244142.py:19: PerformanceWarning: DataFrame is highly fragmented.  This is usually the result of calling `frame.insert` many times, which has poor performance.  Consider joining all columns at once using pd.concat(axis=1) instead. To get a de-fragmented frame, use `newframe = frame.copy()`\n",
      "  df[f'{c}_dlag{n}'] = df[c] - lag\n",
      "/tmp/ipykernel_7198/3416244142.py:18: PerformanceWarning: DataFrame is highly fragmented.  This is usually the result of calling `frame.insert` many times, which has poor performance.  Consider joining all columns at once using pd.concat(axis=1) instead. To get a de-fragmented frame, use `newframe = frame.copy()`\n",
      "  df[f'{c}_lag{n}']  = lag\n",
      "/tmp/ipykernel_7198/3416244142.py:19: PerformanceWarning: DataFrame is highly fragmented.  This is usually the result of calling `frame.insert` many times, which has poor performance.  Consider joining all columns at once using pd.concat(axis=1) instead. To get a de-fragmented frame, use `newframe = frame.copy()`\n",
      "  df[f'{c}_dlag{n}'] = df[c] - lag\n",
      "/tmp/ipykernel_7198/3416244142.py:18: PerformanceWarning: DataFrame is highly fragmented.  This is usually the result of calling `frame.insert` many times, which has poor performance.  Consider joining all columns at once using pd.concat(axis=1) instead. To get a de-fragmented frame, use `newframe = frame.copy()`\n",
      "  df[f'{c}_lag{n}']  = lag\n",
      "/tmp/ipykernel_7198/3416244142.py:19: PerformanceWarning: DataFrame is highly fragmented.  This is usually the result of calling `frame.insert` many times, which has poor performance.  Consider joining all columns at once using pd.concat(axis=1) instead. To get a de-fragmented frame, use `newframe = frame.copy()`\n",
      "  df[f'{c}_dlag{n}'] = df[c] - lag\n",
      "/tmp/ipykernel_7198/3416244142.py:18: PerformanceWarning: DataFrame is highly fragmented.  This is usually the result of calling `frame.insert` many times, which has poor performance.  Consider joining all columns at once using pd.concat(axis=1) instead. To get a de-fragmented frame, use `newframe = frame.copy()`\n",
      "  df[f'{c}_lag{n}']  = lag\n",
      "/tmp/ipykernel_7198/3416244142.py:19: PerformanceWarning: DataFrame is highly fragmented.  This is usually the result of calling `frame.insert` many times, which has poor performance.  Consider joining all columns at once using pd.concat(axis=1) instead. To get a de-fragmented frame, use `newframe = frame.copy()`\n",
      "  df[f'{c}_dlag{n}'] = df[c] - lag\n",
      "/tmp/ipykernel_7198/3416244142.py:18: PerformanceWarning: DataFrame is highly fragmented.  This is usually the result of calling `frame.insert` many times, which has poor performance.  Consider joining all columns at once using pd.concat(axis=1) instead. To get a de-fragmented frame, use `newframe = frame.copy()`\n",
      "  df[f'{c}_lag{n}']  = lag\n",
      "/tmp/ipykernel_7198/3416244142.py:19: PerformanceWarning: DataFrame is highly fragmented.  This is usually the result of calling `frame.insert` many times, which has poor performance.  Consider joining all columns at once using pd.concat(axis=1) instead. To get a de-fragmented frame, use `newframe = frame.copy()`\n",
      "  df[f'{c}_dlag{n}'] = df[c] - lag\n",
      "/tmp/ipykernel_7198/3416244142.py:18: PerformanceWarning: DataFrame is highly fragmented.  This is usually the result of calling `frame.insert` many times, which has poor performance.  Consider joining all columns at once using pd.concat(axis=1) instead. To get a de-fragmented frame, use `newframe = frame.copy()`\n",
      "  df[f'{c}_lag{n}']  = lag\n",
      "/tmp/ipykernel_7198/3416244142.py:19: PerformanceWarning: DataFrame is highly fragmented.  This is usually the result of calling `frame.insert` many times, which has poor performance.  Consider joining all columns at once using pd.concat(axis=1) instead. To get a de-fragmented frame, use `newframe = frame.copy()`\n",
      "  df[f'{c}_dlag{n}'] = df[c] - lag\n",
      "/tmp/ipykernel_7198/3416244142.py:18: PerformanceWarning: DataFrame is highly fragmented.  This is usually the result of calling `frame.insert` many times, which has poor performance.  Consider joining all columns at once using pd.concat(axis=1) instead. To get a de-fragmented frame, use `newframe = frame.copy()`\n",
      "  df[f'{c}_lag{n}']  = lag\n",
      "/tmp/ipykernel_7198/3416244142.py:19: PerformanceWarning: DataFrame is highly fragmented.  This is usually the result of calling `frame.insert` many times, which has poor performance.  Consider joining all columns at once using pd.concat(axis=1) instead. To get a de-fragmented frame, use `newframe = frame.copy()`\n",
      "  df[f'{c}_dlag{n}'] = df[c] - lag\n",
      "/tmp/ipykernel_7198/3416244142.py:18: PerformanceWarning: DataFrame is highly fragmented.  This is usually the result of calling `frame.insert` many times, which has poor performance.  Consider joining all columns at once using pd.concat(axis=1) instead. To get a de-fragmented frame, use `newframe = frame.copy()`\n",
      "  df[f'{c}_lag{n}']  = lag\n",
      "/tmp/ipykernel_7198/3416244142.py:19: PerformanceWarning: DataFrame is highly fragmented.  This is usually the result of calling `frame.insert` many times, which has poor performance.  Consider joining all columns at once using pd.concat(axis=1) instead. To get a de-fragmented frame, use `newframe = frame.copy()`\n",
      "  df[f'{c}_dlag{n}'] = df[c] - lag\n",
      "/tmp/ipykernel_7198/3416244142.py:18: PerformanceWarning: DataFrame is highly fragmented.  This is usually the result of calling `frame.insert` many times, which has poor performance.  Consider joining all columns at once using pd.concat(axis=1) instead. To get a de-fragmented frame, use `newframe = frame.copy()`\n",
      "  df[f'{c}_lag{n}']  = lag\n",
      "/tmp/ipykernel_7198/3416244142.py:19: PerformanceWarning: DataFrame is highly fragmented.  This is usually the result of calling `frame.insert` many times, which has poor performance.  Consider joining all columns at once using pd.concat(axis=1) instead. To get a de-fragmented frame, use `newframe = frame.copy()`\n",
      "  df[f'{c}_dlag{n}'] = df[c] - lag\n",
      "/tmp/ipykernel_7198/3416244142.py:18: PerformanceWarning: DataFrame is highly fragmented.  This is usually the result of calling `frame.insert` many times, which has poor performance.  Consider joining all columns at once using pd.concat(axis=1) instead. To get a de-fragmented frame, use `newframe = frame.copy()`\n",
      "  df[f'{c}_lag{n}']  = lag\n",
      "/tmp/ipykernel_7198/3416244142.py:19: PerformanceWarning: DataFrame is highly fragmented.  This is usually the result of calling `frame.insert` many times, which has poor performance.  Consider joining all columns at once using pd.concat(axis=1) instead. To get a de-fragmented frame, use `newframe = frame.copy()`\n",
      "  df[f'{c}_dlag{n}'] = df[c] - lag\n",
      "/tmp/ipykernel_7198/3416244142.py:18: PerformanceWarning: DataFrame is highly fragmented.  This is usually the result of calling `frame.insert` many times, which has poor performance.  Consider joining all columns at once using pd.concat(axis=1) instead. To get a de-fragmented frame, use `newframe = frame.copy()`\n",
      "  df[f'{c}_lag{n}']  = lag\n",
      "/tmp/ipykernel_7198/3416244142.py:19: PerformanceWarning: DataFrame is highly fragmented.  This is usually the result of calling `frame.insert` many times, which has poor performance.  Consider joining all columns at once using pd.concat(axis=1) instead. To get a de-fragmented frame, use `newframe = frame.copy()`\n",
      "  df[f'{c}_dlag{n}'] = df[c] - lag\n",
      "/tmp/ipykernel_7198/3416244142.py:18: PerformanceWarning: DataFrame is highly fragmented.  This is usually the result of calling `frame.insert` many times, which has poor performance.  Consider joining all columns at once using pd.concat(axis=1) instead. To get a de-fragmented frame, use `newframe = frame.copy()`\n",
      "  df[f'{c}_lag{n}']  = lag\n",
      "/tmp/ipykernel_7198/3416244142.py:19: PerformanceWarning: DataFrame is highly fragmented.  This is usually the result of calling `frame.insert` many times, which has poor performance.  Consider joining all columns at once using pd.concat(axis=1) instead. To get a de-fragmented frame, use `newframe = frame.copy()`\n",
      "  df[f'{c}_dlag{n}'] = df[c] - lag\n",
      "/tmp/ipykernel_7198/3416244142.py:18: PerformanceWarning: DataFrame is highly fragmented.  This is usually the result of calling `frame.insert` many times, which has poor performance.  Consider joining all columns at once using pd.concat(axis=1) instead. To get a de-fragmented frame, use `newframe = frame.copy()`\n",
      "  df[f'{c}_lag{n}']  = lag\n",
      "/tmp/ipykernel_7198/3416244142.py:19: PerformanceWarning: DataFrame is highly fragmented.  This is usually the result of calling `frame.insert` many times, which has poor performance.  Consider joining all columns at once using pd.concat(axis=1) instead. To get a de-fragmented frame, use `newframe = frame.copy()`\n",
      "  df[f'{c}_dlag{n}'] = df[c] - lag\n",
      "/tmp/ipykernel_7198/3416244142.py:18: PerformanceWarning: DataFrame is highly fragmented.  This is usually the result of calling `frame.insert` many times, which has poor performance.  Consider joining all columns at once using pd.concat(axis=1) instead. To get a de-fragmented frame, use `newframe = frame.copy()`\n",
      "  df[f'{c}_lag{n}']  = lag\n",
      "/tmp/ipykernel_7198/3416244142.py:19: PerformanceWarning: DataFrame is highly fragmented.  This is usually the result of calling `frame.insert` many times, which has poor performance.  Consider joining all columns at once using pd.concat(axis=1) instead. To get a de-fragmented frame, use `newframe = frame.copy()`\n",
      "  df[f'{c}_dlag{n}'] = df[c] - lag\n",
      "/tmp/ipykernel_7198/3416244142.py:18: PerformanceWarning: DataFrame is highly fragmented.  This is usually the result of calling `frame.insert` many times, which has poor performance.  Consider joining all columns at once using pd.concat(axis=1) instead. To get a de-fragmented frame, use `newframe = frame.copy()`\n",
      "  df[f'{c}_lag{n}']  = lag\n",
      "/tmp/ipykernel_7198/3416244142.py:19: PerformanceWarning: DataFrame is highly fragmented.  This is usually the result of calling `frame.insert` many times, which has poor performance.  Consider joining all columns at once using pd.concat(axis=1) instead. To get a de-fragmented frame, use `newframe = frame.copy()`\n",
      "  df[f'{c}_dlag{n}'] = df[c] - lag\n",
      "/tmp/ipykernel_7198/3416244142.py:18: PerformanceWarning: DataFrame is highly fragmented.  This is usually the result of calling `frame.insert` many times, which has poor performance.  Consider joining all columns at once using pd.concat(axis=1) instead. To get a de-fragmented frame, use `newframe = frame.copy()`\n",
      "  df[f'{c}_lag{n}']  = lag\n",
      "/tmp/ipykernel_7198/3416244142.py:19: PerformanceWarning: DataFrame is highly fragmented.  This is usually the result of calling `frame.insert` many times, which has poor performance.  Consider joining all columns at once using pd.concat(axis=1) instead. To get a de-fragmented frame, use `newframe = frame.copy()`\n",
      "  df[f'{c}_dlag{n}'] = df[c] - lag\n",
      "/tmp/ipykernel_7198/3416244142.py:18: PerformanceWarning: DataFrame is highly fragmented.  This is usually the result of calling `frame.insert` many times, which has poor performance.  Consider joining all columns at once using pd.concat(axis=1) instead. To get a de-fragmented frame, use `newframe = frame.copy()`\n",
      "  df[f'{c}_lag{n}']  = lag\n",
      "/tmp/ipykernel_7198/3416244142.py:19: PerformanceWarning: DataFrame is highly fragmented.  This is usually the result of calling `frame.insert` many times, which has poor performance.  Consider joining all columns at once using pd.concat(axis=1) instead. To get a de-fragmented frame, use `newframe = frame.copy()`\n",
      "  df[f'{c}_dlag{n}'] = df[c] - lag\n",
      "/tmp/ipykernel_7198/3416244142.py:18: PerformanceWarning: DataFrame is highly fragmented.  This is usually the result of calling `frame.insert` many times, which has poor performance.  Consider joining all columns at once using pd.concat(axis=1) instead. To get a de-fragmented frame, use `newframe = frame.copy()`\n",
      "  df[f'{c}_lag{n}']  = lag\n",
      "/tmp/ipykernel_7198/3416244142.py:19: PerformanceWarning: DataFrame is highly fragmented.  This is usually the result of calling `frame.insert` many times, which has poor performance.  Consider joining all columns at once using pd.concat(axis=1) instead. To get a de-fragmented frame, use `newframe = frame.copy()`\n",
      "  df[f'{c}_dlag{n}'] = df[c] - lag\n",
      "/tmp/ipykernel_7198/3416244142.py:18: PerformanceWarning: DataFrame is highly fragmented.  This is usually the result of calling `frame.insert` many times, which has poor performance.  Consider joining all columns at once using pd.concat(axis=1) instead. To get a de-fragmented frame, use `newframe = frame.copy()`\n",
      "  df[f'{c}_lag{n}']  = lag\n",
      "/tmp/ipykernel_7198/3416244142.py:19: PerformanceWarning: DataFrame is highly fragmented.  This is usually the result of calling `frame.insert` many times, which has poor performance.  Consider joining all columns at once using pd.concat(axis=1) instead. To get a de-fragmented frame, use `newframe = frame.copy()`\n",
      "  df[f'{c}_dlag{n}'] = df[c] - lag\n",
      "/tmp/ipykernel_7198/3416244142.py:18: PerformanceWarning: DataFrame is highly fragmented.  This is usually the result of calling `frame.insert` many times, which has poor performance.  Consider joining all columns at once using pd.concat(axis=1) instead. To get a de-fragmented frame, use `newframe = frame.copy()`\n",
      "  df[f'{c}_lag{n}']  = lag\n",
      "/tmp/ipykernel_7198/3416244142.py:19: PerformanceWarning: DataFrame is highly fragmented.  This is usually the result of calling `frame.insert` many times, which has poor performance.  Consider joining all columns at once using pd.concat(axis=1) instead. To get a de-fragmented frame, use `newframe = frame.copy()`\n",
      "  df[f'{c}_dlag{n}'] = df[c] - lag\n",
      "/tmp/ipykernel_7198/3416244142.py:18: PerformanceWarning: DataFrame is highly fragmented.  This is usually the result of calling `frame.insert` many times, which has poor performance.  Consider joining all columns at once using pd.concat(axis=1) instead. To get a de-fragmented frame, use `newframe = frame.copy()`\n",
      "  df[f'{c}_lag{n}']  = lag\n",
      "/tmp/ipykernel_7198/3416244142.py:19: PerformanceWarning: DataFrame is highly fragmented.  This is usually the result of calling `frame.insert` many times, which has poor performance.  Consider joining all columns at once using pd.concat(axis=1) instead. To get a de-fragmented frame, use `newframe = frame.copy()`\n",
      "  df[f'{c}_dlag{n}'] = df[c] - lag\n",
      "/tmp/ipykernel_7198/3416244142.py:18: PerformanceWarning: DataFrame is highly fragmented.  This is usually the result of calling `frame.insert` many times, which has poor performance.  Consider joining all columns at once using pd.concat(axis=1) instead. To get a de-fragmented frame, use `newframe = frame.copy()`\n",
      "  df[f'{c}_lag{n}']  = lag\n",
      "/tmp/ipykernel_7198/3416244142.py:19: PerformanceWarning: DataFrame is highly fragmented.  This is usually the result of calling `frame.insert` many times, which has poor performance.  Consider joining all columns at once using pd.concat(axis=1) instead. To get a de-fragmented frame, use `newframe = frame.copy()`\n",
      "  df[f'{c}_dlag{n}'] = df[c] - lag\n",
      "/tmp/ipykernel_7198/3416244142.py:18: PerformanceWarning: DataFrame is highly fragmented.  This is usually the result of calling `frame.insert` many times, which has poor performance.  Consider joining all columns at once using pd.concat(axis=1) instead. To get a de-fragmented frame, use `newframe = frame.copy()`\n",
      "  df[f'{c}_lag{n}']  = lag\n",
      "/tmp/ipykernel_7198/3416244142.py:19: PerformanceWarning: DataFrame is highly fragmented.  This is usually the result of calling `frame.insert` many times, which has poor performance.  Consider joining all columns at once using pd.concat(axis=1) instead. To get a de-fragmented frame, use `newframe = frame.copy()`\n",
      "  df[f'{c}_dlag{n}'] = df[c] - lag\n",
      "/tmp/ipykernel_7198/3416244142.py:18: PerformanceWarning: DataFrame is highly fragmented.  This is usually the result of calling `frame.insert` many times, which has poor performance.  Consider joining all columns at once using pd.concat(axis=1) instead. To get a de-fragmented frame, use `newframe = frame.copy()`\n",
      "  df[f'{c}_lag{n}']  = lag\n",
      "/tmp/ipykernel_7198/3416244142.py:19: PerformanceWarning: DataFrame is highly fragmented.  This is usually the result of calling `frame.insert` many times, which has poor performance.  Consider joining all columns at once using pd.concat(axis=1) instead. To get a de-fragmented frame, use `newframe = frame.copy()`\n",
      "  df[f'{c}_dlag{n}'] = df[c] - lag\n",
      "/tmp/ipykernel_7198/3416244142.py:18: PerformanceWarning: DataFrame is highly fragmented.  This is usually the result of calling `frame.insert` many times, which has poor performance.  Consider joining all columns at once using pd.concat(axis=1) instead. To get a de-fragmented frame, use `newframe = frame.copy()`\n",
      "  df[f'{c}_lag{n}']  = lag\n",
      "/tmp/ipykernel_7198/3416244142.py:19: PerformanceWarning: DataFrame is highly fragmented.  This is usually the result of calling `frame.insert` many times, which has poor performance.  Consider joining all columns at once using pd.concat(axis=1) instead. To get a de-fragmented frame, use `newframe = frame.copy()`\n",
      "  df[f'{c}_dlag{n}'] = df[c] - lag\n",
      "/tmp/ipykernel_7198/3416244142.py:18: PerformanceWarning: DataFrame is highly fragmented.  This is usually the result of calling `frame.insert` many times, which has poor performance.  Consider joining all columns at once using pd.concat(axis=1) instead. To get a de-fragmented frame, use `newframe = frame.copy()`\n",
      "  df[f'{c}_lag{n}']  = lag\n",
      "/tmp/ipykernel_7198/3416244142.py:19: PerformanceWarning: DataFrame is highly fragmented.  This is usually the result of calling `frame.insert` many times, which has poor performance.  Consider joining all columns at once using pd.concat(axis=1) instead. To get a de-fragmented frame, use `newframe = frame.copy()`\n",
      "  df[f'{c}_dlag{n}'] = df[c] - lag\n",
      "/tmp/ipykernel_7198/3416244142.py:18: PerformanceWarning: DataFrame is highly fragmented.  This is usually the result of calling `frame.insert` many times, which has poor performance.  Consider joining all columns at once using pd.concat(axis=1) instead. To get a de-fragmented frame, use `newframe = frame.copy()`\n",
      "  df[f'{c}_lag{n}']  = lag\n",
      "/tmp/ipykernel_7198/3416244142.py:19: PerformanceWarning: DataFrame is highly fragmented.  This is usually the result of calling `frame.insert` many times, which has poor performance.  Consider joining all columns at once using pd.concat(axis=1) instead. To get a de-fragmented frame, use `newframe = frame.copy()`\n",
      "  df[f'{c}_dlag{n}'] = df[c] - lag\n",
      "/tmp/ipykernel_7198/3416244142.py:18: PerformanceWarning: DataFrame is highly fragmented.  This is usually the result of calling `frame.insert` many times, which has poor performance.  Consider joining all columns at once using pd.concat(axis=1) instead. To get a de-fragmented frame, use `newframe = frame.copy()`\n",
      "  df[f'{c}_lag{n}']  = lag\n",
      "/tmp/ipykernel_7198/3416244142.py:19: PerformanceWarning: DataFrame is highly fragmented.  This is usually the result of calling `frame.insert` many times, which has poor performance.  Consider joining all columns at once using pd.concat(axis=1) instead. To get a de-fragmented frame, use `newframe = frame.copy()`\n",
      "  df[f'{c}_dlag{n}'] = df[c] - lag\n",
      "/tmp/ipykernel_7198/3416244142.py:18: PerformanceWarning: DataFrame is highly fragmented.  This is usually the result of calling `frame.insert` many times, which has poor performance.  Consider joining all columns at once using pd.concat(axis=1) instead. To get a de-fragmented frame, use `newframe = frame.copy()`\n",
      "  df[f'{c}_lag{n}']  = lag\n",
      "/tmp/ipykernel_7198/3416244142.py:19: PerformanceWarning: DataFrame is highly fragmented.  This is usually the result of calling `frame.insert` many times, which has poor performance.  Consider joining all columns at once using pd.concat(axis=1) instead. To get a de-fragmented frame, use `newframe = frame.copy()`\n",
      "  df[f'{c}_dlag{n}'] = df[c] - lag\n",
      "/tmp/ipykernel_7198/3416244142.py:18: PerformanceWarning: DataFrame is highly fragmented.  This is usually the result of calling `frame.insert` many times, which has poor performance.  Consider joining all columns at once using pd.concat(axis=1) instead. To get a de-fragmented frame, use `newframe = frame.copy()`\n",
      "  df[f'{c}_lag{n}']  = lag\n",
      "/tmp/ipykernel_7198/3416244142.py:19: PerformanceWarning: DataFrame is highly fragmented.  This is usually the result of calling `frame.insert` many times, which has poor performance.  Consider joining all columns at once using pd.concat(axis=1) instead. To get a de-fragmented frame, use `newframe = frame.copy()`\n",
      "  df[f'{c}_dlag{n}'] = df[c] - lag\n",
      "/tmp/ipykernel_7198/3416244142.py:18: PerformanceWarning: DataFrame is highly fragmented.  This is usually the result of calling `frame.insert` many times, which has poor performance.  Consider joining all columns at once using pd.concat(axis=1) instead. To get a de-fragmented frame, use `newframe = frame.copy()`\n",
      "  df[f'{c}_lag{n}']  = lag\n",
      "/tmp/ipykernel_7198/3416244142.py:19: PerformanceWarning: DataFrame is highly fragmented.  This is usually the result of calling `frame.insert` many times, which has poor performance.  Consider joining all columns at once using pd.concat(axis=1) instead. To get a de-fragmented frame, use `newframe = frame.copy()`\n",
      "  df[f'{c}_dlag{n}'] = df[c] - lag\n",
      "/tmp/ipykernel_7198/3416244142.py:18: PerformanceWarning: DataFrame is highly fragmented.  This is usually the result of calling `frame.insert` many times, which has poor performance.  Consider joining all columns at once using pd.concat(axis=1) instead. To get a de-fragmented frame, use `newframe = frame.copy()`\n",
      "  df[f'{c}_lag{n}']  = lag\n",
      "/tmp/ipykernel_7198/3416244142.py:19: PerformanceWarning: DataFrame is highly fragmented.  This is usually the result of calling `frame.insert` many times, which has poor performance.  Consider joining all columns at once using pd.concat(axis=1) instead. To get a de-fragmented frame, use `newframe = frame.copy()`\n",
      "  df[f'{c}_dlag{n}'] = df[c] - lag\n",
      "/tmp/ipykernel_7198/3416244142.py:18: PerformanceWarning: DataFrame is highly fragmented.  This is usually the result of calling `frame.insert` many times, which has poor performance.  Consider joining all columns at once using pd.concat(axis=1) instead. To get a de-fragmented frame, use `newframe = frame.copy()`\n",
      "  df[f'{c}_lag{n}']  = lag\n",
      "/tmp/ipykernel_7198/3416244142.py:19: PerformanceWarning: DataFrame is highly fragmented.  This is usually the result of calling `frame.insert` many times, which has poor performance.  Consider joining all columns at once using pd.concat(axis=1) instead. To get a de-fragmented frame, use `newframe = frame.copy()`\n",
      "  df[f'{c}_dlag{n}'] = df[c] - lag\n",
      "/tmp/ipykernel_7198/3416244142.py:18: PerformanceWarning: DataFrame is highly fragmented.  This is usually the result of calling `frame.insert` many times, which has poor performance.  Consider joining all columns at once using pd.concat(axis=1) instead. To get a de-fragmented frame, use `newframe = frame.copy()`\n",
      "  df[f'{c}_lag{n}']  = lag\n",
      "/tmp/ipykernel_7198/3416244142.py:19: PerformanceWarning: DataFrame is highly fragmented.  This is usually the result of calling `frame.insert` many times, which has poor performance.  Consider joining all columns at once using pd.concat(axis=1) instead. To get a de-fragmented frame, use `newframe = frame.copy()`\n",
      "  df[f'{c}_dlag{n}'] = df[c] - lag\n",
      "/tmp/ipykernel_7198/3416244142.py:18: PerformanceWarning: DataFrame is highly fragmented.  This is usually the result of calling `frame.insert` many times, which has poor performance.  Consider joining all columns at once using pd.concat(axis=1) instead. To get a de-fragmented frame, use `newframe = frame.copy()`\n",
      "  df[f'{c}_lag{n}']  = lag\n",
      "/tmp/ipykernel_7198/3416244142.py:19: PerformanceWarning: DataFrame is highly fragmented.  This is usually the result of calling `frame.insert` many times, which has poor performance.  Consider joining all columns at once using pd.concat(axis=1) instead. To get a de-fragmented frame, use `newframe = frame.copy()`\n",
      "  df[f'{c}_dlag{n}'] = df[c] - lag\n",
      "/tmp/ipykernel_7198/3416244142.py:18: PerformanceWarning: DataFrame is highly fragmented.  This is usually the result of calling `frame.insert` many times, which has poor performance.  Consider joining all columns at once using pd.concat(axis=1) instead. To get a de-fragmented frame, use `newframe = frame.copy()`\n",
      "  df[f'{c}_lag{n}']  = lag\n",
      "/tmp/ipykernel_7198/3416244142.py:19: PerformanceWarning: DataFrame is highly fragmented.  This is usually the result of calling `frame.insert` many times, which has poor performance.  Consider joining all columns at once using pd.concat(axis=1) instead. To get a de-fragmented frame, use `newframe = frame.copy()`\n",
      "  df[f'{c}_dlag{n}'] = df[c] - lag\n",
      "/tmp/ipykernel_7198/3416244142.py:18: PerformanceWarning: DataFrame is highly fragmented.  This is usually the result of calling `frame.insert` many times, which has poor performance.  Consider joining all columns at once using pd.concat(axis=1) instead. To get a de-fragmented frame, use `newframe = frame.copy()`\n",
      "  df[f'{c}_lag{n}']  = lag\n",
      "/tmp/ipykernel_7198/3416244142.py:19: PerformanceWarning: DataFrame is highly fragmented.  This is usually the result of calling `frame.insert` many times, which has poor performance.  Consider joining all columns at once using pd.concat(axis=1) instead. To get a de-fragmented frame, use `newframe = frame.copy()`\n",
      "  df[f'{c}_dlag{n}'] = df[c] - lag\n",
      "/tmp/ipykernel_7198/3416244142.py:18: PerformanceWarning: DataFrame is highly fragmented.  This is usually the result of calling `frame.insert` many times, which has poor performance.  Consider joining all columns at once using pd.concat(axis=1) instead. To get a de-fragmented frame, use `newframe = frame.copy()`\n",
      "  df[f'{c}_lag{n}']  = lag\n",
      "/tmp/ipykernel_7198/3416244142.py:19: PerformanceWarning: DataFrame is highly fragmented.  This is usually the result of calling `frame.insert` many times, which has poor performance.  Consider joining all columns at once using pd.concat(axis=1) instead. To get a de-fragmented frame, use `newframe = frame.copy()`\n",
      "  df[f'{c}_dlag{n}'] = df[c] - lag\n",
      "/tmp/ipykernel_7198/3416244142.py:18: PerformanceWarning: DataFrame is highly fragmented.  This is usually the result of calling `frame.insert` many times, which has poor performance.  Consider joining all columns at once using pd.concat(axis=1) instead. To get a de-fragmented frame, use `newframe = frame.copy()`\n",
      "  df[f'{c}_lag{n}']  = lag\n",
      "/tmp/ipykernel_7198/3416244142.py:19: PerformanceWarning: DataFrame is highly fragmented.  This is usually the result of calling `frame.insert` many times, which has poor performance.  Consider joining all columns at once using pd.concat(axis=1) instead. To get a de-fragmented frame, use `newframe = frame.copy()`\n",
      "  df[f'{c}_dlag{n}'] = df[c] - lag\n",
      "/tmp/ipykernel_7198/3416244142.py:18: PerformanceWarning: DataFrame is highly fragmented.  This is usually the result of calling `frame.insert` many times, which has poor performance.  Consider joining all columns at once using pd.concat(axis=1) instead. To get a de-fragmented frame, use `newframe = frame.copy()`\n",
      "  df[f'{c}_lag{n}']  = lag\n",
      "/tmp/ipykernel_7198/3416244142.py:19: PerformanceWarning: DataFrame is highly fragmented.  This is usually the result of calling `frame.insert` many times, which has poor performance.  Consider joining all columns at once using pd.concat(axis=1) instead. To get a de-fragmented frame, use `newframe = frame.copy()`\n",
      "  df[f'{c}_dlag{n}'] = df[c] - lag\n",
      "/tmp/ipykernel_7198/3416244142.py:18: PerformanceWarning: DataFrame is highly fragmented.  This is usually the result of calling `frame.insert` many times, which has poor performance.  Consider joining all columns at once using pd.concat(axis=1) instead. To get a de-fragmented frame, use `newframe = frame.copy()`\n",
      "  df[f'{c}_lag{n}']  = lag\n",
      "/tmp/ipykernel_7198/3416244142.py:19: PerformanceWarning: DataFrame is highly fragmented.  This is usually the result of calling `frame.insert` many times, which has poor performance.  Consider joining all columns at once using pd.concat(axis=1) instead. To get a de-fragmented frame, use `newframe = frame.copy()`\n",
      "  df[f'{c}_dlag{n}'] = df[c] - lag\n",
      "/tmp/ipykernel_7198/3416244142.py:18: PerformanceWarning: DataFrame is highly fragmented.  This is usually the result of calling `frame.insert` many times, which has poor performance.  Consider joining all columns at once using pd.concat(axis=1) instead. To get a de-fragmented frame, use `newframe = frame.copy()`\n",
      "  df[f'{c}_lag{n}']  = lag\n",
      "/tmp/ipykernel_7198/3416244142.py:19: PerformanceWarning: DataFrame is highly fragmented.  This is usually the result of calling `frame.insert` many times, which has poor performance.  Consider joining all columns at once using pd.concat(axis=1) instead. To get a de-fragmented frame, use `newframe = frame.copy()`\n",
      "  df[f'{c}_dlag{n}'] = df[c] - lag\n",
      "/tmp/ipykernel_7198/3416244142.py:18: PerformanceWarning: DataFrame is highly fragmented.  This is usually the result of calling `frame.insert` many times, which has poor performance.  Consider joining all columns at once using pd.concat(axis=1) instead. To get a de-fragmented frame, use `newframe = frame.copy()`\n",
      "  df[f'{c}_lag{n}']  = lag\n",
      "/tmp/ipykernel_7198/3416244142.py:19: PerformanceWarning: DataFrame is highly fragmented.  This is usually the result of calling `frame.insert` many times, which has poor performance.  Consider joining all columns at once using pd.concat(axis=1) instead. To get a de-fragmented frame, use `newframe = frame.copy()`\n",
      "  df[f'{c}_dlag{n}'] = df[c] - lag\n",
      "/tmp/ipykernel_7198/3416244142.py:18: PerformanceWarning: DataFrame is highly fragmented.  This is usually the result of calling `frame.insert` many times, which has poor performance.  Consider joining all columns at once using pd.concat(axis=1) instead. To get a de-fragmented frame, use `newframe = frame.copy()`\n",
      "  df[f'{c}_lag{n}']  = lag\n",
      "/tmp/ipykernel_7198/3416244142.py:19: PerformanceWarning: DataFrame is highly fragmented.  This is usually the result of calling `frame.insert` many times, which has poor performance.  Consider joining all columns at once using pd.concat(axis=1) instead. To get a de-fragmented frame, use `newframe = frame.copy()`\n",
      "  df[f'{c}_dlag{n}'] = df[c] - lag\n",
      "/tmp/ipykernel_7198/3416244142.py:18: PerformanceWarning: DataFrame is highly fragmented.  This is usually the result of calling `frame.insert` many times, which has poor performance.  Consider joining all columns at once using pd.concat(axis=1) instead. To get a de-fragmented frame, use `newframe = frame.copy()`\n",
      "  df[f'{c}_lag{n}']  = lag\n",
      "/tmp/ipykernel_7198/3416244142.py:19: PerformanceWarning: DataFrame is highly fragmented.  This is usually the result of calling `frame.insert` many times, which has poor performance.  Consider joining all columns at once using pd.concat(axis=1) instead. To get a de-fragmented frame, use `newframe = frame.copy()`\n",
      "  df[f'{c}_dlag{n}'] = df[c] - lag\n",
      "/tmp/ipykernel_7198/3416244142.py:18: PerformanceWarning: DataFrame is highly fragmented.  This is usually the result of calling `frame.insert` many times, which has poor performance.  Consider joining all columns at once using pd.concat(axis=1) instead. To get a de-fragmented frame, use `newframe = frame.copy()`\n",
      "  df[f'{c}_lag{n}']  = lag\n",
      "/tmp/ipykernel_7198/3416244142.py:19: PerformanceWarning: DataFrame is highly fragmented.  This is usually the result of calling `frame.insert` many times, which has poor performance.  Consider joining all columns at once using pd.concat(axis=1) instead. To get a de-fragmented frame, use `newframe = frame.copy()`\n",
      "  df[f'{c}_dlag{n}'] = df[c] - lag\n",
      "/tmp/ipykernel_7198/3416244142.py:18: PerformanceWarning: DataFrame is highly fragmented.  This is usually the result of calling `frame.insert` many times, which has poor performance.  Consider joining all columns at once using pd.concat(axis=1) instead. To get a de-fragmented frame, use `newframe = frame.copy()`\n",
      "  df[f'{c}_lag{n}']  = lag\n",
      "/tmp/ipykernel_7198/3416244142.py:19: PerformanceWarning: DataFrame is highly fragmented.  This is usually the result of calling `frame.insert` many times, which has poor performance.  Consider joining all columns at once using pd.concat(axis=1) instead. To get a de-fragmented frame, use `newframe = frame.copy()`\n",
      "  df[f'{c}_dlag{n}'] = df[c] - lag\n",
      "/tmp/ipykernel_7198/3416244142.py:18: PerformanceWarning: DataFrame is highly fragmented.  This is usually the result of calling `frame.insert` many times, which has poor performance.  Consider joining all columns at once using pd.concat(axis=1) instead. To get a de-fragmented frame, use `newframe = frame.copy()`\n",
      "  df[f'{c}_lag{n}']  = lag\n",
      "/tmp/ipykernel_7198/3416244142.py:19: PerformanceWarning: DataFrame is highly fragmented.  This is usually the result of calling `frame.insert` many times, which has poor performance.  Consider joining all columns at once using pd.concat(axis=1) instead. To get a de-fragmented frame, use `newframe = frame.copy()`\n",
      "  df[f'{c}_dlag{n}'] = df[c] - lag\n",
      "/tmp/ipykernel_7198/3416244142.py:18: PerformanceWarning: DataFrame is highly fragmented.  This is usually the result of calling `frame.insert` many times, which has poor performance.  Consider joining all columns at once using pd.concat(axis=1) instead. To get a de-fragmented frame, use `newframe = frame.copy()`\n",
      "  df[f'{c}_lag{n}']  = lag\n",
      "/tmp/ipykernel_7198/3416244142.py:19: PerformanceWarning: DataFrame is highly fragmented.  This is usually the result of calling `frame.insert` many times, which has poor performance.  Consider joining all columns at once using pd.concat(axis=1) instead. To get a de-fragmented frame, use `newframe = frame.copy()`\n",
      "  df[f'{c}_dlag{n}'] = df[c] - lag\n",
      "/tmp/ipykernel_7198/3416244142.py:18: PerformanceWarning: DataFrame is highly fragmented.  This is usually the result of calling `frame.insert` many times, which has poor performance.  Consider joining all columns at once using pd.concat(axis=1) instead. To get a de-fragmented frame, use `newframe = frame.copy()`\n",
      "  df[f'{c}_lag{n}']  = lag\n",
      "/tmp/ipykernel_7198/3416244142.py:19: PerformanceWarning: DataFrame is highly fragmented.  This is usually the result of calling `frame.insert` many times, which has poor performance.  Consider joining all columns at once using pd.concat(axis=1) instead. To get a de-fragmented frame, use `newframe = frame.copy()`\n",
      "  df[f'{c}_dlag{n}'] = df[c] - lag\n",
      "/tmp/ipykernel_7198/3416244142.py:18: PerformanceWarning: DataFrame is highly fragmented.  This is usually the result of calling `frame.insert` many times, which has poor performance.  Consider joining all columns at once using pd.concat(axis=1) instead. To get a de-fragmented frame, use `newframe = frame.copy()`\n",
      "  df[f'{c}_lag{n}']  = lag\n",
      "/tmp/ipykernel_7198/3416244142.py:19: PerformanceWarning: DataFrame is highly fragmented.  This is usually the result of calling `frame.insert` many times, which has poor performance.  Consider joining all columns at once using pd.concat(axis=1) instead. To get a de-fragmented frame, use `newframe = frame.copy()`\n",
      "  df[f'{c}_dlag{n}'] = df[c] - lag\n",
      "/tmp/ipykernel_7198/3416244142.py:18: PerformanceWarning: DataFrame is highly fragmented.  This is usually the result of calling `frame.insert` many times, which has poor performance.  Consider joining all columns at once using pd.concat(axis=1) instead. To get a de-fragmented frame, use `newframe = frame.copy()`\n",
      "  df[f'{c}_lag{n}']  = lag\n",
      "/tmp/ipykernel_7198/3416244142.py:19: PerformanceWarning: DataFrame is highly fragmented.  This is usually the result of calling `frame.insert` many times, which has poor performance.  Consider joining all columns at once using pd.concat(axis=1) instead. To get a de-fragmented frame, use `newframe = frame.copy()`\n",
      "  df[f'{c}_dlag{n}'] = df[c] - lag\n",
      "/tmp/ipykernel_7198/3416244142.py:18: PerformanceWarning: DataFrame is highly fragmented.  This is usually the result of calling `frame.insert` many times, which has poor performance.  Consider joining all columns at once using pd.concat(axis=1) instead. To get a de-fragmented frame, use `newframe = frame.copy()`\n",
      "  df[f'{c}_lag{n}']  = lag\n",
      "/tmp/ipykernel_7198/3416244142.py:19: PerformanceWarning: DataFrame is highly fragmented.  This is usually the result of calling `frame.insert` many times, which has poor performance.  Consider joining all columns at once using pd.concat(axis=1) instead. To get a de-fragmented frame, use `newframe = frame.copy()`\n",
      "  df[f'{c}_dlag{n}'] = df[c] - lag\n",
      "/tmp/ipykernel_7198/3416244142.py:18: PerformanceWarning: DataFrame is highly fragmented.  This is usually the result of calling `frame.insert` many times, which has poor performance.  Consider joining all columns at once using pd.concat(axis=1) instead. To get a de-fragmented frame, use `newframe = frame.copy()`\n",
      "  df[f'{c}_lag{n}']  = lag\n",
      "/tmp/ipykernel_7198/3416244142.py:19: PerformanceWarning: DataFrame is highly fragmented.  This is usually the result of calling `frame.insert` many times, which has poor performance.  Consider joining all columns at once using pd.concat(axis=1) instead. To get a de-fragmented frame, use `newframe = frame.copy()`\n",
      "  df[f'{c}_dlag{n}'] = df[c] - lag\n",
      "/tmp/ipykernel_7198/3416244142.py:18: PerformanceWarning: DataFrame is highly fragmented.  This is usually the result of calling `frame.insert` many times, which has poor performance.  Consider joining all columns at once using pd.concat(axis=1) instead. To get a de-fragmented frame, use `newframe = frame.copy()`\n",
      "  df[f'{c}_lag{n}']  = lag\n",
      "/tmp/ipykernel_7198/3416244142.py:19: PerformanceWarning: DataFrame is highly fragmented.  This is usually the result of calling `frame.insert` many times, which has poor performance.  Consider joining all columns at once using pd.concat(axis=1) instead. To get a de-fragmented frame, use `newframe = frame.copy()`\n",
      "  df[f'{c}_dlag{n}'] = df[c] - lag\n",
      "/tmp/ipykernel_7198/3416244142.py:18: PerformanceWarning: DataFrame is highly fragmented.  This is usually the result of calling `frame.insert` many times, which has poor performance.  Consider joining all columns at once using pd.concat(axis=1) instead. To get a de-fragmented frame, use `newframe = frame.copy()`\n",
      "  df[f'{c}_lag{n}']  = lag\n",
      "/tmp/ipykernel_7198/3416244142.py:19: PerformanceWarning: DataFrame is highly fragmented.  This is usually the result of calling `frame.insert` many times, which has poor performance.  Consider joining all columns at once using pd.concat(axis=1) instead. To get a de-fragmented frame, use `newframe = frame.copy()`\n",
      "  df[f'{c}_dlag{n}'] = df[c] - lag\n",
      "/tmp/ipykernel_7198/3416244142.py:18: PerformanceWarning: DataFrame is highly fragmented.  This is usually the result of calling `frame.insert` many times, which has poor performance.  Consider joining all columns at once using pd.concat(axis=1) instead. To get a de-fragmented frame, use `newframe = frame.copy()`\n",
      "  df[f'{c}_lag{n}']  = lag\n",
      "/tmp/ipykernel_7198/3416244142.py:19: PerformanceWarning: DataFrame is highly fragmented.  This is usually the result of calling `frame.insert` many times, which has poor performance.  Consider joining all columns at once using pd.concat(axis=1) instead. To get a de-fragmented frame, use `newframe = frame.copy()`\n",
      "  df[f'{c}_dlag{n}'] = df[c] - lag\n",
      "/tmp/ipykernel_7198/3416244142.py:18: PerformanceWarning: DataFrame is highly fragmented.  This is usually the result of calling `frame.insert` many times, which has poor performance.  Consider joining all columns at once using pd.concat(axis=1) instead. To get a de-fragmented frame, use `newframe = frame.copy()`\n",
      "  df[f'{c}_lag{n}']  = lag\n",
      "/tmp/ipykernel_7198/3416244142.py:19: PerformanceWarning: DataFrame is highly fragmented.  This is usually the result of calling `frame.insert` many times, which has poor performance.  Consider joining all columns at once using pd.concat(axis=1) instead. To get a de-fragmented frame, use `newframe = frame.copy()`\n",
      "  df[f'{c}_dlag{n}'] = df[c] - lag\n",
      "/tmp/ipykernel_7198/3416244142.py:18: PerformanceWarning: DataFrame is highly fragmented.  This is usually the result of calling `frame.insert` many times, which has poor performance.  Consider joining all columns at once using pd.concat(axis=1) instead. To get a de-fragmented frame, use `newframe = frame.copy()`\n",
      "  df[f'{c}_lag{n}']  = lag\n",
      "/tmp/ipykernel_7198/3416244142.py:19: PerformanceWarning: DataFrame is highly fragmented.  This is usually the result of calling `frame.insert` many times, which has poor performance.  Consider joining all columns at once using pd.concat(axis=1) instead. To get a de-fragmented frame, use `newframe = frame.copy()`\n",
      "  df[f'{c}_dlag{n}'] = df[c] - lag\n",
      "/tmp/ipykernel_7198/3416244142.py:18: PerformanceWarning: DataFrame is highly fragmented.  This is usually the result of calling `frame.insert` many times, which has poor performance.  Consider joining all columns at once using pd.concat(axis=1) instead. To get a de-fragmented frame, use `newframe = frame.copy()`\n",
      "  df[f'{c}_lag{n}']  = lag\n",
      "/tmp/ipykernel_7198/3416244142.py:19: PerformanceWarning: DataFrame is highly fragmented.  This is usually the result of calling `frame.insert` many times, which has poor performance.  Consider joining all columns at once using pd.concat(axis=1) instead. To get a de-fragmented frame, use `newframe = frame.copy()`\n",
      "  df[f'{c}_dlag{n}'] = df[c] - lag\n",
      "/tmp/ipykernel_7198/3416244142.py:18: PerformanceWarning: DataFrame is highly fragmented.  This is usually the result of calling `frame.insert` many times, which has poor performance.  Consider joining all columns at once using pd.concat(axis=1) instead. To get a de-fragmented frame, use `newframe = frame.copy()`\n",
      "  df[f'{c}_lag{n}']  = lag\n",
      "/tmp/ipykernel_7198/3416244142.py:19: PerformanceWarning: DataFrame is highly fragmented.  This is usually the result of calling `frame.insert` many times, which has poor performance.  Consider joining all columns at once using pd.concat(axis=1) instead. To get a de-fragmented frame, use `newframe = frame.copy()`\n",
      "  df[f'{c}_dlag{n}'] = df[c] - lag\n",
      "/tmp/ipykernel_7198/3416244142.py:18: PerformanceWarning: DataFrame is highly fragmented.  This is usually the result of calling `frame.insert` many times, which has poor performance.  Consider joining all columns at once using pd.concat(axis=1) instead. To get a de-fragmented frame, use `newframe = frame.copy()`\n",
      "  df[f'{c}_lag{n}']  = lag\n",
      "/tmp/ipykernel_7198/3416244142.py:19: PerformanceWarning: DataFrame is highly fragmented.  This is usually the result of calling `frame.insert` many times, which has poor performance.  Consider joining all columns at once using pd.concat(axis=1) instead. To get a de-fragmented frame, use `newframe = frame.copy()`\n",
      "  df[f'{c}_dlag{n}'] = df[c] - lag\n",
      "/tmp/ipykernel_7198/3416244142.py:18: PerformanceWarning: DataFrame is highly fragmented.  This is usually the result of calling `frame.insert` many times, which has poor performance.  Consider joining all columns at once using pd.concat(axis=1) instead. To get a de-fragmented frame, use `newframe = frame.copy()`\n",
      "  df[f'{c}_lag{n}']  = lag\n",
      "/tmp/ipykernel_7198/3416244142.py:19: PerformanceWarning: DataFrame is highly fragmented.  This is usually the result of calling `frame.insert` many times, which has poor performance.  Consider joining all columns at once using pd.concat(axis=1) instead. To get a de-fragmented frame, use `newframe = frame.copy()`\n",
      "  df[f'{c}_dlag{n}'] = df[c] - lag\n",
      "/tmp/ipykernel_7198/3416244142.py:18: PerformanceWarning: DataFrame is highly fragmented.  This is usually the result of calling `frame.insert` many times, which has poor performance.  Consider joining all columns at once using pd.concat(axis=1) instead. To get a de-fragmented frame, use `newframe = frame.copy()`\n",
      "  df[f'{c}_lag{n}']  = lag\n",
      "/tmp/ipykernel_7198/3416244142.py:19: PerformanceWarning: DataFrame is highly fragmented.  This is usually the result of calling `frame.insert` many times, which has poor performance.  Consider joining all columns at once using pd.concat(axis=1) instead. To get a de-fragmented frame, use `newframe = frame.copy()`\n",
      "  df[f'{c}_dlag{n}'] = df[c] - lag\n",
      "/tmp/ipykernel_7198/3416244142.py:18: PerformanceWarning: DataFrame is highly fragmented.  This is usually the result of calling `frame.insert` many times, which has poor performance.  Consider joining all columns at once using pd.concat(axis=1) instead. To get a de-fragmented frame, use `newframe = frame.copy()`\n",
      "  df[f'{c}_lag{n}']  = lag\n",
      "/tmp/ipykernel_7198/3416244142.py:19: PerformanceWarning: DataFrame is highly fragmented.  This is usually the result of calling `frame.insert` many times, which has poor performance.  Consider joining all columns at once using pd.concat(axis=1) instead. To get a de-fragmented frame, use `newframe = frame.copy()`\n",
      "  df[f'{c}_dlag{n}'] = df[c] - lag\n",
      "/tmp/ipykernel_7198/3416244142.py:18: PerformanceWarning: DataFrame is highly fragmented.  This is usually the result of calling `frame.insert` many times, which has poor performance.  Consider joining all columns at once using pd.concat(axis=1) instead. To get a de-fragmented frame, use `newframe = frame.copy()`\n",
      "  df[f'{c}_lag{n}']  = lag\n",
      "/tmp/ipykernel_7198/3416244142.py:19: PerformanceWarning: DataFrame is highly fragmented.  This is usually the result of calling `frame.insert` many times, which has poor performance.  Consider joining all columns at once using pd.concat(axis=1) instead. To get a de-fragmented frame, use `newframe = frame.copy()`\n",
      "  df[f'{c}_dlag{n}'] = df[c] - lag\n",
      "/tmp/ipykernel_7198/3416244142.py:18: PerformanceWarning: DataFrame is highly fragmented.  This is usually the result of calling `frame.insert` many times, which has poor performance.  Consider joining all columns at once using pd.concat(axis=1) instead. To get a de-fragmented frame, use `newframe = frame.copy()`\n",
      "  df[f'{c}_lag{n}']  = lag\n",
      "/tmp/ipykernel_7198/3416244142.py:19: PerformanceWarning: DataFrame is highly fragmented.  This is usually the result of calling `frame.insert` many times, which has poor performance.  Consider joining all columns at once using pd.concat(axis=1) instead. To get a de-fragmented frame, use `newframe = frame.copy()`\n",
      "  df[f'{c}_dlag{n}'] = df[c] - lag\n",
      "/tmp/ipykernel_7198/3416244142.py:18: PerformanceWarning: DataFrame is highly fragmented.  This is usually the result of calling `frame.insert` many times, which has poor performance.  Consider joining all columns at once using pd.concat(axis=1) instead. To get a de-fragmented frame, use `newframe = frame.copy()`\n",
      "  df[f'{c}_lag{n}']  = lag\n",
      "/tmp/ipykernel_7198/3416244142.py:19: PerformanceWarning: DataFrame is highly fragmented.  This is usually the result of calling `frame.insert` many times, which has poor performance.  Consider joining all columns at once using pd.concat(axis=1) instead. To get a de-fragmented frame, use `newframe = frame.copy()`\n",
      "  df[f'{c}_dlag{n}'] = df[c] - lag\n",
      "/tmp/ipykernel_7198/3416244142.py:18: PerformanceWarning: DataFrame is highly fragmented.  This is usually the result of calling `frame.insert` many times, which has poor performance.  Consider joining all columns at once using pd.concat(axis=1) instead. To get a de-fragmented frame, use `newframe = frame.copy()`\n",
      "  df[f'{c}_lag{n}']  = lag\n",
      "/tmp/ipykernel_7198/3416244142.py:19: PerformanceWarning: DataFrame is highly fragmented.  This is usually the result of calling `frame.insert` many times, which has poor performance.  Consider joining all columns at once using pd.concat(axis=1) instead. To get a de-fragmented frame, use `newframe = frame.copy()`\n",
      "  df[f'{c}_dlag{n}'] = df[c] - lag\n",
      "/tmp/ipykernel_7198/3416244142.py:18: PerformanceWarning: DataFrame is highly fragmented.  This is usually the result of calling `frame.insert` many times, which has poor performance.  Consider joining all columns at once using pd.concat(axis=1) instead. To get a de-fragmented frame, use `newframe = frame.copy()`\n",
      "  df[f'{c}_lag{n}']  = lag\n",
      "/tmp/ipykernel_7198/3416244142.py:19: PerformanceWarning: DataFrame is highly fragmented.  This is usually the result of calling `frame.insert` many times, which has poor performance.  Consider joining all columns at once using pd.concat(axis=1) instead. To get a de-fragmented frame, use `newframe = frame.copy()`\n",
      "  df[f'{c}_dlag{n}'] = df[c] - lag\n",
      "/tmp/ipykernel_7198/3416244142.py:18: PerformanceWarning: DataFrame is highly fragmented.  This is usually the result of calling `frame.insert` many times, which has poor performance.  Consider joining all columns at once using pd.concat(axis=1) instead. To get a de-fragmented frame, use `newframe = frame.copy()`\n",
      "  df[f'{c}_lag{n}']  = lag\n",
      "/tmp/ipykernel_7198/3416244142.py:19: PerformanceWarning: DataFrame is highly fragmented.  This is usually the result of calling `frame.insert` many times, which has poor performance.  Consider joining all columns at once using pd.concat(axis=1) instead. To get a de-fragmented frame, use `newframe = frame.copy()`\n",
      "  df[f'{c}_dlag{n}'] = df[c] - lag\n",
      "/tmp/ipykernel_7198/3416244142.py:18: PerformanceWarning: DataFrame is highly fragmented.  This is usually the result of calling `frame.insert` many times, which has poor performance.  Consider joining all columns at once using pd.concat(axis=1) instead. To get a de-fragmented frame, use `newframe = frame.copy()`\n",
      "  df[f'{c}_lag{n}']  = lag\n",
      "/tmp/ipykernel_7198/3416244142.py:19: PerformanceWarning: DataFrame is highly fragmented.  This is usually the result of calling `frame.insert` many times, which has poor performance.  Consider joining all columns at once using pd.concat(axis=1) instead. To get a de-fragmented frame, use `newframe = frame.copy()`\n",
      "  df[f'{c}_dlag{n}'] = df[c] - lag\n",
      "/tmp/ipykernel_7198/3416244142.py:18: PerformanceWarning: DataFrame is highly fragmented.  This is usually the result of calling `frame.insert` many times, which has poor performance.  Consider joining all columns at once using pd.concat(axis=1) instead. To get a de-fragmented frame, use `newframe = frame.copy()`\n",
      "  df[f'{c}_lag{n}']  = lag\n",
      "/tmp/ipykernel_7198/3416244142.py:19: PerformanceWarning: DataFrame is highly fragmented.  This is usually the result of calling `frame.insert` many times, which has poor performance.  Consider joining all columns at once using pd.concat(axis=1) instead. To get a de-fragmented frame, use `newframe = frame.copy()`\n",
      "  df[f'{c}_dlag{n}'] = df[c] - lag\n",
      "/tmp/ipykernel_7198/3416244142.py:18: PerformanceWarning: DataFrame is highly fragmented.  This is usually the result of calling `frame.insert` many times, which has poor performance.  Consider joining all columns at once using pd.concat(axis=1) instead. To get a de-fragmented frame, use `newframe = frame.copy()`\n",
      "  df[f'{c}_lag{n}']  = lag\n",
      "/tmp/ipykernel_7198/3416244142.py:19: PerformanceWarning: DataFrame is highly fragmented.  This is usually the result of calling `frame.insert` many times, which has poor performance.  Consider joining all columns at once using pd.concat(axis=1) instead. To get a de-fragmented frame, use `newframe = frame.copy()`\n",
      "  df[f'{c}_dlag{n}'] = df[c] - lag\n",
      "/tmp/ipykernel_7198/3416244142.py:18: PerformanceWarning: DataFrame is highly fragmented.  This is usually the result of calling `frame.insert` many times, which has poor performance.  Consider joining all columns at once using pd.concat(axis=1) instead. To get a de-fragmented frame, use `newframe = frame.copy()`\n",
      "  df[f'{c}_lag{n}']  = lag\n",
      "/tmp/ipykernel_7198/3416244142.py:19: PerformanceWarning: DataFrame is highly fragmented.  This is usually the result of calling `frame.insert` many times, which has poor performance.  Consider joining all columns at once using pd.concat(axis=1) instead. To get a de-fragmented frame, use `newframe = frame.copy()`\n",
      "  df[f'{c}_dlag{n}'] = df[c] - lag\n",
      "/tmp/ipykernel_7198/3416244142.py:18: PerformanceWarning: DataFrame is highly fragmented.  This is usually the result of calling `frame.insert` many times, which has poor performance.  Consider joining all columns at once using pd.concat(axis=1) instead. To get a de-fragmented frame, use `newframe = frame.copy()`\n",
      "  df[f'{c}_lag{n}']  = lag\n",
      "/tmp/ipykernel_7198/3416244142.py:19: PerformanceWarning: DataFrame is highly fragmented.  This is usually the result of calling `frame.insert` many times, which has poor performance.  Consider joining all columns at once using pd.concat(axis=1) instead. To get a de-fragmented frame, use `newframe = frame.copy()`\n",
      "  df[f'{c}_dlag{n}'] = df[c] - lag\n",
      "/tmp/ipykernel_7198/3416244142.py:18: PerformanceWarning: DataFrame is highly fragmented.  This is usually the result of calling `frame.insert` many times, which has poor performance.  Consider joining all columns at once using pd.concat(axis=1) instead. To get a de-fragmented frame, use `newframe = frame.copy()`\n",
      "  df[f'{c}_lag{n}']  = lag\n",
      "/tmp/ipykernel_7198/3416244142.py:19: PerformanceWarning: DataFrame is highly fragmented.  This is usually the result of calling `frame.insert` many times, which has poor performance.  Consider joining all columns at once using pd.concat(axis=1) instead. To get a de-fragmented frame, use `newframe = frame.copy()`\n",
      "  df[f'{c}_dlag{n}'] = df[c] - lag\n",
      "/tmp/ipykernel_7198/3416244142.py:18: PerformanceWarning: DataFrame is highly fragmented.  This is usually the result of calling `frame.insert` many times, which has poor performance.  Consider joining all columns at once using pd.concat(axis=1) instead. To get a de-fragmented frame, use `newframe = frame.copy()`\n",
      "  df[f'{c}_lag{n}']  = lag\n",
      "/tmp/ipykernel_7198/3416244142.py:19: PerformanceWarning: DataFrame is highly fragmented.  This is usually the result of calling `frame.insert` many times, which has poor performance.  Consider joining all columns at once using pd.concat(axis=1) instead. To get a de-fragmented frame, use `newframe = frame.copy()`\n",
      "  df[f'{c}_dlag{n}'] = df[c] - lag\n",
      "/tmp/ipykernel_7198/3416244142.py:18: PerformanceWarning: DataFrame is highly fragmented.  This is usually the result of calling `frame.insert` many times, which has poor performance.  Consider joining all columns at once using pd.concat(axis=1) instead. To get a de-fragmented frame, use `newframe = frame.copy()`\n",
      "  df[f'{c}_lag{n}']  = lag\n",
      "/tmp/ipykernel_7198/3416244142.py:19: PerformanceWarning: DataFrame is highly fragmented.  This is usually the result of calling `frame.insert` many times, which has poor performance.  Consider joining all columns at once using pd.concat(axis=1) instead. To get a de-fragmented frame, use `newframe = frame.copy()`\n",
      "  df[f'{c}_dlag{n}'] = df[c] - lag\n",
      "/tmp/ipykernel_7198/3416244142.py:18: PerformanceWarning: DataFrame is highly fragmented.  This is usually the result of calling `frame.insert` many times, which has poor performance.  Consider joining all columns at once using pd.concat(axis=1) instead. To get a de-fragmented frame, use `newframe = frame.copy()`\n",
      "  df[f'{c}_lag{n}']  = lag\n",
      "/tmp/ipykernel_7198/3416244142.py:19: PerformanceWarning: DataFrame is highly fragmented.  This is usually the result of calling `frame.insert` many times, which has poor performance.  Consider joining all columns at once using pd.concat(axis=1) instead. To get a de-fragmented frame, use `newframe = frame.copy()`\n",
      "  df[f'{c}_dlag{n}'] = df[c] - lag\n",
      "/tmp/ipykernel_7198/3416244142.py:18: PerformanceWarning: DataFrame is highly fragmented.  This is usually the result of calling `frame.insert` many times, which has poor performance.  Consider joining all columns at once using pd.concat(axis=1) instead. To get a de-fragmented frame, use `newframe = frame.copy()`\n",
      "  df[f'{c}_lag{n}']  = lag\n",
      "/tmp/ipykernel_7198/3416244142.py:19: PerformanceWarning: DataFrame is highly fragmented.  This is usually the result of calling `frame.insert` many times, which has poor performance.  Consider joining all columns at once using pd.concat(axis=1) instead. To get a de-fragmented frame, use `newframe = frame.copy()`\n",
      "  df[f'{c}_dlag{n}'] = df[c] - lag\n",
      "/tmp/ipykernel_7198/3416244142.py:18: PerformanceWarning: DataFrame is highly fragmented.  This is usually the result of calling `frame.insert` many times, which has poor performance.  Consider joining all columns at once using pd.concat(axis=1) instead. To get a de-fragmented frame, use `newframe = frame.copy()`\n",
      "  df[f'{c}_lag{n}']  = lag\n",
      "/tmp/ipykernel_7198/3416244142.py:19: PerformanceWarning: DataFrame is highly fragmented.  This is usually the result of calling `frame.insert` many times, which has poor performance.  Consider joining all columns at once using pd.concat(axis=1) instead. To get a de-fragmented frame, use `newframe = frame.copy()`\n",
      "  df[f'{c}_dlag{n}'] = df[c] - lag\n",
      "/tmp/ipykernel_7198/3416244142.py:18: PerformanceWarning: DataFrame is highly fragmented.  This is usually the result of calling `frame.insert` many times, which has poor performance.  Consider joining all columns at once using pd.concat(axis=1) instead. To get a de-fragmented frame, use `newframe = frame.copy()`\n",
      "  df[f'{c}_lag{n}']  = lag\n",
      "/tmp/ipykernel_7198/3416244142.py:19: PerformanceWarning: DataFrame is highly fragmented.  This is usually the result of calling `frame.insert` many times, which has poor performance.  Consider joining all columns at once using pd.concat(axis=1) instead. To get a de-fragmented frame, use `newframe = frame.copy()`\n",
      "  df[f'{c}_dlag{n}'] = df[c] - lag\n",
      "/tmp/ipykernel_7198/3416244142.py:18: PerformanceWarning: DataFrame is highly fragmented.  This is usually the result of calling `frame.insert` many times, which has poor performance.  Consider joining all columns at once using pd.concat(axis=1) instead. To get a de-fragmented frame, use `newframe = frame.copy()`\n",
      "  df[f'{c}_lag{n}']  = lag\n",
      "/tmp/ipykernel_7198/3416244142.py:19: PerformanceWarning: DataFrame is highly fragmented.  This is usually the result of calling `frame.insert` many times, which has poor performance.  Consider joining all columns at once using pd.concat(axis=1) instead. To get a de-fragmented frame, use `newframe = frame.copy()`\n",
      "  df[f'{c}_dlag{n}'] = df[c] - lag\n",
      "/tmp/ipykernel_7198/3416244142.py:18: PerformanceWarning: DataFrame is highly fragmented.  This is usually the result of calling `frame.insert` many times, which has poor performance.  Consider joining all columns at once using pd.concat(axis=1) instead. To get a de-fragmented frame, use `newframe = frame.copy()`\n",
      "  df[f'{c}_lag{n}']  = lag\n",
      "/tmp/ipykernel_7198/3416244142.py:19: PerformanceWarning: DataFrame is highly fragmented.  This is usually the result of calling `frame.insert` many times, which has poor performance.  Consider joining all columns at once using pd.concat(axis=1) instead. To get a de-fragmented frame, use `newframe = frame.copy()`\n",
      "  df[f'{c}_dlag{n}'] = df[c] - lag\n",
      "/tmp/ipykernel_7198/3416244142.py:18: PerformanceWarning: DataFrame is highly fragmented.  This is usually the result of calling `frame.insert` many times, which has poor performance.  Consider joining all columns at once using pd.concat(axis=1) instead. To get a de-fragmented frame, use `newframe = frame.copy()`\n",
      "  df[f'{c}_lag{n}']  = lag\n",
      "/tmp/ipykernel_7198/3416244142.py:19: PerformanceWarning: DataFrame is highly fragmented.  This is usually the result of calling `frame.insert` many times, which has poor performance.  Consider joining all columns at once using pd.concat(axis=1) instead. To get a de-fragmented frame, use `newframe = frame.copy()`\n",
      "  df[f'{c}_dlag{n}'] = df[c] - lag\n",
      "/tmp/ipykernel_7198/3416244142.py:18: PerformanceWarning: DataFrame is highly fragmented.  This is usually the result of calling `frame.insert` many times, which has poor performance.  Consider joining all columns at once using pd.concat(axis=1) instead. To get a de-fragmented frame, use `newframe = frame.copy()`\n",
      "  df[f'{c}_lag{n}']  = lag\n",
      "/tmp/ipykernel_7198/3416244142.py:19: PerformanceWarning: DataFrame is highly fragmented.  This is usually the result of calling `frame.insert` many times, which has poor performance.  Consider joining all columns at once using pd.concat(axis=1) instead. To get a de-fragmented frame, use `newframe = frame.copy()`\n",
      "  df[f'{c}_dlag{n}'] = df[c] - lag\n",
      "/tmp/ipykernel_7198/3416244142.py:18: PerformanceWarning: DataFrame is highly fragmented.  This is usually the result of calling `frame.insert` many times, which has poor performance.  Consider joining all columns at once using pd.concat(axis=1) instead. To get a de-fragmented frame, use `newframe = frame.copy()`\n",
      "  df[f'{c}_lag{n}']  = lag\n",
      "/tmp/ipykernel_7198/3416244142.py:19: PerformanceWarning: DataFrame is highly fragmented.  This is usually the result of calling `frame.insert` many times, which has poor performance.  Consider joining all columns at once using pd.concat(axis=1) instead. To get a de-fragmented frame, use `newframe = frame.copy()`\n",
      "  df[f'{c}_dlag{n}'] = df[c] - lag\n",
      "/tmp/ipykernel_7198/3416244142.py:18: PerformanceWarning: DataFrame is highly fragmented.  This is usually the result of calling `frame.insert` many times, which has poor performance.  Consider joining all columns at once using pd.concat(axis=1) instead. To get a de-fragmented frame, use `newframe = frame.copy()`\n",
      "  df[f'{c}_lag{n}']  = lag\n",
      "/tmp/ipykernel_7198/3416244142.py:19: PerformanceWarning: DataFrame is highly fragmented.  This is usually the result of calling `frame.insert` many times, which has poor performance.  Consider joining all columns at once using pd.concat(axis=1) instead. To get a de-fragmented frame, use `newframe = frame.copy()`\n",
      "  df[f'{c}_dlag{n}'] = df[c] - lag\n",
      "/tmp/ipykernel_7198/3416244142.py:18: PerformanceWarning: DataFrame is highly fragmented.  This is usually the result of calling `frame.insert` many times, which has poor performance.  Consider joining all columns at once using pd.concat(axis=1) instead. To get a de-fragmented frame, use `newframe = frame.copy()`\n",
      "  df[f'{c}_lag{n}']  = lag\n",
      "/tmp/ipykernel_7198/3416244142.py:19: PerformanceWarning: DataFrame is highly fragmented.  This is usually the result of calling `frame.insert` many times, which has poor performance.  Consider joining all columns at once using pd.concat(axis=1) instead. To get a de-fragmented frame, use `newframe = frame.copy()`\n",
      "  df[f'{c}_dlag{n}'] = df[c] - lag\n",
      "/tmp/ipykernel_7198/3416244142.py:18: PerformanceWarning: DataFrame is highly fragmented.  This is usually the result of calling `frame.insert` many times, which has poor performance.  Consider joining all columns at once using pd.concat(axis=1) instead. To get a de-fragmented frame, use `newframe = frame.copy()`\n",
      "  df[f'{c}_lag{n}']  = lag\n",
      "/tmp/ipykernel_7198/3416244142.py:19: PerformanceWarning: DataFrame is highly fragmented.  This is usually the result of calling `frame.insert` many times, which has poor performance.  Consider joining all columns at once using pd.concat(axis=1) instead. To get a de-fragmented frame, use `newframe = frame.copy()`\n",
      "  df[f'{c}_dlag{n}'] = df[c] - lag\n",
      "/tmp/ipykernel_7198/3416244142.py:18: PerformanceWarning: DataFrame is highly fragmented.  This is usually the result of calling `frame.insert` many times, which has poor performance.  Consider joining all columns at once using pd.concat(axis=1) instead. To get a de-fragmented frame, use `newframe = frame.copy()`\n",
      "  df[f'{c}_lag{n}']  = lag\n",
      "/tmp/ipykernel_7198/3416244142.py:19: PerformanceWarning: DataFrame is highly fragmented.  This is usually the result of calling `frame.insert` many times, which has poor performance.  Consider joining all columns at once using pd.concat(axis=1) instead. To get a de-fragmented frame, use `newframe = frame.copy()`\n",
      "  df[f'{c}_dlag{n}'] = df[c] - lag\n",
      "/tmp/ipykernel_7198/3416244142.py:18: PerformanceWarning: DataFrame is highly fragmented.  This is usually the result of calling `frame.insert` many times, which has poor performance.  Consider joining all columns at once using pd.concat(axis=1) instead. To get a de-fragmented frame, use `newframe = frame.copy()`\n",
      "  df[f'{c}_lag{n}']  = lag\n",
      "/tmp/ipykernel_7198/3416244142.py:19: PerformanceWarning: DataFrame is highly fragmented.  This is usually the result of calling `frame.insert` many times, which has poor performance.  Consider joining all columns at once using pd.concat(axis=1) instead. To get a de-fragmented frame, use `newframe = frame.copy()`\n",
      "  df[f'{c}_dlag{n}'] = df[c] - lag\n",
      "/tmp/ipykernel_7198/3416244142.py:18: PerformanceWarning: DataFrame is highly fragmented.  This is usually the result of calling `frame.insert` many times, which has poor performance.  Consider joining all columns at once using pd.concat(axis=1) instead. To get a de-fragmented frame, use `newframe = frame.copy()`\n",
      "  df[f'{c}_lag{n}']  = lag\n",
      "/tmp/ipykernel_7198/3416244142.py:19: PerformanceWarning: DataFrame is highly fragmented.  This is usually the result of calling `frame.insert` many times, which has poor performance.  Consider joining all columns at once using pd.concat(axis=1) instead. To get a de-fragmented frame, use `newframe = frame.copy()`\n",
      "  df[f'{c}_dlag{n}'] = df[c] - lag\n",
      "/tmp/ipykernel_7198/3416244142.py:18: PerformanceWarning: DataFrame is highly fragmented.  This is usually the result of calling `frame.insert` many times, which has poor performance.  Consider joining all columns at once using pd.concat(axis=1) instead. To get a de-fragmented frame, use `newframe = frame.copy()`\n",
      "  df[f'{c}_lag{n}']  = lag\n",
      "/tmp/ipykernel_7198/3416244142.py:19: PerformanceWarning: DataFrame is highly fragmented.  This is usually the result of calling `frame.insert` many times, which has poor performance.  Consider joining all columns at once using pd.concat(axis=1) instead. To get a de-fragmented frame, use `newframe = frame.copy()`\n",
      "  df[f'{c}_dlag{n}'] = df[c] - lag\n",
      "/tmp/ipykernel_7198/3416244142.py:18: PerformanceWarning: DataFrame is highly fragmented.  This is usually the result of calling `frame.insert` many times, which has poor performance.  Consider joining all columns at once using pd.concat(axis=1) instead. To get a de-fragmented frame, use `newframe = frame.copy()`\n",
      "  df[f'{c}_lag{n}']  = lag\n",
      "/tmp/ipykernel_7198/3416244142.py:19: PerformanceWarning: DataFrame is highly fragmented.  This is usually the result of calling `frame.insert` many times, which has poor performance.  Consider joining all columns at once using pd.concat(axis=1) instead. To get a de-fragmented frame, use `newframe = frame.copy()`\n",
      "  df[f'{c}_dlag{n}'] = df[c] - lag\n",
      "/tmp/ipykernel_7198/3416244142.py:18: PerformanceWarning: DataFrame is highly fragmented.  This is usually the result of calling `frame.insert` many times, which has poor performance.  Consider joining all columns at once using pd.concat(axis=1) instead. To get a de-fragmented frame, use `newframe = frame.copy()`\n",
      "  df[f'{c}_lag{n}']  = lag\n",
      "/tmp/ipykernel_7198/3416244142.py:19: PerformanceWarning: DataFrame is highly fragmented.  This is usually the result of calling `frame.insert` many times, which has poor performance.  Consider joining all columns at once using pd.concat(axis=1) instead. To get a de-fragmented frame, use `newframe = frame.copy()`\n",
      "  df[f'{c}_dlag{n}'] = df[c] - lag\n",
      "/tmp/ipykernel_7198/3416244142.py:18: PerformanceWarning: DataFrame is highly fragmented.  This is usually the result of calling `frame.insert` many times, which has poor performance.  Consider joining all columns at once using pd.concat(axis=1) instead. To get a de-fragmented frame, use `newframe = frame.copy()`\n",
      "  df[f'{c}_lag{n}']  = lag\n",
      "/tmp/ipykernel_7198/3416244142.py:19: PerformanceWarning: DataFrame is highly fragmented.  This is usually the result of calling `frame.insert` many times, which has poor performance.  Consider joining all columns at once using pd.concat(axis=1) instead. To get a de-fragmented frame, use `newframe = frame.copy()`\n",
      "  df[f'{c}_dlag{n}'] = df[c] - lag\n",
      "/tmp/ipykernel_7198/3416244142.py:18: PerformanceWarning: DataFrame is highly fragmented.  This is usually the result of calling `frame.insert` many times, which has poor performance.  Consider joining all columns at once using pd.concat(axis=1) instead. To get a de-fragmented frame, use `newframe = frame.copy()`\n",
      "  df[f'{c}_lag{n}']  = lag\n",
      "/tmp/ipykernel_7198/3416244142.py:19: PerformanceWarning: DataFrame is highly fragmented.  This is usually the result of calling `frame.insert` many times, which has poor performance.  Consider joining all columns at once using pd.concat(axis=1) instead. To get a de-fragmented frame, use `newframe = frame.copy()`\n",
      "  df[f'{c}_dlag{n}'] = df[c] - lag\n",
      "/tmp/ipykernel_7198/3416244142.py:18: PerformanceWarning: DataFrame is highly fragmented.  This is usually the result of calling `frame.insert` many times, which has poor performance.  Consider joining all columns at once using pd.concat(axis=1) instead. To get a de-fragmented frame, use `newframe = frame.copy()`\n",
      "  df[f'{c}_lag{n}']  = lag\n",
      "/tmp/ipykernel_7198/3416244142.py:19: PerformanceWarning: DataFrame is highly fragmented.  This is usually the result of calling `frame.insert` many times, which has poor performance.  Consider joining all columns at once using pd.concat(axis=1) instead. To get a de-fragmented frame, use `newframe = frame.copy()`\n",
      "  df[f'{c}_dlag{n}'] = df[c] - lag\n",
      "/tmp/ipykernel_7198/3416244142.py:18: PerformanceWarning: DataFrame is highly fragmented.  This is usually the result of calling `frame.insert` many times, which has poor performance.  Consider joining all columns at once using pd.concat(axis=1) instead. To get a de-fragmented frame, use `newframe = frame.copy()`\n",
      "  df[f'{c}_lag{n}']  = lag\n",
      "/tmp/ipykernel_7198/3416244142.py:19: PerformanceWarning: DataFrame is highly fragmented.  This is usually the result of calling `frame.insert` many times, which has poor performance.  Consider joining all columns at once using pd.concat(axis=1) instead. To get a de-fragmented frame, use `newframe = frame.copy()`\n",
      "  df[f'{c}_dlag{n}'] = df[c] - lag\n",
      "/tmp/ipykernel_7198/3416244142.py:18: PerformanceWarning: DataFrame is highly fragmented.  This is usually the result of calling `frame.insert` many times, which has poor performance.  Consider joining all columns at once using pd.concat(axis=1) instead. To get a de-fragmented frame, use `newframe = frame.copy()`\n",
      "  df[f'{c}_lag{n}']  = lag\n",
      "/tmp/ipykernel_7198/3416244142.py:19: PerformanceWarning: DataFrame is highly fragmented.  This is usually the result of calling `frame.insert` many times, which has poor performance.  Consider joining all columns at once using pd.concat(axis=1) instead. To get a de-fragmented frame, use `newframe = frame.copy()`\n",
      "  df[f'{c}_dlag{n}'] = df[c] - lag\n",
      "/tmp/ipykernel_7198/3416244142.py:18: PerformanceWarning: DataFrame is highly fragmented.  This is usually the result of calling `frame.insert` many times, which has poor performance.  Consider joining all columns at once using pd.concat(axis=1) instead. To get a de-fragmented frame, use `newframe = frame.copy()`\n",
      "  df[f'{c}_lag{n}']  = lag\n",
      "/tmp/ipykernel_7198/3416244142.py:19: PerformanceWarning: DataFrame is highly fragmented.  This is usually the result of calling `frame.insert` many times, which has poor performance.  Consider joining all columns at once using pd.concat(axis=1) instead. To get a de-fragmented frame, use `newframe = frame.copy()`\n",
      "  df[f'{c}_dlag{n}'] = df[c] - lag\n",
      "/tmp/ipykernel_7198/3416244142.py:18: PerformanceWarning: DataFrame is highly fragmented.  This is usually the result of calling `frame.insert` many times, which has poor performance.  Consider joining all columns at once using pd.concat(axis=1) instead. To get a de-fragmented frame, use `newframe = frame.copy()`\n",
      "  df[f'{c}_lag{n}']  = lag\n",
      "/tmp/ipykernel_7198/3416244142.py:19: PerformanceWarning: DataFrame is highly fragmented.  This is usually the result of calling `frame.insert` many times, which has poor performance.  Consider joining all columns at once using pd.concat(axis=1) instead. To get a de-fragmented frame, use `newframe = frame.copy()`\n",
      "  df[f'{c}_dlag{n}'] = df[c] - lag\n",
      "/tmp/ipykernel_7198/3416244142.py:18: PerformanceWarning: DataFrame is highly fragmented.  This is usually the result of calling `frame.insert` many times, which has poor performance.  Consider joining all columns at once using pd.concat(axis=1) instead. To get a de-fragmented frame, use `newframe = frame.copy()`\n",
      "  df[f'{c}_lag{n}']  = lag\n",
      "/tmp/ipykernel_7198/3416244142.py:19: PerformanceWarning: DataFrame is highly fragmented.  This is usually the result of calling `frame.insert` many times, which has poor performance.  Consider joining all columns at once using pd.concat(axis=1) instead. To get a de-fragmented frame, use `newframe = frame.copy()`\n",
      "  df[f'{c}_dlag{n}'] = df[c] - lag\n",
      "/tmp/ipykernel_7198/3416244142.py:18: PerformanceWarning: DataFrame is highly fragmented.  This is usually the result of calling `frame.insert` many times, which has poor performance.  Consider joining all columns at once using pd.concat(axis=1) instead. To get a de-fragmented frame, use `newframe = frame.copy()`\n",
      "  df[f'{c}_lag{n}']  = lag\n",
      "/tmp/ipykernel_7198/3416244142.py:19: PerformanceWarning: DataFrame is highly fragmented.  This is usually the result of calling `frame.insert` many times, which has poor performance.  Consider joining all columns at once using pd.concat(axis=1) instead. To get a de-fragmented frame, use `newframe = frame.copy()`\n",
      "  df[f'{c}_dlag{n}'] = df[c] - lag\n",
      "/tmp/ipykernel_7198/3416244142.py:18: PerformanceWarning: DataFrame is highly fragmented.  This is usually the result of calling `frame.insert` many times, which has poor performance.  Consider joining all columns at once using pd.concat(axis=1) instead. To get a de-fragmented frame, use `newframe = frame.copy()`\n",
      "  df[f'{c}_lag{n}']  = lag\n",
      "/tmp/ipykernel_7198/3416244142.py:19: PerformanceWarning: DataFrame is highly fragmented.  This is usually the result of calling `frame.insert` many times, which has poor performance.  Consider joining all columns at once using pd.concat(axis=1) instead. To get a de-fragmented frame, use `newframe = frame.copy()`\n",
      "  df[f'{c}_dlag{n}'] = df[c] - lag\n",
      "/tmp/ipykernel_7198/3416244142.py:18: PerformanceWarning: DataFrame is highly fragmented.  This is usually the result of calling `frame.insert` many times, which has poor performance.  Consider joining all columns at once using pd.concat(axis=1) instead. To get a de-fragmented frame, use `newframe = frame.copy()`\n",
      "  df[f'{c}_lag{n}']  = lag\n",
      "/tmp/ipykernel_7198/3416244142.py:19: PerformanceWarning: DataFrame is highly fragmented.  This is usually the result of calling `frame.insert` many times, which has poor performance.  Consider joining all columns at once using pd.concat(axis=1) instead. To get a de-fragmented frame, use `newframe = frame.copy()`\n",
      "  df[f'{c}_dlag{n}'] = df[c] - lag\n",
      "/tmp/ipykernel_7198/3416244142.py:18: PerformanceWarning: DataFrame is highly fragmented.  This is usually the result of calling `frame.insert` many times, which has poor performance.  Consider joining all columns at once using pd.concat(axis=1) instead. To get a de-fragmented frame, use `newframe = frame.copy()`\n",
      "  df[f'{c}_lag{n}']  = lag\n",
      "/tmp/ipykernel_7198/3416244142.py:19: PerformanceWarning: DataFrame is highly fragmented.  This is usually the result of calling `frame.insert` many times, which has poor performance.  Consider joining all columns at once using pd.concat(axis=1) instead. To get a de-fragmented frame, use `newframe = frame.copy()`\n",
      "  df[f'{c}_dlag{n}'] = df[c] - lag\n",
      "/tmp/ipykernel_7198/3416244142.py:18: PerformanceWarning: DataFrame is highly fragmented.  This is usually the result of calling `frame.insert` many times, which has poor performance.  Consider joining all columns at once using pd.concat(axis=1) instead. To get a de-fragmented frame, use `newframe = frame.copy()`\n",
      "  df[f'{c}_lag{n}']  = lag\n",
      "/tmp/ipykernel_7198/3416244142.py:19: PerformanceWarning: DataFrame is highly fragmented.  This is usually the result of calling `frame.insert` many times, which has poor performance.  Consider joining all columns at once using pd.concat(axis=1) instead. To get a de-fragmented frame, use `newframe = frame.copy()`\n",
      "  df[f'{c}_dlag{n}'] = df[c] - lag\n",
      "/tmp/ipykernel_7198/3416244142.py:18: PerformanceWarning: DataFrame is highly fragmented.  This is usually the result of calling `frame.insert` many times, which has poor performance.  Consider joining all columns at once using pd.concat(axis=1) instead. To get a de-fragmented frame, use `newframe = frame.copy()`\n",
      "  df[f'{c}_lag{n}']  = lag\n",
      "/tmp/ipykernel_7198/3416244142.py:19: PerformanceWarning: DataFrame is highly fragmented.  This is usually the result of calling `frame.insert` many times, which has poor performance.  Consider joining all columns at once using pd.concat(axis=1) instead. To get a de-fragmented frame, use `newframe = frame.copy()`\n",
      "  df[f'{c}_dlag{n}'] = df[c] - lag\n",
      "/tmp/ipykernel_7198/3416244142.py:18: PerformanceWarning: DataFrame is highly fragmented.  This is usually the result of calling `frame.insert` many times, which has poor performance.  Consider joining all columns at once using pd.concat(axis=1) instead. To get a de-fragmented frame, use `newframe = frame.copy()`\n",
      "  df[f'{c}_lag{n}']  = lag\n",
      "/tmp/ipykernel_7198/3416244142.py:19: PerformanceWarning: DataFrame is highly fragmented.  This is usually the result of calling `frame.insert` many times, which has poor performance.  Consider joining all columns at once using pd.concat(axis=1) instead. To get a de-fragmented frame, use `newframe = frame.copy()`\n",
      "  df[f'{c}_dlag{n}'] = df[c] - lag\n",
      "/tmp/ipykernel_7198/3416244142.py:18: PerformanceWarning: DataFrame is highly fragmented.  This is usually the result of calling `frame.insert` many times, which has poor performance.  Consider joining all columns at once using pd.concat(axis=1) instead. To get a de-fragmented frame, use `newframe = frame.copy()`\n",
      "  df[f'{c}_lag{n}']  = lag\n",
      "/tmp/ipykernel_7198/3416244142.py:19: PerformanceWarning: DataFrame is highly fragmented.  This is usually the result of calling `frame.insert` many times, which has poor performance.  Consider joining all columns at once using pd.concat(axis=1) instead. To get a de-fragmented frame, use `newframe = frame.copy()`\n",
      "  df[f'{c}_dlag{n}'] = df[c] - lag\n",
      "/tmp/ipykernel_7198/3416244142.py:18: PerformanceWarning: DataFrame is highly fragmented.  This is usually the result of calling `frame.insert` many times, which has poor performance.  Consider joining all columns at once using pd.concat(axis=1) instead. To get a de-fragmented frame, use `newframe = frame.copy()`\n",
      "  df[f'{c}_lag{n}']  = lag\n",
      "/tmp/ipykernel_7198/3416244142.py:19: PerformanceWarning: DataFrame is highly fragmented.  This is usually the result of calling `frame.insert` many times, which has poor performance.  Consider joining all columns at once using pd.concat(axis=1) instead. To get a de-fragmented frame, use `newframe = frame.copy()`\n",
      "  df[f'{c}_dlag{n}'] = df[c] - lag\n",
      "/tmp/ipykernel_7198/3416244142.py:18: PerformanceWarning: DataFrame is highly fragmented.  This is usually the result of calling `frame.insert` many times, which has poor performance.  Consider joining all columns at once using pd.concat(axis=1) instead. To get a de-fragmented frame, use `newframe = frame.copy()`\n",
      "  df[f'{c}_lag{n}']  = lag\n",
      "/tmp/ipykernel_7198/3416244142.py:19: PerformanceWarning: DataFrame is highly fragmented.  This is usually the result of calling `frame.insert` many times, which has poor performance.  Consider joining all columns at once using pd.concat(axis=1) instead. To get a de-fragmented frame, use `newframe = frame.copy()`\n",
      "  df[f'{c}_dlag{n}'] = df[c] - lag\n",
      "/tmp/ipykernel_7198/3416244142.py:18: PerformanceWarning: DataFrame is highly fragmented.  This is usually the result of calling `frame.insert` many times, which has poor performance.  Consider joining all columns at once using pd.concat(axis=1) instead. To get a de-fragmented frame, use `newframe = frame.copy()`\n",
      "  df[f'{c}_lag{n}']  = lag\n",
      "/tmp/ipykernel_7198/3416244142.py:19: PerformanceWarning: DataFrame is highly fragmented.  This is usually the result of calling `frame.insert` many times, which has poor performance.  Consider joining all columns at once using pd.concat(axis=1) instead. To get a de-fragmented frame, use `newframe = frame.copy()`\n",
      "  df[f'{c}_dlag{n}'] = df[c] - lag\n",
      "/tmp/ipykernel_7198/3416244142.py:18: PerformanceWarning: DataFrame is highly fragmented.  This is usually the result of calling `frame.insert` many times, which has poor performance.  Consider joining all columns at once using pd.concat(axis=1) instead. To get a de-fragmented frame, use `newframe = frame.copy()`\n",
      "  df[f'{c}_lag{n}']  = lag\n",
      "/tmp/ipykernel_7198/3416244142.py:19: PerformanceWarning: DataFrame is highly fragmented.  This is usually the result of calling `frame.insert` many times, which has poor performance.  Consider joining all columns at once using pd.concat(axis=1) instead. To get a de-fragmented frame, use `newframe = frame.copy()`\n",
      "  df[f'{c}_dlag{n}'] = df[c] - lag\n",
      "/tmp/ipykernel_7198/3416244142.py:18: PerformanceWarning: DataFrame is highly fragmented.  This is usually the result of calling `frame.insert` many times, which has poor performance.  Consider joining all columns at once using pd.concat(axis=1) instead. To get a de-fragmented frame, use `newframe = frame.copy()`\n",
      "  df[f'{c}_lag{n}']  = lag\n",
      "/tmp/ipykernel_7198/3416244142.py:19: PerformanceWarning: DataFrame is highly fragmented.  This is usually the result of calling `frame.insert` many times, which has poor performance.  Consider joining all columns at once using pd.concat(axis=1) instead. To get a de-fragmented frame, use `newframe = frame.copy()`\n",
      "  df[f'{c}_dlag{n}'] = df[c] - lag\n",
      "/tmp/ipykernel_7198/3416244142.py:18: PerformanceWarning: DataFrame is highly fragmented.  This is usually the result of calling `frame.insert` many times, which has poor performance.  Consider joining all columns at once using pd.concat(axis=1) instead. To get a de-fragmented frame, use `newframe = frame.copy()`\n",
      "  df[f'{c}_lag{n}']  = lag\n",
      "/tmp/ipykernel_7198/3416244142.py:19: PerformanceWarning: DataFrame is highly fragmented.  This is usually the result of calling `frame.insert` many times, which has poor performance.  Consider joining all columns at once using pd.concat(axis=1) instead. To get a de-fragmented frame, use `newframe = frame.copy()`\n",
      "  df[f'{c}_dlag{n}'] = df[c] - lag\n",
      "/tmp/ipykernel_7198/3416244142.py:18: PerformanceWarning: DataFrame is highly fragmented.  This is usually the result of calling `frame.insert` many times, which has poor performance.  Consider joining all columns at once using pd.concat(axis=1) instead. To get a de-fragmented frame, use `newframe = frame.copy()`\n",
      "  df[f'{c}_lag{n}']  = lag\n",
      "/tmp/ipykernel_7198/3416244142.py:19: PerformanceWarning: DataFrame is highly fragmented.  This is usually the result of calling `frame.insert` many times, which has poor performance.  Consider joining all columns at once using pd.concat(axis=1) instead. To get a de-fragmented frame, use `newframe = frame.copy()`\n",
      "  df[f'{c}_dlag{n}'] = df[c] - lag\n",
      "/tmp/ipykernel_7198/3416244142.py:18: PerformanceWarning: DataFrame is highly fragmented.  This is usually the result of calling `frame.insert` many times, which has poor performance.  Consider joining all columns at once using pd.concat(axis=1) instead. To get a de-fragmented frame, use `newframe = frame.copy()`\n",
      "  df[f'{c}_lag{n}']  = lag\n",
      "/tmp/ipykernel_7198/3416244142.py:19: PerformanceWarning: DataFrame is highly fragmented.  This is usually the result of calling `frame.insert` many times, which has poor performance.  Consider joining all columns at once using pd.concat(axis=1) instead. To get a de-fragmented frame, use `newframe = frame.copy()`\n",
      "  df[f'{c}_dlag{n}'] = df[c] - lag\n",
      "/tmp/ipykernel_7198/3416244142.py:18: PerformanceWarning: DataFrame is highly fragmented.  This is usually the result of calling `frame.insert` many times, which has poor performance.  Consider joining all columns at once using pd.concat(axis=1) instead. To get a de-fragmented frame, use `newframe = frame.copy()`\n",
      "  df[f'{c}_lag{n}']  = lag\n",
      "/tmp/ipykernel_7198/3416244142.py:19: PerformanceWarning: DataFrame is highly fragmented.  This is usually the result of calling `frame.insert` many times, which has poor performance.  Consider joining all columns at once using pd.concat(axis=1) instead. To get a de-fragmented frame, use `newframe = frame.copy()`\n",
      "  df[f'{c}_dlag{n}'] = df[c] - lag\n",
      "/tmp/ipykernel_7198/3416244142.py:18: PerformanceWarning: DataFrame is highly fragmented.  This is usually the result of calling `frame.insert` many times, which has poor performance.  Consider joining all columns at once using pd.concat(axis=1) instead. To get a de-fragmented frame, use `newframe = frame.copy()`\n",
      "  df[f'{c}_lag{n}']  = lag\n",
      "/tmp/ipykernel_7198/3416244142.py:19: PerformanceWarning: DataFrame is highly fragmented.  This is usually the result of calling `frame.insert` many times, which has poor performance.  Consider joining all columns at once using pd.concat(axis=1) instead. To get a de-fragmented frame, use `newframe = frame.copy()`\n",
      "  df[f'{c}_dlag{n}'] = df[c] - lag\n",
      "/tmp/ipykernel_7198/3416244142.py:18: PerformanceWarning: DataFrame is highly fragmented.  This is usually the result of calling `frame.insert` many times, which has poor performance.  Consider joining all columns at once using pd.concat(axis=1) instead. To get a de-fragmented frame, use `newframe = frame.copy()`\n",
      "  df[f'{c}_lag{n}']  = lag\n",
      "/tmp/ipykernel_7198/3416244142.py:19: PerformanceWarning: DataFrame is highly fragmented.  This is usually the result of calling `frame.insert` many times, which has poor performance.  Consider joining all columns at once using pd.concat(axis=1) instead. To get a de-fragmented frame, use `newframe = frame.copy()`\n",
      "  df[f'{c}_dlag{n}'] = df[c] - lag\n",
      "/tmp/ipykernel_7198/3416244142.py:18: PerformanceWarning: DataFrame is highly fragmented.  This is usually the result of calling `frame.insert` many times, which has poor performance.  Consider joining all columns at once using pd.concat(axis=1) instead. To get a de-fragmented frame, use `newframe = frame.copy()`\n",
      "  df[f'{c}_lag{n}']  = lag\n",
      "/tmp/ipykernel_7198/3416244142.py:19: PerformanceWarning: DataFrame is highly fragmented.  This is usually the result of calling `frame.insert` many times, which has poor performance.  Consider joining all columns at once using pd.concat(axis=1) instead. To get a de-fragmented frame, use `newframe = frame.copy()`\n",
      "  df[f'{c}_dlag{n}'] = df[c] - lag\n",
      "/tmp/ipykernel_7198/3416244142.py:18: PerformanceWarning: DataFrame is highly fragmented.  This is usually the result of calling `frame.insert` many times, which has poor performance.  Consider joining all columns at once using pd.concat(axis=1) instead. To get a de-fragmented frame, use `newframe = frame.copy()`\n",
      "  df[f'{c}_lag{n}']  = lag\n",
      "/tmp/ipykernel_7198/3416244142.py:19: PerformanceWarning: DataFrame is highly fragmented.  This is usually the result of calling `frame.insert` many times, which has poor performance.  Consider joining all columns at once using pd.concat(axis=1) instead. To get a de-fragmented frame, use `newframe = frame.copy()`\n",
      "  df[f'{c}_dlag{n}'] = df[c] - lag\n",
      "/tmp/ipykernel_7198/3416244142.py:18: PerformanceWarning: DataFrame is highly fragmented.  This is usually the result of calling `frame.insert` many times, which has poor performance.  Consider joining all columns at once using pd.concat(axis=1) instead. To get a de-fragmented frame, use `newframe = frame.copy()`\n",
      "  df[f'{c}_lag{n}']  = lag\n",
      "/tmp/ipykernel_7198/3416244142.py:19: PerformanceWarning: DataFrame is highly fragmented.  This is usually the result of calling `frame.insert` many times, which has poor performance.  Consider joining all columns at once using pd.concat(axis=1) instead. To get a de-fragmented frame, use `newframe = frame.copy()`\n",
      "  df[f'{c}_dlag{n}'] = df[c] - lag\n",
      "/tmp/ipykernel_7198/3416244142.py:18: PerformanceWarning: DataFrame is highly fragmented.  This is usually the result of calling `frame.insert` many times, which has poor performance.  Consider joining all columns at once using pd.concat(axis=1) instead. To get a de-fragmented frame, use `newframe = frame.copy()`\n",
      "  df[f'{c}_lag{n}']  = lag\n",
      "/tmp/ipykernel_7198/3416244142.py:19: PerformanceWarning: DataFrame is highly fragmented.  This is usually the result of calling `frame.insert` many times, which has poor performance.  Consider joining all columns at once using pd.concat(axis=1) instead. To get a de-fragmented frame, use `newframe = frame.copy()`\n",
      "  df[f'{c}_dlag{n}'] = df[c] - lag\n",
      "/tmp/ipykernel_7198/3416244142.py:18: PerformanceWarning: DataFrame is highly fragmented.  This is usually the result of calling `frame.insert` many times, which has poor performance.  Consider joining all columns at once using pd.concat(axis=1) instead. To get a de-fragmented frame, use `newframe = frame.copy()`\n",
      "  df[f'{c}_lag{n}']  = lag\n",
      "/tmp/ipykernel_7198/3416244142.py:19: PerformanceWarning: DataFrame is highly fragmented.  This is usually the result of calling `frame.insert` many times, which has poor performance.  Consider joining all columns at once using pd.concat(axis=1) instead. To get a de-fragmented frame, use `newframe = frame.copy()`\n",
      "  df[f'{c}_dlag{n}'] = df[c] - lag\n",
      "/tmp/ipykernel_7198/3416244142.py:18: PerformanceWarning: DataFrame is highly fragmented.  This is usually the result of calling `frame.insert` many times, which has poor performance.  Consider joining all columns at once using pd.concat(axis=1) instead. To get a de-fragmented frame, use `newframe = frame.copy()`\n",
      "  df[f'{c}_lag{n}']  = lag\n",
      "/tmp/ipykernel_7198/3416244142.py:19: PerformanceWarning: DataFrame is highly fragmented.  This is usually the result of calling `frame.insert` many times, which has poor performance.  Consider joining all columns at once using pd.concat(axis=1) instead. To get a de-fragmented frame, use `newframe = frame.copy()`\n",
      "  df[f'{c}_dlag{n}'] = df[c] - lag\n",
      "/tmp/ipykernel_7198/3416244142.py:18: PerformanceWarning: DataFrame is highly fragmented.  This is usually the result of calling `frame.insert` many times, which has poor performance.  Consider joining all columns at once using pd.concat(axis=1) instead. To get a de-fragmented frame, use `newframe = frame.copy()`\n",
      "  df[f'{c}_lag{n}']  = lag\n",
      "/tmp/ipykernel_7198/3416244142.py:19: PerformanceWarning: DataFrame is highly fragmented.  This is usually the result of calling `frame.insert` many times, which has poor performance.  Consider joining all columns at once using pd.concat(axis=1) instead. To get a de-fragmented frame, use `newframe = frame.copy()`\n",
      "  df[f'{c}_dlag{n}'] = df[c] - lag\n",
      "/tmp/ipykernel_7198/3416244142.py:18: PerformanceWarning: DataFrame is highly fragmented.  This is usually the result of calling `frame.insert` many times, which has poor performance.  Consider joining all columns at once using pd.concat(axis=1) instead. To get a de-fragmented frame, use `newframe = frame.copy()`\n",
      "  df[f'{c}_lag{n}']  = lag\n",
      "/tmp/ipykernel_7198/3416244142.py:19: PerformanceWarning: DataFrame is highly fragmented.  This is usually the result of calling `frame.insert` many times, which has poor performance.  Consider joining all columns at once using pd.concat(axis=1) instead. To get a de-fragmented frame, use `newframe = frame.copy()`\n",
      "  df[f'{c}_dlag{n}'] = df[c] - lag\n",
      "/tmp/ipykernel_7198/3416244142.py:18: PerformanceWarning: DataFrame is highly fragmented.  This is usually the result of calling `frame.insert` many times, which has poor performance.  Consider joining all columns at once using pd.concat(axis=1) instead. To get a de-fragmented frame, use `newframe = frame.copy()`\n",
      "  df[f'{c}_lag{n}']  = lag\n",
      "/tmp/ipykernel_7198/3416244142.py:19: PerformanceWarning: DataFrame is highly fragmented.  This is usually the result of calling `frame.insert` many times, which has poor performance.  Consider joining all columns at once using pd.concat(axis=1) instead. To get a de-fragmented frame, use `newframe = frame.copy()`\n",
      "  df[f'{c}_dlag{n}'] = df[c] - lag\n",
      "/tmp/ipykernel_7198/3416244142.py:18: PerformanceWarning: DataFrame is highly fragmented.  This is usually the result of calling `frame.insert` many times, which has poor performance.  Consider joining all columns at once using pd.concat(axis=1) instead. To get a de-fragmented frame, use `newframe = frame.copy()`\n",
      "  df[f'{c}_lag{n}']  = lag\n",
      "/tmp/ipykernel_7198/3416244142.py:19: PerformanceWarning: DataFrame is highly fragmented.  This is usually the result of calling `frame.insert` many times, which has poor performance.  Consider joining all columns at once using pd.concat(axis=1) instead. To get a de-fragmented frame, use `newframe = frame.copy()`\n",
      "  df[f'{c}_dlag{n}'] = df[c] - lag\n",
      "/tmp/ipykernel_7198/3416244142.py:18: PerformanceWarning: DataFrame is highly fragmented.  This is usually the result of calling `frame.insert` many times, which has poor performance.  Consider joining all columns at once using pd.concat(axis=1) instead. To get a de-fragmented frame, use `newframe = frame.copy()`\n",
      "  df[f'{c}_lag{n}']  = lag\n",
      "/tmp/ipykernel_7198/3416244142.py:19: PerformanceWarning: DataFrame is highly fragmented.  This is usually the result of calling `frame.insert` many times, which has poor performance.  Consider joining all columns at once using pd.concat(axis=1) instead. To get a de-fragmented frame, use `newframe = frame.copy()`\n",
      "  df[f'{c}_dlag{n}'] = df[c] - lag\n",
      "/tmp/ipykernel_7198/3416244142.py:18: PerformanceWarning: DataFrame is highly fragmented.  This is usually the result of calling `frame.insert` many times, which has poor performance.  Consider joining all columns at once using pd.concat(axis=1) instead. To get a de-fragmented frame, use `newframe = frame.copy()`\n",
      "  df[f'{c}_lag{n}']  = lag\n",
      "/tmp/ipykernel_7198/3416244142.py:19: PerformanceWarning: DataFrame is highly fragmented.  This is usually the result of calling `frame.insert` many times, which has poor performance.  Consider joining all columns at once using pd.concat(axis=1) instead. To get a de-fragmented frame, use `newframe = frame.copy()`\n",
      "  df[f'{c}_dlag{n}'] = df[c] - lag\n",
      "/tmp/ipykernel_7198/3416244142.py:18: PerformanceWarning: DataFrame is highly fragmented.  This is usually the result of calling `frame.insert` many times, which has poor performance.  Consider joining all columns at once using pd.concat(axis=1) instead. To get a de-fragmented frame, use `newframe = frame.copy()`\n",
      "  df[f'{c}_lag{n}']  = lag\n",
      "/tmp/ipykernel_7198/3416244142.py:19: PerformanceWarning: DataFrame is highly fragmented.  This is usually the result of calling `frame.insert` many times, which has poor performance.  Consider joining all columns at once using pd.concat(axis=1) instead. To get a de-fragmented frame, use `newframe = frame.copy()`\n",
      "  df[f'{c}_dlag{n}'] = df[c] - lag\n",
      "/tmp/ipykernel_7198/3416244142.py:18: PerformanceWarning: DataFrame is highly fragmented.  This is usually the result of calling `frame.insert` many times, which has poor performance.  Consider joining all columns at once using pd.concat(axis=1) instead. To get a de-fragmented frame, use `newframe = frame.copy()`\n",
      "  df[f'{c}_lag{n}']  = lag\n",
      "/tmp/ipykernel_7198/3416244142.py:19: PerformanceWarning: DataFrame is highly fragmented.  This is usually the result of calling `frame.insert` many times, which has poor performance.  Consider joining all columns at once using pd.concat(axis=1) instead. To get a de-fragmented frame, use `newframe = frame.copy()`\n",
      "  df[f'{c}_dlag{n}'] = df[c] - lag\n",
      "/tmp/ipykernel_7198/3416244142.py:18: PerformanceWarning: DataFrame is highly fragmented.  This is usually the result of calling `frame.insert` many times, which has poor performance.  Consider joining all columns at once using pd.concat(axis=1) instead. To get a de-fragmented frame, use `newframe = frame.copy()`\n",
      "  df[f'{c}_lag{n}']  = lag\n",
      "/tmp/ipykernel_7198/3416244142.py:19: PerformanceWarning: DataFrame is highly fragmented.  This is usually the result of calling `frame.insert` many times, which has poor performance.  Consider joining all columns at once using pd.concat(axis=1) instead. To get a de-fragmented frame, use `newframe = frame.copy()`\n",
      "  df[f'{c}_dlag{n}'] = df[c] - lag\n",
      "/tmp/ipykernel_7198/3416244142.py:18: PerformanceWarning: DataFrame is highly fragmented.  This is usually the result of calling `frame.insert` many times, which has poor performance.  Consider joining all columns at once using pd.concat(axis=1) instead. To get a de-fragmented frame, use `newframe = frame.copy()`\n",
      "  df[f'{c}_lag{n}']  = lag\n",
      "/tmp/ipykernel_7198/3416244142.py:19: PerformanceWarning: DataFrame is highly fragmented.  This is usually the result of calling `frame.insert` many times, which has poor performance.  Consider joining all columns at once using pd.concat(axis=1) instead. To get a de-fragmented frame, use `newframe = frame.copy()`\n",
      "  df[f'{c}_dlag{n}'] = df[c] - lag\n",
      "/tmp/ipykernel_7198/3416244142.py:18: PerformanceWarning: DataFrame is highly fragmented.  This is usually the result of calling `frame.insert` many times, which has poor performance.  Consider joining all columns at once using pd.concat(axis=1) instead. To get a de-fragmented frame, use `newframe = frame.copy()`\n",
      "  df[f'{c}_lag{n}']  = lag\n",
      "/tmp/ipykernel_7198/3416244142.py:19: PerformanceWarning: DataFrame is highly fragmented.  This is usually the result of calling `frame.insert` many times, which has poor performance.  Consider joining all columns at once using pd.concat(axis=1) instead. To get a de-fragmented frame, use `newframe = frame.copy()`\n",
      "  df[f'{c}_dlag{n}'] = df[c] - lag\n",
      "/tmp/ipykernel_7198/3416244142.py:18: PerformanceWarning: DataFrame is highly fragmented.  This is usually the result of calling `frame.insert` many times, which has poor performance.  Consider joining all columns at once using pd.concat(axis=1) instead. To get a de-fragmented frame, use `newframe = frame.copy()`\n",
      "  df[f'{c}_lag{n}']  = lag\n",
      "/tmp/ipykernel_7198/3416244142.py:19: PerformanceWarning: DataFrame is highly fragmented.  This is usually the result of calling `frame.insert` many times, which has poor performance.  Consider joining all columns at once using pd.concat(axis=1) instead. To get a de-fragmented frame, use `newframe = frame.copy()`\n",
      "  df[f'{c}_dlag{n}'] = df[c] - lag\n",
      "/tmp/ipykernel_7198/3416244142.py:18: PerformanceWarning: DataFrame is highly fragmented.  This is usually the result of calling `frame.insert` many times, which has poor performance.  Consider joining all columns at once using pd.concat(axis=1) instead. To get a de-fragmented frame, use `newframe = frame.copy()`\n",
      "  df[f'{c}_lag{n}']  = lag\n",
      "/tmp/ipykernel_7198/3416244142.py:19: PerformanceWarning: DataFrame is highly fragmented.  This is usually the result of calling `frame.insert` many times, which has poor performance.  Consider joining all columns at once using pd.concat(axis=1) instead. To get a de-fragmented frame, use `newframe = frame.copy()`\n",
      "  df[f'{c}_dlag{n}'] = df[c] - lag\n",
      "/tmp/ipykernel_7198/3416244142.py:18: PerformanceWarning: DataFrame is highly fragmented.  This is usually the result of calling `frame.insert` many times, which has poor performance.  Consider joining all columns at once using pd.concat(axis=1) instead. To get a de-fragmented frame, use `newframe = frame.copy()`\n",
      "  df[f'{c}_lag{n}']  = lag\n",
      "/tmp/ipykernel_7198/3416244142.py:19: PerformanceWarning: DataFrame is highly fragmented.  This is usually the result of calling `frame.insert` many times, which has poor performance.  Consider joining all columns at once using pd.concat(axis=1) instead. To get a de-fragmented frame, use `newframe = frame.copy()`\n",
      "  df[f'{c}_dlag{n}'] = df[c] - lag\n",
      "/tmp/ipykernel_7198/3416244142.py:18: PerformanceWarning: DataFrame is highly fragmented.  This is usually the result of calling `frame.insert` many times, which has poor performance.  Consider joining all columns at once using pd.concat(axis=1) instead. To get a de-fragmented frame, use `newframe = frame.copy()`\n",
      "  df[f'{c}_lag{n}']  = lag\n",
      "/tmp/ipykernel_7198/3416244142.py:19: PerformanceWarning: DataFrame is highly fragmented.  This is usually the result of calling `frame.insert` many times, which has poor performance.  Consider joining all columns at once using pd.concat(axis=1) instead. To get a de-fragmented frame, use `newframe = frame.copy()`\n",
      "  df[f'{c}_dlag{n}'] = df[c] - lag\n",
      "/tmp/ipykernel_7198/3416244142.py:18: PerformanceWarning: DataFrame is highly fragmented.  This is usually the result of calling `frame.insert` many times, which has poor performance.  Consider joining all columns at once using pd.concat(axis=1) instead. To get a de-fragmented frame, use `newframe = frame.copy()`\n",
      "  df[f'{c}_lag{n}']  = lag\n",
      "/tmp/ipykernel_7198/3416244142.py:19: PerformanceWarning: DataFrame is highly fragmented.  This is usually the result of calling `frame.insert` many times, which has poor performance.  Consider joining all columns at once using pd.concat(axis=1) instead. To get a de-fragmented frame, use `newframe = frame.copy()`\n",
      "  df[f'{c}_dlag{n}'] = df[c] - lag\n",
      "/tmp/ipykernel_7198/3416244142.py:18: PerformanceWarning: DataFrame is highly fragmented.  This is usually the result of calling `frame.insert` many times, which has poor performance.  Consider joining all columns at once using pd.concat(axis=1) instead. To get a de-fragmented frame, use `newframe = frame.copy()`\n",
      "  df[f'{c}_lag{n}']  = lag\n",
      "/tmp/ipykernel_7198/3416244142.py:19: PerformanceWarning: DataFrame is highly fragmented.  This is usually the result of calling `frame.insert` many times, which has poor performance.  Consider joining all columns at once using pd.concat(axis=1) instead. To get a de-fragmented frame, use `newframe = frame.copy()`\n",
      "  df[f'{c}_dlag{n}'] = df[c] - lag\n",
      "/tmp/ipykernel_7198/3416244142.py:18: PerformanceWarning: DataFrame is highly fragmented.  This is usually the result of calling `frame.insert` many times, which has poor performance.  Consider joining all columns at once using pd.concat(axis=1) instead. To get a de-fragmented frame, use `newframe = frame.copy()`\n",
      "  df[f'{c}_lag{n}']  = lag\n",
      "/tmp/ipykernel_7198/3416244142.py:19: PerformanceWarning: DataFrame is highly fragmented.  This is usually the result of calling `frame.insert` many times, which has poor performance.  Consider joining all columns at once using pd.concat(axis=1) instead. To get a de-fragmented frame, use `newframe = frame.copy()`\n",
      "  df[f'{c}_dlag{n}'] = df[c] - lag\n",
      "/tmp/ipykernel_7198/3416244142.py:18: PerformanceWarning: DataFrame is highly fragmented.  This is usually the result of calling `frame.insert` many times, which has poor performance.  Consider joining all columns at once using pd.concat(axis=1) instead. To get a de-fragmented frame, use `newframe = frame.copy()`\n",
      "  df[f'{c}_lag{n}']  = lag\n",
      "/tmp/ipykernel_7198/3416244142.py:19: PerformanceWarning: DataFrame is highly fragmented.  This is usually the result of calling `frame.insert` many times, which has poor performance.  Consider joining all columns at once using pd.concat(axis=1) instead. To get a de-fragmented frame, use `newframe = frame.copy()`\n",
      "  df[f'{c}_dlag{n}'] = df[c] - lag\n",
      "/tmp/ipykernel_7198/3416244142.py:18: PerformanceWarning: DataFrame is highly fragmented.  This is usually the result of calling `frame.insert` many times, which has poor performance.  Consider joining all columns at once using pd.concat(axis=1) instead. To get a de-fragmented frame, use `newframe = frame.copy()`\n",
      "  df[f'{c}_lag{n}']  = lag\n",
      "/tmp/ipykernel_7198/3416244142.py:19: PerformanceWarning: DataFrame is highly fragmented.  This is usually the result of calling `frame.insert` many times, which has poor performance.  Consider joining all columns at once using pd.concat(axis=1) instead. To get a de-fragmented frame, use `newframe = frame.copy()`\n",
      "  df[f'{c}_dlag{n}'] = df[c] - lag\n",
      "/tmp/ipykernel_7198/3416244142.py:18: PerformanceWarning: DataFrame is highly fragmented.  This is usually the result of calling `frame.insert` many times, which has poor performance.  Consider joining all columns at once using pd.concat(axis=1) instead. To get a de-fragmented frame, use `newframe = frame.copy()`\n",
      "  df[f'{c}_lag{n}']  = lag\n",
      "/tmp/ipykernel_7198/3416244142.py:19: PerformanceWarning: DataFrame is highly fragmented.  This is usually the result of calling `frame.insert` many times, which has poor performance.  Consider joining all columns at once using pd.concat(axis=1) instead. To get a de-fragmented frame, use `newframe = frame.copy()`\n",
      "  df[f'{c}_dlag{n}'] = df[c] - lag\n",
      "/tmp/ipykernel_7198/3416244142.py:18: PerformanceWarning: DataFrame is highly fragmented.  This is usually the result of calling `frame.insert` many times, which has poor performance.  Consider joining all columns at once using pd.concat(axis=1) instead. To get a de-fragmented frame, use `newframe = frame.copy()`\n",
      "  df[f'{c}_lag{n}']  = lag\n",
      "/tmp/ipykernel_7198/3416244142.py:19: PerformanceWarning: DataFrame is highly fragmented.  This is usually the result of calling `frame.insert` many times, which has poor performance.  Consider joining all columns at once using pd.concat(axis=1) instead. To get a de-fragmented frame, use `newframe = frame.copy()`\n",
      "  df[f'{c}_dlag{n}'] = df[c] - lag\n",
      "/tmp/ipykernel_7198/3416244142.py:18: PerformanceWarning: DataFrame is highly fragmented.  This is usually the result of calling `frame.insert` many times, which has poor performance.  Consider joining all columns at once using pd.concat(axis=1) instead. To get a de-fragmented frame, use `newframe = frame.copy()`\n",
      "  df[f'{c}_lag{n}']  = lag\n",
      "/tmp/ipykernel_7198/3416244142.py:19: PerformanceWarning: DataFrame is highly fragmented.  This is usually the result of calling `frame.insert` many times, which has poor performance.  Consider joining all columns at once using pd.concat(axis=1) instead. To get a de-fragmented frame, use `newframe = frame.copy()`\n",
      "  df[f'{c}_dlag{n}'] = df[c] - lag\n",
      "/tmp/ipykernel_7198/3416244142.py:18: PerformanceWarning: DataFrame is highly fragmented.  This is usually the result of calling `frame.insert` many times, which has poor performance.  Consider joining all columns at once using pd.concat(axis=1) instead. To get a de-fragmented frame, use `newframe = frame.copy()`\n",
      "  df[f'{c}_lag{n}']  = lag\n",
      "/tmp/ipykernel_7198/3416244142.py:19: PerformanceWarning: DataFrame is highly fragmented.  This is usually the result of calling `frame.insert` many times, which has poor performance.  Consider joining all columns at once using pd.concat(axis=1) instead. To get a de-fragmented frame, use `newframe = frame.copy()`\n",
      "  df[f'{c}_dlag{n}'] = df[c] - lag\n",
      "/tmp/ipykernel_7198/3416244142.py:18: PerformanceWarning: DataFrame is highly fragmented.  This is usually the result of calling `frame.insert` many times, which has poor performance.  Consider joining all columns at once using pd.concat(axis=1) instead. To get a de-fragmented frame, use `newframe = frame.copy()`\n",
      "  df[f'{c}_lag{n}']  = lag\n",
      "/tmp/ipykernel_7198/3416244142.py:19: PerformanceWarning: DataFrame is highly fragmented.  This is usually the result of calling `frame.insert` many times, which has poor performance.  Consider joining all columns at once using pd.concat(axis=1) instead. To get a de-fragmented frame, use `newframe = frame.copy()`\n",
      "  df[f'{c}_dlag{n}'] = df[c] - lag\n",
      "/tmp/ipykernel_7198/3416244142.py:18: PerformanceWarning: DataFrame is highly fragmented.  This is usually the result of calling `frame.insert` many times, which has poor performance.  Consider joining all columns at once using pd.concat(axis=1) instead. To get a de-fragmented frame, use `newframe = frame.copy()`\n",
      "  df[f'{c}_lag{n}']  = lag\n",
      "/tmp/ipykernel_7198/3416244142.py:19: PerformanceWarning: DataFrame is highly fragmented.  This is usually the result of calling `frame.insert` many times, which has poor performance.  Consider joining all columns at once using pd.concat(axis=1) instead. To get a de-fragmented frame, use `newframe = frame.copy()`\n",
      "  df[f'{c}_dlag{n}'] = df[c] - lag\n",
      "/tmp/ipykernel_7198/3416244142.py:18: PerformanceWarning: DataFrame is highly fragmented.  This is usually the result of calling `frame.insert` many times, which has poor performance.  Consider joining all columns at once using pd.concat(axis=1) instead. To get a de-fragmented frame, use `newframe = frame.copy()`\n",
      "  df[f'{c}_lag{n}']  = lag\n",
      "/tmp/ipykernel_7198/3416244142.py:19: PerformanceWarning: DataFrame is highly fragmented.  This is usually the result of calling `frame.insert` many times, which has poor performance.  Consider joining all columns at once using pd.concat(axis=1) instead. To get a de-fragmented frame, use `newframe = frame.copy()`\n",
      "  df[f'{c}_dlag{n}'] = df[c] - lag\n",
      "/tmp/ipykernel_7198/3416244142.py:18: PerformanceWarning: DataFrame is highly fragmented.  This is usually the result of calling `frame.insert` many times, which has poor performance.  Consider joining all columns at once using pd.concat(axis=1) instead. To get a de-fragmented frame, use `newframe = frame.copy()`\n",
      "  df[f'{c}_lag{n}']  = lag\n",
      "/tmp/ipykernel_7198/3416244142.py:19: PerformanceWarning: DataFrame is highly fragmented.  This is usually the result of calling `frame.insert` many times, which has poor performance.  Consider joining all columns at once using pd.concat(axis=1) instead. To get a de-fragmented frame, use `newframe = frame.copy()`\n",
      "  df[f'{c}_dlag{n}'] = df[c] - lag\n",
      "/tmp/ipykernel_7198/3416244142.py:18: PerformanceWarning: DataFrame is highly fragmented.  This is usually the result of calling `frame.insert` many times, which has poor performance.  Consider joining all columns at once using pd.concat(axis=1) instead. To get a de-fragmented frame, use `newframe = frame.copy()`\n",
      "  df[f'{c}_lag{n}']  = lag\n",
      "/tmp/ipykernel_7198/3416244142.py:19: PerformanceWarning: DataFrame is highly fragmented.  This is usually the result of calling `frame.insert` many times, which has poor performance.  Consider joining all columns at once using pd.concat(axis=1) instead. To get a de-fragmented frame, use `newframe = frame.copy()`\n",
      "  df[f'{c}_dlag{n}'] = df[c] - lag\n",
      "/tmp/ipykernel_7198/3416244142.py:18: PerformanceWarning: DataFrame is highly fragmented.  This is usually the result of calling `frame.insert` many times, which has poor performance.  Consider joining all columns at once using pd.concat(axis=1) instead. To get a de-fragmented frame, use `newframe = frame.copy()`\n",
      "  df[f'{c}_lag{n}']  = lag\n",
      "/tmp/ipykernel_7198/3416244142.py:19: PerformanceWarning: DataFrame is highly fragmented.  This is usually the result of calling `frame.insert` many times, which has poor performance.  Consider joining all columns at once using pd.concat(axis=1) instead. To get a de-fragmented frame, use `newframe = frame.copy()`\n",
      "  df[f'{c}_dlag{n}'] = df[c] - lag\n",
      "/tmp/ipykernel_7198/3416244142.py:18: PerformanceWarning: DataFrame is highly fragmented.  This is usually the result of calling `frame.insert` many times, which has poor performance.  Consider joining all columns at once using pd.concat(axis=1) instead. To get a de-fragmented frame, use `newframe = frame.copy()`\n",
      "  df[f'{c}_lag{n}']  = lag\n",
      "/tmp/ipykernel_7198/3416244142.py:19: PerformanceWarning: DataFrame is highly fragmented.  This is usually the result of calling `frame.insert` many times, which has poor performance.  Consider joining all columns at once using pd.concat(axis=1) instead. To get a de-fragmented frame, use `newframe = frame.copy()`\n",
      "  df[f'{c}_dlag{n}'] = df[c] - lag\n",
      "/tmp/ipykernel_7198/3416244142.py:18: PerformanceWarning: DataFrame is highly fragmented.  This is usually the result of calling `frame.insert` many times, which has poor performance.  Consider joining all columns at once using pd.concat(axis=1) instead. To get a de-fragmented frame, use `newframe = frame.copy()`\n",
      "  df[f'{c}_lag{n}']  = lag\n",
      "/tmp/ipykernel_7198/3416244142.py:19: PerformanceWarning: DataFrame is highly fragmented.  This is usually the result of calling `frame.insert` many times, which has poor performance.  Consider joining all columns at once using pd.concat(axis=1) instead. To get a de-fragmented frame, use `newframe = frame.copy()`\n",
      "  df[f'{c}_dlag{n}'] = df[c] - lag\n",
      "/tmp/ipykernel_7198/3416244142.py:18: PerformanceWarning: DataFrame is highly fragmented.  This is usually the result of calling `frame.insert` many times, which has poor performance.  Consider joining all columns at once using pd.concat(axis=1) instead. To get a de-fragmented frame, use `newframe = frame.copy()`\n",
      "  df[f'{c}_lag{n}']  = lag\n",
      "/tmp/ipykernel_7198/3416244142.py:19: PerformanceWarning: DataFrame is highly fragmented.  This is usually the result of calling `frame.insert` many times, which has poor performance.  Consider joining all columns at once using pd.concat(axis=1) instead. To get a de-fragmented frame, use `newframe = frame.copy()`\n",
      "  df[f'{c}_dlag{n}'] = df[c] - lag\n",
      "/tmp/ipykernel_7198/3416244142.py:18: PerformanceWarning: DataFrame is highly fragmented.  This is usually the result of calling `frame.insert` many times, which has poor performance.  Consider joining all columns at once using pd.concat(axis=1) instead. To get a de-fragmented frame, use `newframe = frame.copy()`\n",
      "  df[f'{c}_lag{n}']  = lag\n",
      "/tmp/ipykernel_7198/3416244142.py:19: PerformanceWarning: DataFrame is highly fragmented.  This is usually the result of calling `frame.insert` many times, which has poor performance.  Consider joining all columns at once using pd.concat(axis=1) instead. To get a de-fragmented frame, use `newframe = frame.copy()`\n",
      "  df[f'{c}_dlag{n}'] = df[c] - lag\n",
      "/tmp/ipykernel_7198/3416244142.py:18: PerformanceWarning: DataFrame is highly fragmented.  This is usually the result of calling `frame.insert` many times, which has poor performance.  Consider joining all columns at once using pd.concat(axis=1) instead. To get a de-fragmented frame, use `newframe = frame.copy()`\n",
      "  df[f'{c}_lag{n}']  = lag\n",
      "/tmp/ipykernel_7198/3416244142.py:19: PerformanceWarning: DataFrame is highly fragmented.  This is usually the result of calling `frame.insert` many times, which has poor performance.  Consider joining all columns at once using pd.concat(axis=1) instead. To get a de-fragmented frame, use `newframe = frame.copy()`\n",
      "  df[f'{c}_dlag{n}'] = df[c] - lag\n",
      "/tmp/ipykernel_7198/3416244142.py:18: PerformanceWarning: DataFrame is highly fragmented.  This is usually the result of calling `frame.insert` many times, which has poor performance.  Consider joining all columns at once using pd.concat(axis=1) instead. To get a de-fragmented frame, use `newframe = frame.copy()`\n",
      "  df[f'{c}_lag{n}']  = lag\n",
      "/tmp/ipykernel_7198/3416244142.py:19: PerformanceWarning: DataFrame is highly fragmented.  This is usually the result of calling `frame.insert` many times, which has poor performance.  Consider joining all columns at once using pd.concat(axis=1) instead. To get a de-fragmented frame, use `newframe = frame.copy()`\n",
      "  df[f'{c}_dlag{n}'] = df[c] - lag\n",
      "/tmp/ipykernel_7198/3416244142.py:18: PerformanceWarning: DataFrame is highly fragmented.  This is usually the result of calling `frame.insert` many times, which has poor performance.  Consider joining all columns at once using pd.concat(axis=1) instead. To get a de-fragmented frame, use `newframe = frame.copy()`\n",
      "  df[f'{c}_lag{n}']  = lag\n",
      "/tmp/ipykernel_7198/3416244142.py:19: PerformanceWarning: DataFrame is highly fragmented.  This is usually the result of calling `frame.insert` many times, which has poor performance.  Consider joining all columns at once using pd.concat(axis=1) instead. To get a de-fragmented frame, use `newframe = frame.copy()`\n",
      "  df[f'{c}_dlag{n}'] = df[c] - lag\n",
      "/tmp/ipykernel_7198/3416244142.py:18: PerformanceWarning: DataFrame is highly fragmented.  This is usually the result of calling `frame.insert` many times, which has poor performance.  Consider joining all columns at once using pd.concat(axis=1) instead. To get a de-fragmented frame, use `newframe = frame.copy()`\n",
      "  df[f'{c}_lag{n}']  = lag\n",
      "/tmp/ipykernel_7198/3416244142.py:19: PerformanceWarning: DataFrame is highly fragmented.  This is usually the result of calling `frame.insert` many times, which has poor performance.  Consider joining all columns at once using pd.concat(axis=1) instead. To get a de-fragmented frame, use `newframe = frame.copy()`\n",
      "  df[f'{c}_dlag{n}'] = df[c] - lag\n",
      "/tmp/ipykernel_7198/3416244142.py:18: PerformanceWarning: DataFrame is highly fragmented.  This is usually the result of calling `frame.insert` many times, which has poor performance.  Consider joining all columns at once using pd.concat(axis=1) instead. To get a de-fragmented frame, use `newframe = frame.copy()`\n",
      "  df[f'{c}_lag{n}']  = lag\n",
      "/tmp/ipykernel_7198/3416244142.py:19: PerformanceWarning: DataFrame is highly fragmented.  This is usually the result of calling `frame.insert` many times, which has poor performance.  Consider joining all columns at once using pd.concat(axis=1) instead. To get a de-fragmented frame, use `newframe = frame.copy()`\n",
      "  df[f'{c}_dlag{n}'] = df[c] - lag\n",
      "/tmp/ipykernel_7198/3416244142.py:18: PerformanceWarning: DataFrame is highly fragmented.  This is usually the result of calling `frame.insert` many times, which has poor performance.  Consider joining all columns at once using pd.concat(axis=1) instead. To get a de-fragmented frame, use `newframe = frame.copy()`\n",
      "  df[f'{c}_lag{n}']  = lag\n",
      "/tmp/ipykernel_7198/3416244142.py:19: PerformanceWarning: DataFrame is highly fragmented.  This is usually the result of calling `frame.insert` many times, which has poor performance.  Consider joining all columns at once using pd.concat(axis=1) instead. To get a de-fragmented frame, use `newframe = frame.copy()`\n",
      "  df[f'{c}_dlag{n}'] = df[c] - lag\n",
      "/tmp/ipykernel_7198/3416244142.py:18: PerformanceWarning: DataFrame is highly fragmented.  This is usually the result of calling `frame.insert` many times, which has poor performance.  Consider joining all columns at once using pd.concat(axis=1) instead. To get a de-fragmented frame, use `newframe = frame.copy()`\n",
      "  df[f'{c}_lag{n}']  = lag\n",
      "/tmp/ipykernel_7198/3416244142.py:19: PerformanceWarning: DataFrame is highly fragmented.  This is usually the result of calling `frame.insert` many times, which has poor performance.  Consider joining all columns at once using pd.concat(axis=1) instead. To get a de-fragmented frame, use `newframe = frame.copy()`\n",
      "  df[f'{c}_dlag{n}'] = df[c] - lag\n",
      "/tmp/ipykernel_7198/3416244142.py:18: PerformanceWarning: DataFrame is highly fragmented.  This is usually the result of calling `frame.insert` many times, which has poor performance.  Consider joining all columns at once using pd.concat(axis=1) instead. To get a de-fragmented frame, use `newframe = frame.copy()`\n",
      "  df[f'{c}_lag{n}']  = lag\n",
      "/tmp/ipykernel_7198/3416244142.py:19: PerformanceWarning: DataFrame is highly fragmented.  This is usually the result of calling `frame.insert` many times, which has poor performance.  Consider joining all columns at once using pd.concat(axis=1) instead. To get a de-fragmented frame, use `newframe = frame.copy()`\n",
      "  df[f'{c}_dlag{n}'] = df[c] - lag\n",
      "/tmp/ipykernel_7198/3416244142.py:18: PerformanceWarning: DataFrame is highly fragmented.  This is usually the result of calling `frame.insert` many times, which has poor performance.  Consider joining all columns at once using pd.concat(axis=1) instead. To get a de-fragmented frame, use `newframe = frame.copy()`\n",
      "  df[f'{c}_lag{n}']  = lag\n",
      "/tmp/ipykernel_7198/3416244142.py:19: PerformanceWarning: DataFrame is highly fragmented.  This is usually the result of calling `frame.insert` many times, which has poor performance.  Consider joining all columns at once using pd.concat(axis=1) instead. To get a de-fragmented frame, use `newframe = frame.copy()`\n",
      "  df[f'{c}_dlag{n}'] = df[c] - lag\n",
      "/tmp/ipykernel_7198/3416244142.py:18: PerformanceWarning: DataFrame is highly fragmented.  This is usually the result of calling `frame.insert` many times, which has poor performance.  Consider joining all columns at once using pd.concat(axis=1) instead. To get a de-fragmented frame, use `newframe = frame.copy()`\n",
      "  df[f'{c}_lag{n}']  = lag\n",
      "/tmp/ipykernel_7198/3416244142.py:19: PerformanceWarning: DataFrame is highly fragmented.  This is usually the result of calling `frame.insert` many times, which has poor performance.  Consider joining all columns at once using pd.concat(axis=1) instead. To get a de-fragmented frame, use `newframe = frame.copy()`\n",
      "  df[f'{c}_dlag{n}'] = df[c] - lag\n",
      "/tmp/ipykernel_7198/3416244142.py:18: PerformanceWarning: DataFrame is highly fragmented.  This is usually the result of calling `frame.insert` many times, which has poor performance.  Consider joining all columns at once using pd.concat(axis=1) instead. To get a de-fragmented frame, use `newframe = frame.copy()`\n",
      "  df[f'{c}_lag{n}']  = lag\n",
      "/tmp/ipykernel_7198/3416244142.py:19: PerformanceWarning: DataFrame is highly fragmented.  This is usually the result of calling `frame.insert` many times, which has poor performance.  Consider joining all columns at once using pd.concat(axis=1) instead. To get a de-fragmented frame, use `newframe = frame.copy()`\n",
      "  df[f'{c}_dlag{n}'] = df[c] - lag\n",
      "/tmp/ipykernel_7198/3416244142.py:18: PerformanceWarning: DataFrame is highly fragmented.  This is usually the result of calling `frame.insert` many times, which has poor performance.  Consider joining all columns at once using pd.concat(axis=1) instead. To get a de-fragmented frame, use `newframe = frame.copy()`\n",
      "  df[f'{c}_lag{n}']  = lag\n",
      "/tmp/ipykernel_7198/3416244142.py:19: PerformanceWarning: DataFrame is highly fragmented.  This is usually the result of calling `frame.insert` many times, which has poor performance.  Consider joining all columns at once using pd.concat(axis=1) instead. To get a de-fragmented frame, use `newframe = frame.copy()`\n",
      "  df[f'{c}_dlag{n}'] = df[c] - lag\n",
      "/tmp/ipykernel_7198/3416244142.py:18: PerformanceWarning: DataFrame is highly fragmented.  This is usually the result of calling `frame.insert` many times, which has poor performance.  Consider joining all columns at once using pd.concat(axis=1) instead. To get a de-fragmented frame, use `newframe = frame.copy()`\n",
      "  df[f'{c}_lag{n}']  = lag\n",
      "/tmp/ipykernel_7198/3416244142.py:19: PerformanceWarning: DataFrame is highly fragmented.  This is usually the result of calling `frame.insert` many times, which has poor performance.  Consider joining all columns at once using pd.concat(axis=1) instead. To get a de-fragmented frame, use `newframe = frame.copy()`\n",
      "  df[f'{c}_dlag{n}'] = df[c] - lag\n",
      "/tmp/ipykernel_7198/3416244142.py:18: PerformanceWarning: DataFrame is highly fragmented.  This is usually the result of calling `frame.insert` many times, which has poor performance.  Consider joining all columns at once using pd.concat(axis=1) instead. To get a de-fragmented frame, use `newframe = frame.copy()`\n",
      "  df[f'{c}_lag{n}']  = lag\n",
      "/tmp/ipykernel_7198/3416244142.py:19: PerformanceWarning: DataFrame is highly fragmented.  This is usually the result of calling `frame.insert` many times, which has poor performance.  Consider joining all columns at once using pd.concat(axis=1) instead. To get a de-fragmented frame, use `newframe = frame.copy()`\n",
      "  df[f'{c}_dlag{n}'] = df[c] - lag\n",
      "/tmp/ipykernel_7198/3416244142.py:18: PerformanceWarning: DataFrame is highly fragmented.  This is usually the result of calling `frame.insert` many times, which has poor performance.  Consider joining all columns at once using pd.concat(axis=1) instead. To get a de-fragmented frame, use `newframe = frame.copy()`\n",
      "  df[f'{c}_lag{n}']  = lag\n",
      "/tmp/ipykernel_7198/3416244142.py:19: PerformanceWarning: DataFrame is highly fragmented.  This is usually the result of calling `frame.insert` many times, which has poor performance.  Consider joining all columns at once using pd.concat(axis=1) instead. To get a de-fragmented frame, use `newframe = frame.copy()`\n",
      "  df[f'{c}_dlag{n}'] = df[c] - lag\n",
      "/tmp/ipykernel_7198/3416244142.py:18: PerformanceWarning: DataFrame is highly fragmented.  This is usually the result of calling `frame.insert` many times, which has poor performance.  Consider joining all columns at once using pd.concat(axis=1) instead. To get a de-fragmented frame, use `newframe = frame.copy()`\n",
      "  df[f'{c}_lag{n}']  = lag\n",
      "/tmp/ipykernel_7198/3416244142.py:19: PerformanceWarning: DataFrame is highly fragmented.  This is usually the result of calling `frame.insert` many times, which has poor performance.  Consider joining all columns at once using pd.concat(axis=1) instead. To get a de-fragmented frame, use `newframe = frame.copy()`\n",
      "  df[f'{c}_dlag{n}'] = df[c] - lag\n",
      "/tmp/ipykernel_7198/3416244142.py:18: PerformanceWarning: DataFrame is highly fragmented.  This is usually the result of calling `frame.insert` many times, which has poor performance.  Consider joining all columns at once using pd.concat(axis=1) instead. To get a de-fragmented frame, use `newframe = frame.copy()`\n",
      "  df[f'{c}_lag{n}']  = lag\n",
      "/tmp/ipykernel_7198/3416244142.py:19: PerformanceWarning: DataFrame is highly fragmented.  This is usually the result of calling `frame.insert` many times, which has poor performance.  Consider joining all columns at once using pd.concat(axis=1) instead. To get a de-fragmented frame, use `newframe = frame.copy()`\n",
      "  df[f'{c}_dlag{n}'] = df[c] - lag\n",
      "/tmp/ipykernel_7198/3416244142.py:18: PerformanceWarning: DataFrame is highly fragmented.  This is usually the result of calling `frame.insert` many times, which has poor performance.  Consider joining all columns at once using pd.concat(axis=1) instead. To get a de-fragmented frame, use `newframe = frame.copy()`\n",
      "  df[f'{c}_lag{n}']  = lag\n",
      "/tmp/ipykernel_7198/3416244142.py:19: PerformanceWarning: DataFrame is highly fragmented.  This is usually the result of calling `frame.insert` many times, which has poor performance.  Consider joining all columns at once using pd.concat(axis=1) instead. To get a de-fragmented frame, use `newframe = frame.copy()`\n",
      "  df[f'{c}_dlag{n}'] = df[c] - lag\n",
      "/tmp/ipykernel_7198/3416244142.py:18: PerformanceWarning: DataFrame is highly fragmented.  This is usually the result of calling `frame.insert` many times, which has poor performance.  Consider joining all columns at once using pd.concat(axis=1) instead. To get a de-fragmented frame, use `newframe = frame.copy()`\n",
      "  df[f'{c}_lag{n}']  = lag\n",
      "/tmp/ipykernel_7198/3416244142.py:19: PerformanceWarning: DataFrame is highly fragmented.  This is usually the result of calling `frame.insert` many times, which has poor performance.  Consider joining all columns at once using pd.concat(axis=1) instead. To get a de-fragmented frame, use `newframe = frame.copy()`\n",
      "  df[f'{c}_dlag{n}'] = df[c] - lag\n",
      "/tmp/ipykernel_7198/3416244142.py:18: PerformanceWarning: DataFrame is highly fragmented.  This is usually the result of calling `frame.insert` many times, which has poor performance.  Consider joining all columns at once using pd.concat(axis=1) instead. To get a de-fragmented frame, use `newframe = frame.copy()`\n",
      "  df[f'{c}_lag{n}']  = lag\n",
      "/tmp/ipykernel_7198/3416244142.py:19: PerformanceWarning: DataFrame is highly fragmented.  This is usually the result of calling `frame.insert` many times, which has poor performance.  Consider joining all columns at once using pd.concat(axis=1) instead. To get a de-fragmented frame, use `newframe = frame.copy()`\n",
      "  df[f'{c}_dlag{n}'] = df[c] - lag\n",
      "/tmp/ipykernel_7198/3416244142.py:18: PerformanceWarning: DataFrame is highly fragmented.  This is usually the result of calling `frame.insert` many times, which has poor performance.  Consider joining all columns at once using pd.concat(axis=1) instead. To get a de-fragmented frame, use `newframe = frame.copy()`\n",
      "  df[f'{c}_lag{n}']  = lag\n",
      "/tmp/ipykernel_7198/3416244142.py:19: PerformanceWarning: DataFrame is highly fragmented.  This is usually the result of calling `frame.insert` many times, which has poor performance.  Consider joining all columns at once using pd.concat(axis=1) instead. To get a de-fragmented frame, use `newframe = frame.copy()`\n",
      "  df[f'{c}_dlag{n}'] = df[c] - lag\n",
      "/tmp/ipykernel_7198/3416244142.py:18: PerformanceWarning: DataFrame is highly fragmented.  This is usually the result of calling `frame.insert` many times, which has poor performance.  Consider joining all columns at once using pd.concat(axis=1) instead. To get a de-fragmented frame, use `newframe = frame.copy()`\n",
      "  df[f'{c}_lag{n}']  = lag\n",
      "/tmp/ipykernel_7198/3416244142.py:19: PerformanceWarning: DataFrame is highly fragmented.  This is usually the result of calling `frame.insert` many times, which has poor performance.  Consider joining all columns at once using pd.concat(axis=1) instead. To get a de-fragmented frame, use `newframe = frame.copy()`\n",
      "  df[f'{c}_dlag{n}'] = df[c] - lag\n",
      "/tmp/ipykernel_7198/3416244142.py:18: PerformanceWarning: DataFrame is highly fragmented.  This is usually the result of calling `frame.insert` many times, which has poor performance.  Consider joining all columns at once using pd.concat(axis=1) instead. To get a de-fragmented frame, use `newframe = frame.copy()`\n",
      "  df[f'{c}_lag{n}']  = lag\n",
      "/tmp/ipykernel_7198/3416244142.py:19: PerformanceWarning: DataFrame is highly fragmented.  This is usually the result of calling `frame.insert` many times, which has poor performance.  Consider joining all columns at once using pd.concat(axis=1) instead. To get a de-fragmented frame, use `newframe = frame.copy()`\n",
      "  df[f'{c}_dlag{n}'] = df[c] - lag\n",
      "/tmp/ipykernel_7198/3416244142.py:18: PerformanceWarning: DataFrame is highly fragmented.  This is usually the result of calling `frame.insert` many times, which has poor performance.  Consider joining all columns at once using pd.concat(axis=1) instead. To get a de-fragmented frame, use `newframe = frame.copy()`\n",
      "  df[f'{c}_lag{n}']  = lag\n",
      "/tmp/ipykernel_7198/3416244142.py:19: PerformanceWarning: DataFrame is highly fragmented.  This is usually the result of calling `frame.insert` many times, which has poor performance.  Consider joining all columns at once using pd.concat(axis=1) instead. To get a de-fragmented frame, use `newframe = frame.copy()`\n",
      "  df[f'{c}_dlag{n}'] = df[c] - lag\n",
      "/tmp/ipykernel_7198/3416244142.py:18: PerformanceWarning: DataFrame is highly fragmented.  This is usually the result of calling `frame.insert` many times, which has poor performance.  Consider joining all columns at once using pd.concat(axis=1) instead. To get a de-fragmented frame, use `newframe = frame.copy()`\n",
      "  df[f'{c}_lag{n}']  = lag\n",
      "/tmp/ipykernel_7198/3416244142.py:19: PerformanceWarning: DataFrame is highly fragmented.  This is usually the result of calling `frame.insert` many times, which has poor performance.  Consider joining all columns at once using pd.concat(axis=1) instead. To get a de-fragmented frame, use `newframe = frame.copy()`\n",
      "  df[f'{c}_dlag{n}'] = df[c] - lag\n",
      "/tmp/ipykernel_7198/3416244142.py:18: PerformanceWarning: DataFrame is highly fragmented.  This is usually the result of calling `frame.insert` many times, which has poor performance.  Consider joining all columns at once using pd.concat(axis=1) instead. To get a de-fragmented frame, use `newframe = frame.copy()`\n",
      "  df[f'{c}_lag{n}']  = lag\n",
      "/tmp/ipykernel_7198/3416244142.py:19: PerformanceWarning: DataFrame is highly fragmented.  This is usually the result of calling `frame.insert` many times, which has poor performance.  Consider joining all columns at once using pd.concat(axis=1) instead. To get a de-fragmented frame, use `newframe = frame.copy()`\n",
      "  df[f'{c}_dlag{n}'] = df[c] - lag\n",
      "/tmp/ipykernel_7198/3416244142.py:18: PerformanceWarning: DataFrame is highly fragmented.  This is usually the result of calling `frame.insert` many times, which has poor performance.  Consider joining all columns at once using pd.concat(axis=1) instead. To get a de-fragmented frame, use `newframe = frame.copy()`\n",
      "  df[f'{c}_lag{n}']  = lag\n",
      "/tmp/ipykernel_7198/3416244142.py:19: PerformanceWarning: DataFrame is highly fragmented.  This is usually the result of calling `frame.insert` many times, which has poor performance.  Consider joining all columns at once using pd.concat(axis=1) instead. To get a de-fragmented frame, use `newframe = frame.copy()`\n",
      "  df[f'{c}_dlag{n}'] = df[c] - lag\n",
      "/tmp/ipykernel_7198/3416244142.py:18: PerformanceWarning: DataFrame is highly fragmented.  This is usually the result of calling `frame.insert` many times, which has poor performance.  Consider joining all columns at once using pd.concat(axis=1) instead. To get a de-fragmented frame, use `newframe = frame.copy()`\n",
      "  df[f'{c}_lag{n}']  = lag\n",
      "/tmp/ipykernel_7198/3416244142.py:19: PerformanceWarning: DataFrame is highly fragmented.  This is usually the result of calling `frame.insert` many times, which has poor performance.  Consider joining all columns at once using pd.concat(axis=1) instead. To get a de-fragmented frame, use `newframe = frame.copy()`\n",
      "  df[f'{c}_dlag{n}'] = df[c] - lag\n",
      "/tmp/ipykernel_7198/3416244142.py:18: PerformanceWarning: DataFrame is highly fragmented.  This is usually the result of calling `frame.insert` many times, which has poor performance.  Consider joining all columns at once using pd.concat(axis=1) instead. To get a de-fragmented frame, use `newframe = frame.copy()`\n",
      "  df[f'{c}_lag{n}']  = lag\n",
      "/tmp/ipykernel_7198/3416244142.py:19: PerformanceWarning: DataFrame is highly fragmented.  This is usually the result of calling `frame.insert` many times, which has poor performance.  Consider joining all columns at once using pd.concat(axis=1) instead. To get a de-fragmented frame, use `newframe = frame.copy()`\n",
      "  df[f'{c}_dlag{n}'] = df[c] - lag\n",
      "/tmp/ipykernel_7198/3416244142.py:18: PerformanceWarning: DataFrame is highly fragmented.  This is usually the result of calling `frame.insert` many times, which has poor performance.  Consider joining all columns at once using pd.concat(axis=1) instead. To get a de-fragmented frame, use `newframe = frame.copy()`\n",
      "  df[f'{c}_lag{n}']  = lag\n",
      "/tmp/ipykernel_7198/3416244142.py:19: PerformanceWarning: DataFrame is highly fragmented.  This is usually the result of calling `frame.insert` many times, which has poor performance.  Consider joining all columns at once using pd.concat(axis=1) instead. To get a de-fragmented frame, use `newframe = frame.copy()`\n",
      "  df[f'{c}_dlag{n}'] = df[c] - lag\n",
      "/tmp/ipykernel_7198/3416244142.py:18: PerformanceWarning: DataFrame is highly fragmented.  This is usually the result of calling `frame.insert` many times, which has poor performance.  Consider joining all columns at once using pd.concat(axis=1) instead. To get a de-fragmented frame, use `newframe = frame.copy()`\n",
      "  df[f'{c}_lag{n}']  = lag\n",
      "/tmp/ipykernel_7198/3416244142.py:19: PerformanceWarning: DataFrame is highly fragmented.  This is usually the result of calling `frame.insert` many times, which has poor performance.  Consider joining all columns at once using pd.concat(axis=1) instead. To get a de-fragmented frame, use `newframe = frame.copy()`\n",
      "  df[f'{c}_dlag{n}'] = df[c] - lag\n",
      "/tmp/ipykernel_7198/3416244142.py:18: PerformanceWarning: DataFrame is highly fragmented.  This is usually the result of calling `frame.insert` many times, which has poor performance.  Consider joining all columns at once using pd.concat(axis=1) instead. To get a de-fragmented frame, use `newframe = frame.copy()`\n",
      "  df[f'{c}_lag{n}']  = lag\n",
      "/tmp/ipykernel_7198/3416244142.py:19: PerformanceWarning: DataFrame is highly fragmented.  This is usually the result of calling `frame.insert` many times, which has poor performance.  Consider joining all columns at once using pd.concat(axis=1) instead. To get a de-fragmented frame, use `newframe = frame.copy()`\n",
      "  df[f'{c}_dlag{n}'] = df[c] - lag\n",
      "/tmp/ipykernel_7198/3416244142.py:18: PerformanceWarning: DataFrame is highly fragmented.  This is usually the result of calling `frame.insert` many times, which has poor performance.  Consider joining all columns at once using pd.concat(axis=1) instead. To get a de-fragmented frame, use `newframe = frame.copy()`\n",
      "  df[f'{c}_lag{n}']  = lag\n",
      "/tmp/ipykernel_7198/3416244142.py:19: PerformanceWarning: DataFrame is highly fragmented.  This is usually the result of calling `frame.insert` many times, which has poor performance.  Consider joining all columns at once using pd.concat(axis=1) instead. To get a de-fragmented frame, use `newframe = frame.copy()`\n",
      "  df[f'{c}_dlag{n}'] = df[c] - lag\n",
      "/tmp/ipykernel_7198/3416244142.py:18: PerformanceWarning: DataFrame is highly fragmented.  This is usually the result of calling `frame.insert` many times, which has poor performance.  Consider joining all columns at once using pd.concat(axis=1) instead. To get a de-fragmented frame, use `newframe = frame.copy()`\n",
      "  df[f'{c}_lag{n}']  = lag\n",
      "/tmp/ipykernel_7198/3416244142.py:19: PerformanceWarning: DataFrame is highly fragmented.  This is usually the result of calling `frame.insert` many times, which has poor performance.  Consider joining all columns at once using pd.concat(axis=1) instead. To get a de-fragmented frame, use `newframe = frame.copy()`\n",
      "  df[f'{c}_dlag{n}'] = df[c] - lag\n",
      "/tmp/ipykernel_7198/3416244142.py:18: PerformanceWarning: DataFrame is highly fragmented.  This is usually the result of calling `frame.insert` many times, which has poor performance.  Consider joining all columns at once using pd.concat(axis=1) instead. To get a de-fragmented frame, use `newframe = frame.copy()`\n",
      "  df[f'{c}_lag{n}']  = lag\n",
      "/tmp/ipykernel_7198/3416244142.py:19: PerformanceWarning: DataFrame is highly fragmented.  This is usually the result of calling `frame.insert` many times, which has poor performance.  Consider joining all columns at once using pd.concat(axis=1) instead. To get a de-fragmented frame, use `newframe = frame.copy()`\n",
      "  df[f'{c}_dlag{n}'] = df[c] - lag\n",
      "/tmp/ipykernel_7198/3416244142.py:18: PerformanceWarning: DataFrame is highly fragmented.  This is usually the result of calling `frame.insert` many times, which has poor performance.  Consider joining all columns at once using pd.concat(axis=1) instead. To get a de-fragmented frame, use `newframe = frame.copy()`\n",
      "  df[f'{c}_lag{n}']  = lag\n",
      "/tmp/ipykernel_7198/3416244142.py:19: PerformanceWarning: DataFrame is highly fragmented.  This is usually the result of calling `frame.insert` many times, which has poor performance.  Consider joining all columns at once using pd.concat(axis=1) instead. To get a de-fragmented frame, use `newframe = frame.copy()`\n",
      "  df[f'{c}_dlag{n}'] = df[c] - lag\n",
      "/tmp/ipykernel_7198/3416244142.py:18: PerformanceWarning: DataFrame is highly fragmented.  This is usually the result of calling `frame.insert` many times, which has poor performance.  Consider joining all columns at once using pd.concat(axis=1) instead. To get a de-fragmented frame, use `newframe = frame.copy()`\n",
      "  df[f'{c}_lag{n}']  = lag\n",
      "/tmp/ipykernel_7198/3416244142.py:19: PerformanceWarning: DataFrame is highly fragmented.  This is usually the result of calling `frame.insert` many times, which has poor performance.  Consider joining all columns at once using pd.concat(axis=1) instead. To get a de-fragmented frame, use `newframe = frame.copy()`\n",
      "  df[f'{c}_dlag{n}'] = df[c] - lag\n",
      "/tmp/ipykernel_7198/3416244142.py:18: PerformanceWarning: DataFrame is highly fragmented.  This is usually the result of calling `frame.insert` many times, which has poor performance.  Consider joining all columns at once using pd.concat(axis=1) instead. To get a de-fragmented frame, use `newframe = frame.copy()`\n",
      "  df[f'{c}_lag{n}']  = lag\n",
      "/tmp/ipykernel_7198/3416244142.py:19: PerformanceWarning: DataFrame is highly fragmented.  This is usually the result of calling `frame.insert` many times, which has poor performance.  Consider joining all columns at once using pd.concat(axis=1) instead. To get a de-fragmented frame, use `newframe = frame.copy()`\n",
      "  df[f'{c}_dlag{n}'] = df[c] - lag\n",
      "/tmp/ipykernel_7198/3416244142.py:18: PerformanceWarning: DataFrame is highly fragmented.  This is usually the result of calling `frame.insert` many times, which has poor performance.  Consider joining all columns at once using pd.concat(axis=1) instead. To get a de-fragmented frame, use `newframe = frame.copy()`\n",
      "  df[f'{c}_lag{n}']  = lag\n",
      "/tmp/ipykernel_7198/3416244142.py:19: PerformanceWarning: DataFrame is highly fragmented.  This is usually the result of calling `frame.insert` many times, which has poor performance.  Consider joining all columns at once using pd.concat(axis=1) instead. To get a de-fragmented frame, use `newframe = frame.copy()`\n",
      "  df[f'{c}_dlag{n}'] = df[c] - lag\n",
      "/tmp/ipykernel_7198/3416244142.py:18: PerformanceWarning: DataFrame is highly fragmented.  This is usually the result of calling `frame.insert` many times, which has poor performance.  Consider joining all columns at once using pd.concat(axis=1) instead. To get a de-fragmented frame, use `newframe = frame.copy()`\n",
      "  df[f'{c}_lag{n}']  = lag\n",
      "/tmp/ipykernel_7198/3416244142.py:19: PerformanceWarning: DataFrame is highly fragmented.  This is usually the result of calling `frame.insert` many times, which has poor performance.  Consider joining all columns at once using pd.concat(axis=1) instead. To get a de-fragmented frame, use `newframe = frame.copy()`\n",
      "  df[f'{c}_dlag{n}'] = df[c] - lag\n",
      "/tmp/ipykernel_7198/3416244142.py:18: PerformanceWarning: DataFrame is highly fragmented.  This is usually the result of calling `frame.insert` many times, which has poor performance.  Consider joining all columns at once using pd.concat(axis=1) instead. To get a de-fragmented frame, use `newframe = frame.copy()`\n",
      "  df[f'{c}_lag{n}']  = lag\n",
      "/tmp/ipykernel_7198/3416244142.py:19: PerformanceWarning: DataFrame is highly fragmented.  This is usually the result of calling `frame.insert` many times, which has poor performance.  Consider joining all columns at once using pd.concat(axis=1) instead. To get a de-fragmented frame, use `newframe = frame.copy()`\n",
      "  df[f'{c}_dlag{n}'] = df[c] - lag\n",
      "/tmp/ipykernel_7198/3416244142.py:18: PerformanceWarning: DataFrame is highly fragmented.  This is usually the result of calling `frame.insert` many times, which has poor performance.  Consider joining all columns at once using pd.concat(axis=1) instead. To get a de-fragmented frame, use `newframe = frame.copy()`\n",
      "  df[f'{c}_lag{n}']  = lag\n",
      "/tmp/ipykernel_7198/3416244142.py:19: PerformanceWarning: DataFrame is highly fragmented.  This is usually the result of calling `frame.insert` many times, which has poor performance.  Consider joining all columns at once using pd.concat(axis=1) instead. To get a de-fragmented frame, use `newframe = frame.copy()`\n",
      "  df[f'{c}_dlag{n}'] = df[c] - lag\n",
      "/tmp/ipykernel_7198/3416244142.py:18: PerformanceWarning: DataFrame is highly fragmented.  This is usually the result of calling `frame.insert` many times, which has poor performance.  Consider joining all columns at once using pd.concat(axis=1) instead. To get a de-fragmented frame, use `newframe = frame.copy()`\n",
      "  df[f'{c}_lag{n}']  = lag\n",
      "/tmp/ipykernel_7198/3416244142.py:19: PerformanceWarning: DataFrame is highly fragmented.  This is usually the result of calling `frame.insert` many times, which has poor performance.  Consider joining all columns at once using pd.concat(axis=1) instead. To get a de-fragmented frame, use `newframe = frame.copy()`\n",
      "  df[f'{c}_dlag{n}'] = df[c] - lag\n",
      "/tmp/ipykernel_7198/3416244142.py:18: PerformanceWarning: DataFrame is highly fragmented.  This is usually the result of calling `frame.insert` many times, which has poor performance.  Consider joining all columns at once using pd.concat(axis=1) instead. To get a de-fragmented frame, use `newframe = frame.copy()`\n",
      "  df[f'{c}_lag{n}']  = lag\n",
      "/tmp/ipykernel_7198/3416244142.py:19: PerformanceWarning: DataFrame is highly fragmented.  This is usually the result of calling `frame.insert` many times, which has poor performance.  Consider joining all columns at once using pd.concat(axis=1) instead. To get a de-fragmented frame, use `newframe = frame.copy()`\n",
      "  df[f'{c}_dlag{n}'] = df[c] - lag\n",
      "/tmp/ipykernel_7198/3416244142.py:18: PerformanceWarning: DataFrame is highly fragmented.  This is usually the result of calling `frame.insert` many times, which has poor performance.  Consider joining all columns at once using pd.concat(axis=1) instead. To get a de-fragmented frame, use `newframe = frame.copy()`\n",
      "  df[f'{c}_lag{n}']  = lag\n",
      "/tmp/ipykernel_7198/3416244142.py:19: PerformanceWarning: DataFrame is highly fragmented.  This is usually the result of calling `frame.insert` many times, which has poor performance.  Consider joining all columns at once using pd.concat(axis=1) instead. To get a de-fragmented frame, use `newframe = frame.copy()`\n",
      "  df[f'{c}_dlag{n}'] = df[c] - lag\n",
      "/tmp/ipykernel_7198/3416244142.py:18: PerformanceWarning: DataFrame is highly fragmented.  This is usually the result of calling `frame.insert` many times, which has poor performance.  Consider joining all columns at once using pd.concat(axis=1) instead. To get a de-fragmented frame, use `newframe = frame.copy()`\n",
      "  df[f'{c}_lag{n}']  = lag\n",
      "/tmp/ipykernel_7198/3416244142.py:19: PerformanceWarning: DataFrame is highly fragmented.  This is usually the result of calling `frame.insert` many times, which has poor performance.  Consider joining all columns at once using pd.concat(axis=1) instead. To get a de-fragmented frame, use `newframe = frame.copy()`\n",
      "  df[f'{c}_dlag{n}'] = df[c] - lag\n",
      "/tmp/ipykernel_7198/3416244142.py:18: PerformanceWarning: DataFrame is highly fragmented.  This is usually the result of calling `frame.insert` many times, which has poor performance.  Consider joining all columns at once using pd.concat(axis=1) instead. To get a de-fragmented frame, use `newframe = frame.copy()`\n",
      "  df[f'{c}_lag{n}']  = lag\n",
      "/tmp/ipykernel_7198/3416244142.py:19: PerformanceWarning: DataFrame is highly fragmented.  This is usually the result of calling `frame.insert` many times, which has poor performance.  Consider joining all columns at once using pd.concat(axis=1) instead. To get a de-fragmented frame, use `newframe = frame.copy()`\n",
      "  df[f'{c}_dlag{n}'] = df[c] - lag\n",
      "/tmp/ipykernel_7198/3416244142.py:18: PerformanceWarning: DataFrame is highly fragmented.  This is usually the result of calling `frame.insert` many times, which has poor performance.  Consider joining all columns at once using pd.concat(axis=1) instead. To get a de-fragmented frame, use `newframe = frame.copy()`\n",
      "  df[f'{c}_lag{n}']  = lag\n",
      "/tmp/ipykernel_7198/3416244142.py:19: PerformanceWarning: DataFrame is highly fragmented.  This is usually the result of calling `frame.insert` many times, which has poor performance.  Consider joining all columns at once using pd.concat(axis=1) instead. To get a de-fragmented frame, use `newframe = frame.copy()`\n",
      "  df[f'{c}_dlag{n}'] = df[c] - lag\n",
      "/tmp/ipykernel_7198/3416244142.py:18: PerformanceWarning: DataFrame is highly fragmented.  This is usually the result of calling `frame.insert` many times, which has poor performance.  Consider joining all columns at once using pd.concat(axis=1) instead. To get a de-fragmented frame, use `newframe = frame.copy()`\n",
      "  df[f'{c}_lag{n}']  = lag\n",
      "/tmp/ipykernel_7198/3416244142.py:19: PerformanceWarning: DataFrame is highly fragmented.  This is usually the result of calling `frame.insert` many times, which has poor performance.  Consider joining all columns at once using pd.concat(axis=1) instead. To get a de-fragmented frame, use `newframe = frame.copy()`\n",
      "  df[f'{c}_dlag{n}'] = df[c] - lag\n",
      "/tmp/ipykernel_7198/3416244142.py:18: PerformanceWarning: DataFrame is highly fragmented.  This is usually the result of calling `frame.insert` many times, which has poor performance.  Consider joining all columns at once using pd.concat(axis=1) instead. To get a de-fragmented frame, use `newframe = frame.copy()`\n",
      "  df[f'{c}_lag{n}']  = lag\n",
      "/tmp/ipykernel_7198/3416244142.py:19: PerformanceWarning: DataFrame is highly fragmented.  This is usually the result of calling `frame.insert` many times, which has poor performance.  Consider joining all columns at once using pd.concat(axis=1) instead. To get a de-fragmented frame, use `newframe = frame.copy()`\n",
      "  df[f'{c}_dlag{n}'] = df[c] - lag\n",
      "/tmp/ipykernel_7198/3416244142.py:18: PerformanceWarning: DataFrame is highly fragmented.  This is usually the result of calling `frame.insert` many times, which has poor performance.  Consider joining all columns at once using pd.concat(axis=1) instead. To get a de-fragmented frame, use `newframe = frame.copy()`\n",
      "  df[f'{c}_lag{n}']  = lag\n",
      "/tmp/ipykernel_7198/3416244142.py:19: PerformanceWarning: DataFrame is highly fragmented.  This is usually the result of calling `frame.insert` many times, which has poor performance.  Consider joining all columns at once using pd.concat(axis=1) instead. To get a de-fragmented frame, use `newframe = frame.copy()`\n",
      "  df[f'{c}_dlag{n}'] = df[c] - lag\n",
      "/tmp/ipykernel_7198/3416244142.py:18: PerformanceWarning: DataFrame is highly fragmented.  This is usually the result of calling `frame.insert` many times, which has poor performance.  Consider joining all columns at once using pd.concat(axis=1) instead. To get a de-fragmented frame, use `newframe = frame.copy()`\n",
      "  df[f'{c}_lag{n}']  = lag\n",
      "/tmp/ipykernel_7198/3416244142.py:19: PerformanceWarning: DataFrame is highly fragmented.  This is usually the result of calling `frame.insert` many times, which has poor performance.  Consider joining all columns at once using pd.concat(axis=1) instead. To get a de-fragmented frame, use `newframe = frame.copy()`\n",
      "  df[f'{c}_dlag{n}'] = df[c] - lag\n",
      "/tmp/ipykernel_7198/3416244142.py:18: PerformanceWarning: DataFrame is highly fragmented.  This is usually the result of calling `frame.insert` many times, which has poor performance.  Consider joining all columns at once using pd.concat(axis=1) instead. To get a de-fragmented frame, use `newframe = frame.copy()`\n",
      "  df[f'{c}_lag{n}']  = lag\n",
      "/tmp/ipykernel_7198/3416244142.py:19: PerformanceWarning: DataFrame is highly fragmented.  This is usually the result of calling `frame.insert` many times, which has poor performance.  Consider joining all columns at once using pd.concat(axis=1) instead. To get a de-fragmented frame, use `newframe = frame.copy()`\n",
      "  df[f'{c}_dlag{n}'] = df[c] - lag\n",
      "/tmp/ipykernel_7198/3416244142.py:18: PerformanceWarning: DataFrame is highly fragmented.  This is usually the result of calling `frame.insert` many times, which has poor performance.  Consider joining all columns at once using pd.concat(axis=1) instead. To get a de-fragmented frame, use `newframe = frame.copy()`\n",
      "  df[f'{c}_lag{n}']  = lag\n",
      "/tmp/ipykernel_7198/3416244142.py:19: PerformanceWarning: DataFrame is highly fragmented.  This is usually the result of calling `frame.insert` many times, which has poor performance.  Consider joining all columns at once using pd.concat(axis=1) instead. To get a de-fragmented frame, use `newframe = frame.copy()`\n",
      "  df[f'{c}_dlag{n}'] = df[c] - lag\n",
      "/tmp/ipykernel_7198/3416244142.py:18: PerformanceWarning: DataFrame is highly fragmented.  This is usually the result of calling `frame.insert` many times, which has poor performance.  Consider joining all columns at once using pd.concat(axis=1) instead. To get a de-fragmented frame, use `newframe = frame.copy()`\n",
      "  df[f'{c}_lag{n}']  = lag\n",
      "/tmp/ipykernel_7198/3416244142.py:19: PerformanceWarning: DataFrame is highly fragmented.  This is usually the result of calling `frame.insert` many times, which has poor performance.  Consider joining all columns at once using pd.concat(axis=1) instead. To get a de-fragmented frame, use `newframe = frame.copy()`\n",
      "  df[f'{c}_dlag{n}'] = df[c] - lag\n",
      "/tmp/ipykernel_7198/3416244142.py:18: PerformanceWarning: DataFrame is highly fragmented.  This is usually the result of calling `frame.insert` many times, which has poor performance.  Consider joining all columns at once using pd.concat(axis=1) instead. To get a de-fragmented frame, use `newframe = frame.copy()`\n",
      "  df[f'{c}_lag{n}']  = lag\n",
      "/tmp/ipykernel_7198/3416244142.py:19: PerformanceWarning: DataFrame is highly fragmented.  This is usually the result of calling `frame.insert` many times, which has poor performance.  Consider joining all columns at once using pd.concat(axis=1) instead. To get a de-fragmented frame, use `newframe = frame.copy()`\n",
      "  df[f'{c}_dlag{n}'] = df[c] - lag\n",
      "/tmp/ipykernel_7198/3416244142.py:18: PerformanceWarning: DataFrame is highly fragmented.  This is usually the result of calling `frame.insert` many times, which has poor performance.  Consider joining all columns at once using pd.concat(axis=1) instead. To get a de-fragmented frame, use `newframe = frame.copy()`\n",
      "  df[f'{c}_lag{n}']  = lag\n",
      "/tmp/ipykernel_7198/3416244142.py:19: PerformanceWarning: DataFrame is highly fragmented.  This is usually the result of calling `frame.insert` many times, which has poor performance.  Consider joining all columns at once using pd.concat(axis=1) instead. To get a de-fragmented frame, use `newframe = frame.copy()`\n",
      "  df[f'{c}_dlag{n}'] = df[c] - lag\n",
      "/tmp/ipykernel_7198/3416244142.py:18: PerformanceWarning: DataFrame is highly fragmented.  This is usually the result of calling `frame.insert` many times, which has poor performance.  Consider joining all columns at once using pd.concat(axis=1) instead. To get a de-fragmented frame, use `newframe = frame.copy()`\n",
      "  df[f'{c}_lag{n}']  = lag\n",
      "/tmp/ipykernel_7198/3416244142.py:19: PerformanceWarning: DataFrame is highly fragmented.  This is usually the result of calling `frame.insert` many times, which has poor performance.  Consider joining all columns at once using pd.concat(axis=1) instead. To get a de-fragmented frame, use `newframe = frame.copy()`\n",
      "  df[f'{c}_dlag{n}'] = df[c] - lag\n",
      "/tmp/ipykernel_7198/3416244142.py:18: PerformanceWarning: DataFrame is highly fragmented.  This is usually the result of calling `frame.insert` many times, which has poor performance.  Consider joining all columns at once using pd.concat(axis=1) instead. To get a de-fragmented frame, use `newframe = frame.copy()`\n",
      "  df[f'{c}_lag{n}']  = lag\n",
      "/tmp/ipykernel_7198/3416244142.py:19: PerformanceWarning: DataFrame is highly fragmented.  This is usually the result of calling `frame.insert` many times, which has poor performance.  Consider joining all columns at once using pd.concat(axis=1) instead. To get a de-fragmented frame, use `newframe = frame.copy()`\n",
      "  df[f'{c}_dlag{n}'] = df[c] - lag\n",
      "/tmp/ipykernel_7198/3416244142.py:18: PerformanceWarning: DataFrame is highly fragmented.  This is usually the result of calling `frame.insert` many times, which has poor performance.  Consider joining all columns at once using pd.concat(axis=1) instead. To get a de-fragmented frame, use `newframe = frame.copy()`\n",
      "  df[f'{c}_lag{n}']  = lag\n",
      "/tmp/ipykernel_7198/3416244142.py:19: PerformanceWarning: DataFrame is highly fragmented.  This is usually the result of calling `frame.insert` many times, which has poor performance.  Consider joining all columns at once using pd.concat(axis=1) instead. To get a de-fragmented frame, use `newframe = frame.copy()`\n",
      "  df[f'{c}_dlag{n}'] = df[c] - lag\n",
      "/tmp/ipykernel_7198/3416244142.py:18: PerformanceWarning: DataFrame is highly fragmented.  This is usually the result of calling `frame.insert` many times, which has poor performance.  Consider joining all columns at once using pd.concat(axis=1) instead. To get a de-fragmented frame, use `newframe = frame.copy()`\n",
      "  df[f'{c}_lag{n}']  = lag\n",
      "/tmp/ipykernel_7198/3416244142.py:19: PerformanceWarning: DataFrame is highly fragmented.  This is usually the result of calling `frame.insert` many times, which has poor performance.  Consider joining all columns at once using pd.concat(axis=1) instead. To get a de-fragmented frame, use `newframe = frame.copy()`\n",
      "  df[f'{c}_dlag{n}'] = df[c] - lag\n",
      "/tmp/ipykernel_7198/3416244142.py:18: PerformanceWarning: DataFrame is highly fragmented.  This is usually the result of calling `frame.insert` many times, which has poor performance.  Consider joining all columns at once using pd.concat(axis=1) instead. To get a de-fragmented frame, use `newframe = frame.copy()`\n",
      "  df[f'{c}_lag{n}']  = lag\n",
      "/tmp/ipykernel_7198/3416244142.py:19: PerformanceWarning: DataFrame is highly fragmented.  This is usually the result of calling `frame.insert` many times, which has poor performance.  Consider joining all columns at once using pd.concat(axis=1) instead. To get a de-fragmented frame, use `newframe = frame.copy()`\n",
      "  df[f'{c}_dlag{n}'] = df[c] - lag\n",
      "/tmp/ipykernel_7198/3416244142.py:18: PerformanceWarning: DataFrame is highly fragmented.  This is usually the result of calling `frame.insert` many times, which has poor performance.  Consider joining all columns at once using pd.concat(axis=1) instead. To get a de-fragmented frame, use `newframe = frame.copy()`\n",
      "  df[f'{c}_lag{n}']  = lag\n",
      "/tmp/ipykernel_7198/3416244142.py:19: PerformanceWarning: DataFrame is highly fragmented.  This is usually the result of calling `frame.insert` many times, which has poor performance.  Consider joining all columns at once using pd.concat(axis=1) instead. To get a de-fragmented frame, use `newframe = frame.copy()`\n",
      "  df[f'{c}_dlag{n}'] = df[c] - lag\n",
      "/tmp/ipykernel_7198/3416244142.py:18: PerformanceWarning: DataFrame is highly fragmented.  This is usually the result of calling `frame.insert` many times, which has poor performance.  Consider joining all columns at once using pd.concat(axis=1) instead. To get a de-fragmented frame, use `newframe = frame.copy()`\n",
      "  df[f'{c}_lag{n}']  = lag\n",
      "/tmp/ipykernel_7198/3416244142.py:19: PerformanceWarning: DataFrame is highly fragmented.  This is usually the result of calling `frame.insert` many times, which has poor performance.  Consider joining all columns at once using pd.concat(axis=1) instead. To get a de-fragmented frame, use `newframe = frame.copy()`\n",
      "  df[f'{c}_dlag{n}'] = df[c] - lag\n",
      "/tmp/ipykernel_7198/3416244142.py:18: PerformanceWarning: DataFrame is highly fragmented.  This is usually the result of calling `frame.insert` many times, which has poor performance.  Consider joining all columns at once using pd.concat(axis=1) instead. To get a de-fragmented frame, use `newframe = frame.copy()`\n",
      "  df[f'{c}_lag{n}']  = lag\n",
      "/tmp/ipykernel_7198/3416244142.py:19: PerformanceWarning: DataFrame is highly fragmented.  This is usually the result of calling `frame.insert` many times, which has poor performance.  Consider joining all columns at once using pd.concat(axis=1) instead. To get a de-fragmented frame, use `newframe = frame.copy()`\n",
      "  df[f'{c}_dlag{n}'] = df[c] - lag\n",
      "/tmp/ipykernel_7198/3416244142.py:18: PerformanceWarning: DataFrame is highly fragmented.  This is usually the result of calling `frame.insert` many times, which has poor performance.  Consider joining all columns at once using pd.concat(axis=1) instead. To get a de-fragmented frame, use `newframe = frame.copy()`\n",
      "  df[f'{c}_lag{n}']  = lag\n",
      "/tmp/ipykernel_7198/3416244142.py:19: PerformanceWarning: DataFrame is highly fragmented.  This is usually the result of calling `frame.insert` many times, which has poor performance.  Consider joining all columns at once using pd.concat(axis=1) instead. To get a de-fragmented frame, use `newframe = frame.copy()`\n",
      "  df[f'{c}_dlag{n}'] = df[c] - lag\n",
      "/tmp/ipykernel_7198/3416244142.py:18: PerformanceWarning: DataFrame is highly fragmented.  This is usually the result of calling `frame.insert` many times, which has poor performance.  Consider joining all columns at once using pd.concat(axis=1) instead. To get a de-fragmented frame, use `newframe = frame.copy()`\n",
      "  df[f'{c}_lag{n}']  = lag\n",
      "/tmp/ipykernel_7198/3416244142.py:19: PerformanceWarning: DataFrame is highly fragmented.  This is usually the result of calling `frame.insert` many times, which has poor performance.  Consider joining all columns at once using pd.concat(axis=1) instead. To get a de-fragmented frame, use `newframe = frame.copy()`\n",
      "  df[f'{c}_dlag{n}'] = df[c] - lag\n",
      "/tmp/ipykernel_7198/3416244142.py:18: PerformanceWarning: DataFrame is highly fragmented.  This is usually the result of calling `frame.insert` many times, which has poor performance.  Consider joining all columns at once using pd.concat(axis=1) instead. To get a de-fragmented frame, use `newframe = frame.copy()`\n",
      "  df[f'{c}_lag{n}']  = lag\n",
      "/tmp/ipykernel_7198/3416244142.py:19: PerformanceWarning: DataFrame is highly fragmented.  This is usually the result of calling `frame.insert` many times, which has poor performance.  Consider joining all columns at once using pd.concat(axis=1) instead. To get a de-fragmented frame, use `newframe = frame.copy()`\n",
      "  df[f'{c}_dlag{n}'] = df[c] - lag\n",
      "/tmp/ipykernel_7198/3416244142.py:18: PerformanceWarning: DataFrame is highly fragmented.  This is usually the result of calling `frame.insert` many times, which has poor performance.  Consider joining all columns at once using pd.concat(axis=1) instead. To get a de-fragmented frame, use `newframe = frame.copy()`\n",
      "  df[f'{c}_lag{n}']  = lag\n",
      "/tmp/ipykernel_7198/3416244142.py:19: PerformanceWarning: DataFrame is highly fragmented.  This is usually the result of calling `frame.insert` many times, which has poor performance.  Consider joining all columns at once using pd.concat(axis=1) instead. To get a de-fragmented frame, use `newframe = frame.copy()`\n",
      "  df[f'{c}_dlag{n}'] = df[c] - lag\n",
      "/tmp/ipykernel_7198/3416244142.py:18: PerformanceWarning: DataFrame is highly fragmented.  This is usually the result of calling `frame.insert` many times, which has poor performance.  Consider joining all columns at once using pd.concat(axis=1) instead. To get a de-fragmented frame, use `newframe = frame.copy()`\n",
      "  df[f'{c}_lag{n}']  = lag\n",
      "/tmp/ipykernel_7198/3416244142.py:19: PerformanceWarning: DataFrame is highly fragmented.  This is usually the result of calling `frame.insert` many times, which has poor performance.  Consider joining all columns at once using pd.concat(axis=1) instead. To get a de-fragmented frame, use `newframe = frame.copy()`\n",
      "  df[f'{c}_dlag{n}'] = df[c] - lag\n",
      "/tmp/ipykernel_7198/3416244142.py:18: PerformanceWarning: DataFrame is highly fragmented.  This is usually the result of calling `frame.insert` many times, which has poor performance.  Consider joining all columns at once using pd.concat(axis=1) instead. To get a de-fragmented frame, use `newframe = frame.copy()`\n",
      "  df[f'{c}_lag{n}']  = lag\n",
      "/tmp/ipykernel_7198/3416244142.py:19: PerformanceWarning: DataFrame is highly fragmented.  This is usually the result of calling `frame.insert` many times, which has poor performance.  Consider joining all columns at once using pd.concat(axis=1) instead. To get a de-fragmented frame, use `newframe = frame.copy()`\n",
      "  df[f'{c}_dlag{n}'] = df[c] - lag\n",
      "/tmp/ipykernel_7198/3416244142.py:18: PerformanceWarning: DataFrame is highly fragmented.  This is usually the result of calling `frame.insert` many times, which has poor performance.  Consider joining all columns at once using pd.concat(axis=1) instead. To get a de-fragmented frame, use `newframe = frame.copy()`\n",
      "  df[f'{c}_lag{n}']  = lag\n",
      "/tmp/ipykernel_7198/3416244142.py:19: PerformanceWarning: DataFrame is highly fragmented.  This is usually the result of calling `frame.insert` many times, which has poor performance.  Consider joining all columns at once using pd.concat(axis=1) instead. To get a de-fragmented frame, use `newframe = frame.copy()`\n",
      "  df[f'{c}_dlag{n}'] = df[c] - lag\n",
      "/tmp/ipykernel_7198/3416244142.py:18: PerformanceWarning: DataFrame is highly fragmented.  This is usually the result of calling `frame.insert` many times, which has poor performance.  Consider joining all columns at once using pd.concat(axis=1) instead. To get a de-fragmented frame, use `newframe = frame.copy()`\n",
      "  df[f'{c}_lag{n}']  = lag\n",
      "/tmp/ipykernel_7198/3416244142.py:19: PerformanceWarning: DataFrame is highly fragmented.  This is usually the result of calling `frame.insert` many times, which has poor performance.  Consider joining all columns at once using pd.concat(axis=1) instead. To get a de-fragmented frame, use `newframe = frame.copy()`\n",
      "  df[f'{c}_dlag{n}'] = df[c] - lag\n",
      "/tmp/ipykernel_7198/3416244142.py:18: PerformanceWarning: DataFrame is highly fragmented.  This is usually the result of calling `frame.insert` many times, which has poor performance.  Consider joining all columns at once using pd.concat(axis=1) instead. To get a de-fragmented frame, use `newframe = frame.copy()`\n",
      "  df[f'{c}_lag{n}']  = lag\n",
      "/tmp/ipykernel_7198/3416244142.py:19: PerformanceWarning: DataFrame is highly fragmented.  This is usually the result of calling `frame.insert` many times, which has poor performance.  Consider joining all columns at once using pd.concat(axis=1) instead. To get a de-fragmented frame, use `newframe = frame.copy()`\n",
      "  df[f'{c}_dlag{n}'] = df[c] - lag\n",
      "/tmp/ipykernel_7198/3416244142.py:18: PerformanceWarning: DataFrame is highly fragmented.  This is usually the result of calling `frame.insert` many times, which has poor performance.  Consider joining all columns at once using pd.concat(axis=1) instead. To get a de-fragmented frame, use `newframe = frame.copy()`\n",
      "  df[f'{c}_lag{n}']  = lag\n",
      "/tmp/ipykernel_7198/3416244142.py:19: PerformanceWarning: DataFrame is highly fragmented.  This is usually the result of calling `frame.insert` many times, which has poor performance.  Consider joining all columns at once using pd.concat(axis=1) instead. To get a de-fragmented frame, use `newframe = frame.copy()`\n",
      "  df[f'{c}_dlag{n}'] = df[c] - lag\n",
      "/tmp/ipykernel_7198/3416244142.py:18: PerformanceWarning: DataFrame is highly fragmented.  This is usually the result of calling `frame.insert` many times, which has poor performance.  Consider joining all columns at once using pd.concat(axis=1) instead. To get a de-fragmented frame, use `newframe = frame.copy()`\n",
      "  df[f'{c}_lag{n}']  = lag\n",
      "/tmp/ipykernel_7198/3416244142.py:19: PerformanceWarning: DataFrame is highly fragmented.  This is usually the result of calling `frame.insert` many times, which has poor performance.  Consider joining all columns at once using pd.concat(axis=1) instead. To get a de-fragmented frame, use `newframe = frame.copy()`\n",
      "  df[f'{c}_dlag{n}'] = df[c] - lag\n",
      "/tmp/ipykernel_7198/3416244142.py:18: PerformanceWarning: DataFrame is highly fragmented.  This is usually the result of calling `frame.insert` many times, which has poor performance.  Consider joining all columns at once using pd.concat(axis=1) instead. To get a de-fragmented frame, use `newframe = frame.copy()`\n",
      "  df[f'{c}_lag{n}']  = lag\n",
      "/tmp/ipykernel_7198/3416244142.py:19: PerformanceWarning: DataFrame is highly fragmented.  This is usually the result of calling `frame.insert` many times, which has poor performance.  Consider joining all columns at once using pd.concat(axis=1) instead. To get a de-fragmented frame, use `newframe = frame.copy()`\n",
      "  df[f'{c}_dlag{n}'] = df[c] - lag\n",
      "/tmp/ipykernel_7198/3416244142.py:18: PerformanceWarning: DataFrame is highly fragmented.  This is usually the result of calling `frame.insert` many times, which has poor performance.  Consider joining all columns at once using pd.concat(axis=1) instead. To get a de-fragmented frame, use `newframe = frame.copy()`\n",
      "  df[f'{c}_lag{n}']  = lag\n",
      "/tmp/ipykernel_7198/3416244142.py:19: PerformanceWarning: DataFrame is highly fragmented.  This is usually the result of calling `frame.insert` many times, which has poor performance.  Consider joining all columns at once using pd.concat(axis=1) instead. To get a de-fragmented frame, use `newframe = frame.copy()`\n",
      "  df[f'{c}_dlag{n}'] = df[c] - lag\n",
      "/tmp/ipykernel_7198/3416244142.py:18: PerformanceWarning: DataFrame is highly fragmented.  This is usually the result of calling `frame.insert` many times, which has poor performance.  Consider joining all columns at once using pd.concat(axis=1) instead. To get a de-fragmented frame, use `newframe = frame.copy()`\n",
      "  df[f'{c}_lag{n}']  = lag\n",
      "/tmp/ipykernel_7198/3416244142.py:19: PerformanceWarning: DataFrame is highly fragmented.  This is usually the result of calling `frame.insert` many times, which has poor performance.  Consider joining all columns at once using pd.concat(axis=1) instead. To get a de-fragmented frame, use `newframe = frame.copy()`\n",
      "  df[f'{c}_dlag{n}'] = df[c] - lag\n",
      "/tmp/ipykernel_7198/3416244142.py:18: PerformanceWarning: DataFrame is highly fragmented.  This is usually the result of calling `frame.insert` many times, which has poor performance.  Consider joining all columns at once using pd.concat(axis=1) instead. To get a de-fragmented frame, use `newframe = frame.copy()`\n",
      "  df[f'{c}_lag{n}']  = lag\n",
      "/tmp/ipykernel_7198/3416244142.py:19: PerformanceWarning: DataFrame is highly fragmented.  This is usually the result of calling `frame.insert` many times, which has poor performance.  Consider joining all columns at once using pd.concat(axis=1) instead. To get a de-fragmented frame, use `newframe = frame.copy()`\n",
      "  df[f'{c}_dlag{n}'] = df[c] - lag\n",
      "/tmp/ipykernel_7198/3416244142.py:18: PerformanceWarning: DataFrame is highly fragmented.  This is usually the result of calling `frame.insert` many times, which has poor performance.  Consider joining all columns at once using pd.concat(axis=1) instead. To get a de-fragmented frame, use `newframe = frame.copy()`\n",
      "  df[f'{c}_lag{n}']  = lag\n",
      "/tmp/ipykernel_7198/3416244142.py:19: PerformanceWarning: DataFrame is highly fragmented.  This is usually the result of calling `frame.insert` many times, which has poor performance.  Consider joining all columns at once using pd.concat(axis=1) instead. To get a de-fragmented frame, use `newframe = frame.copy()`\n",
      "  df[f'{c}_dlag{n}'] = df[c] - lag\n",
      "/tmp/ipykernel_7198/3416244142.py:18: PerformanceWarning: DataFrame is highly fragmented.  This is usually the result of calling `frame.insert` many times, which has poor performance.  Consider joining all columns at once using pd.concat(axis=1) instead. To get a de-fragmented frame, use `newframe = frame.copy()`\n",
      "  df[f'{c}_lag{n}']  = lag\n",
      "/tmp/ipykernel_7198/3416244142.py:19: PerformanceWarning: DataFrame is highly fragmented.  This is usually the result of calling `frame.insert` many times, which has poor performance.  Consider joining all columns at once using pd.concat(axis=1) instead. To get a de-fragmented frame, use `newframe = frame.copy()`\n",
      "  df[f'{c}_dlag{n}'] = df[c] - lag\n",
      "/tmp/ipykernel_7198/3416244142.py:18: PerformanceWarning: DataFrame is highly fragmented.  This is usually the result of calling `frame.insert` many times, which has poor performance.  Consider joining all columns at once using pd.concat(axis=1) instead. To get a de-fragmented frame, use `newframe = frame.copy()`\n",
      "  df[f'{c}_lag{n}']  = lag\n",
      "/tmp/ipykernel_7198/3416244142.py:19: PerformanceWarning: DataFrame is highly fragmented.  This is usually the result of calling `frame.insert` many times, which has poor performance.  Consider joining all columns at once using pd.concat(axis=1) instead. To get a de-fragmented frame, use `newframe = frame.copy()`\n",
      "  df[f'{c}_dlag{n}'] = df[c] - lag\n",
      "/tmp/ipykernel_7198/3416244142.py:18: PerformanceWarning: DataFrame is highly fragmented.  This is usually the result of calling `frame.insert` many times, which has poor performance.  Consider joining all columns at once using pd.concat(axis=1) instead. To get a de-fragmented frame, use `newframe = frame.copy()`\n",
      "  df[f'{c}_lag{n}']  = lag\n",
      "/tmp/ipykernel_7198/3416244142.py:19: PerformanceWarning: DataFrame is highly fragmented.  This is usually the result of calling `frame.insert` many times, which has poor performance.  Consider joining all columns at once using pd.concat(axis=1) instead. To get a de-fragmented frame, use `newframe = frame.copy()`\n",
      "  df[f'{c}_dlag{n}'] = df[c] - lag\n"
     ]
    },
    {
     "name": "stdout",
     "output_type": "stream",
     "text": [
      "Lags/deltas agregados: 304\n"
     ]
    },
    {
     "name": "stderr",
     "output_type": "stream",
     "text": [
      "/tmp/ipykernel_7198/3416244142.py:18: PerformanceWarning: DataFrame is highly fragmented.  This is usually the result of calling `frame.insert` many times, which has poor performance.  Consider joining all columns at once using pd.concat(axis=1) instead. To get a de-fragmented frame, use `newframe = frame.copy()`\n",
      "  df[f'{c}_lag{n}']  = lag\n",
      "/tmp/ipykernel_7198/3416244142.py:19: PerformanceWarning: DataFrame is highly fragmented.  This is usually the result of calling `frame.insert` many times, which has poor performance.  Consider joining all columns at once using pd.concat(axis=1) instead. To get a de-fragmented frame, use `newframe = frame.copy()`\n",
      "  df[f'{c}_dlag{n}'] = df[c] - lag\n",
      "/tmp/ipykernel_7198/3416244142.py:18: PerformanceWarning: DataFrame is highly fragmented.  This is usually the result of calling `frame.insert` many times, which has poor performance.  Consider joining all columns at once using pd.concat(axis=1) instead. To get a de-fragmented frame, use `newframe = frame.copy()`\n",
      "  df[f'{c}_lag{n}']  = lag\n",
      "/tmp/ipykernel_7198/3416244142.py:19: PerformanceWarning: DataFrame is highly fragmented.  This is usually the result of calling `frame.insert` many times, which has poor performance.  Consider joining all columns at once using pd.concat(axis=1) instead. To get a de-fragmented frame, use `newframe = frame.copy()`\n",
      "  df[f'{c}_dlag{n}'] = df[c] - lag\n"
     ]
    }
   ],
   "source": [
    "# === Lags/Deltas por cliente ===\n",
    "\n",
    "df = df.sort_values(['numero_de_cliente','foto_mes']).reset_index(drop=True)\n",
    "\n",
    "fe_cols = [c for c in df.columns\n",
    "           if c not in ['numero_de_cliente','foto_mes','clase_ternaria','target','clase_peso']\n",
    "           and pd.api.types.is_numeric_dtype(df[c])]\n",
    "\n",
    "#for c in fe_cols:\n",
    "#    lag = df.groupby('numero_de_cliente')[c].shift(1)\n",
    "#    df[f'{c}_lag1']  = lag\n",
    "#    df[f'{c}_dlag1'] = df[c] - lag\n",
    "\n",
    "for c in fe_cols:\n",
    "    for n in [1, 2]:  # cantidad de meses que querés mirar atrás\n",
    "#    for n in [1, 2, 3]:  # cantidad de meses que querés mirar atrás\n",
    "        lag = df.groupby('numero_de_cliente')[c].shift(n)\n",
    "        df[f'{c}_lag{n}']  = lag\n",
    "        df[f'{c}_dlag{n}'] = df[c] - lag\n",
    "\n",
    "#df[ [f'{c}_lag1' for c in fe_cols] ] = df[ [f'{c}_lag1' for c in fe_cols] ].fillna(0.0)\n",
    "#df[ [f'{c}_dlag1' for c in fe_cols] ] = df[ [f'{c}_dlag1' for c in fe_cols] ].fillna(0.0)\n",
    "\n",
    "print(\"Lags/deltas agregados:\", len(fe_cols)*2)\n"
   ]
  },
  {
   "cell_type": "code",
   "execution_count": 9,
   "id": "96641e75",
   "metadata": {},
   "outputs": [],
   "source": [
    "df['clase_peso'] = 1.0\n",
    "df.loc[df['clase_ternaria'] == 'BAJA+2', 'clase_peso'] = 1.00002\n",
    "df.loc[df['clase_ternaria'] == 'BAJA+1', 'clase_peso'] = 1.00001\n",
    "\n",
    "train_data = df[df['foto_mes'].isin(mes_train)]\n",
    "test_data = df[df['foto_mes'] == mes_test]\n",
    "kaggle_data = df[df['foto_mes'] == mes_futuro]\n",
    "X_kaggle_data = kaggle_data.drop(['clase_ternaria', 'target', 'clase_peso'], axis=1)#\n",
    "\n",
    "mes_train_all_data = df[df['foto_mes'].isin(mes_train_all)]\n",
    "X_train_all_data = mes_train_all_data.drop(['clase_ternaria', 'target', 'clase_peso'], axis=1)#\n",
    "X_train_all_binaria = mes_train_all_data['target']\n",
    "w_train_all = mes_train_all_data['clase_peso']\n",
    "\n",
    "\n",
    "X_train = train_data.drop(['clase_ternaria', 'target', 'clase_peso'], axis=1)#\n",
    "y_train_binaria1 = train_data['target']\n",
    "w_train = train_data['clase_peso']\n",
    "\n",
    "\n",
    "X_test = test_data.drop(['clase_ternaria', 'target', 'clase_peso'], axis=1)#, 'clase_peso'\n",
    "y_test_binaria1 = test_data['target']\n",
    "w_test = test_data['clase_peso']\n"
   ]
  },
  {
   "cell_type": "code",
   "execution_count": 10,
   "id": "095d7aef",
   "metadata": {},
   "outputs": [],
   "source": [
    "def lgb_gan_eval(y_pred, data):\n",
    "    weight = data.get_weight()\n",
    "    ganancia = np.where(weight == 1.00002, ganancia_acierto, 0) - np.where(weight < 1.00002, costo_estimulo, 0)\n",
    "    ganancia = ganancia[np.argsort(y_pred)[::-1]]\n",
    "    ganancia = np.cumsum(ganancia)\n",
    "\n",
    "    return 'gan_eval', np.max(ganancia) , True\n",
    "\n",
    "# Parámetros del modelos.\n",
    "params = {\n",
    "    'objective': 'binary',\n",
    "    'metric': 'gan_eval',\n",
    "    'boosting_type': 'gbdt',\n",
    "    'max_bin': 31,\n",
    "    'num_leaves': 31,\n",
    "    'learning_rate': 0.01,\n",
    "    'feature_fraction': 0.3,\n",
    "    'bagging_fraction': 0.7,\n",
    "    'verbose': 0\n",
    "}"
   ]
  },
  {
   "cell_type": "markdown",
   "id": "06917c6a",
   "metadata": {},
   "source": [
    "# Test A"
   ]
  },
  {
   "cell_type": "code",
   "execution_count": 11,
   "id": "c02909c4",
   "metadata": {},
   "outputs": [
    {
     "name": "stderr",
     "output_type": "stream",
     "text": [
      "[I 2025-10-12 19:24:14,978] Using an existing study with name 'exp_524_lgbm' instead of creating a new one.\n"
     ]
    }
   ],
   "source": [
    "def objective(trial):\n",
    "\n",
    "    num_leaves = trial.suggest_int('num_leaves', 8, 100),\n",
    "    learning_rate = trial.suggest_float('learning_rate', 0.005, 0.3), # mas bajo, más iteraciones necesita\n",
    "    min_data_in_leaf = trial.suggest_int('min_data_in_leaf', 1, 1000),\n",
    "    feature_fraction = trial.suggest_float('feature_fraction', 0.1, 1.0),\n",
    "    bagging_fraction = trial.suggest_float('bagging_fraction', 0.1, 1.0),\n",
    "    num_iterations = trial.suggest_int('num_iterations', 50, 1000),\n",
    "\n",
    "    params = {\n",
    "        'objective': 'binary',\n",
    "        'metric': 'custom',\n",
    "        'boosting_type': 'gbdt',\n",
    "        'first_metric_only': True,\n",
    "        'boost_from_average': True,\n",
    "        'feature_pre_filter': False,\n",
    "        'max_bin': 31,\n",
    "        'num_leaves': num_leaves,\n",
    "        'learning_rate': learning_rate,\n",
    "        'min_data_in_leaf': min_data_in_leaf,\n",
    "        'feature_fraction': feature_fraction,\n",
    "        'bagging_fraction': bagging_fraction,\n",
    "        'seed': semillas[0],\n",
    "        'verbose': -1\n",
    "    }\n",
    "    train_data = lgb.Dataset(X_train,\n",
    "                              label=y_train_binaria1, # eligir la clase\n",
    "                              weight=w_train)\n",
    "    cv_results = lgb.cv(\n",
    "        params,\n",
    "        train_data,\n",
    "        num_boost_round=400, # modificar, subit y subir... y descomentar la línea inferior\n",
    "        #early_stopping_rounds= int(50 + 5 / learning_rate),\n",
    "        #num_boost_round=num_iterations,  # ← usamos el valor del trial\n",
    "        feval=lgb_gan_eval,\n",
    "        stratified=True,\n",
    "        nfold=5,\n",
    "        seed=semillas[0]\n",
    "    )\n",
    "    max_gan = max(cv_results['valid gan_eval-mean'])\n",
    "    best_iter = cv_results['valid gan_eval-mean'].index(max_gan) + 1\n",
    "\n",
    "    # Guardamos cual es la mejor iteración del modelo\n",
    "    trial.set_user_attr(\"best_iter\", best_iter)\n",
    "\n",
    "    return max_gan * 5\n",
    "\n",
    "\n",
    "storage_name = \"sqlite:///optimization_lgbm.db\"\n",
    "study_name = \"exp_524_lgbm\"\n",
    "\n",
    "study = optuna.create_study(\n",
    "    direction=\"maximize\",\n",
    "    study_name=study_name,\n",
    "    storage=storage_name,\n",
    "    load_if_exists=True,\n",
    ")"
   ]
  },
  {
   "cell_type": "code",
   "execution_count": 13,
   "id": "9224e9dc",
   "metadata": {},
   "outputs": [],
   "source": [
    "#study.optimize(objective, n_trials=20) # 808.180.000\n"
   ]
  },
  {
   "cell_type": "code",
   "execution_count": 14,
   "id": "6cc04bd3",
   "metadata": {},
   "outputs": [],
   "source": [
    "#optuna.visualization.plot_optimization_history(study)"
   ]
  },
  {
   "cell_type": "code",
   "execution_count": 16,
   "id": "8b68a0e5",
   "metadata": {},
   "outputs": [],
   "source": [
    "def ganancia_prob(y_pred, y_true, prop = 1):\n",
    "  ganancia = np.where(y_true == 1, ganancia_acierto, 0) - np.where(y_true == 0, costo_estimulo, 0)\n",
    "  return ganancia[y_pred >= 0.025].sum() / prop\n",
    "#print(\"Ganancia LGBM:\", ganancia_prob(y_pred_lgm, y_test_binaria1))\n",
    "#Ganancia LGBM con historia: $878,000,000\n",
    "#Ganancia RF: $322,460,000\n",
    "#Ganancia LGBM: $326,140,000"
   ]
  },
  {
   "cell_type": "markdown",
   "id": "ecf17e41",
   "metadata": {},
   "source": [
    "# Test B varias semillas"
   ]
  },
  {
   "cell_type": "code",
   "execution_count": 17,
   "id": "2f6a288e-5788-44ab-af34-b2f50e282734",
   "metadata": {},
   "outputs": [
    {
     "data": {
      "text/plain": [
       "{'num_leaves': 100,\n",
       " 'learning_rate': 0.09686090489702351,\n",
       " 'min_data_in_leaf': 968,\n",
       " 'feature_fraction': 0.7260430649166694,\n",
       " 'bagging_fraction': 0.6426831876822654,\n",
       " 'num_iterations': 994}"
      ]
     },
     "execution_count": 17,
     "metadata": {},
     "output_type": "execute_result"
    }
   ],
   "source": [
    "study.best_trial.params"
   ]
  },
  {
   "cell_type": "code",
   "execution_count": 18,
   "id": "2b5a6617",
   "metadata": {},
   "outputs": [
    {
     "name": "stdout",
     "output_type": "stream",
     "text": [
      "Mejor cantidad de árboles (num_boost_round) = 193\n",
      "Entrenando modelo con semilla 100992 ...\n",
      "Entrenando modelo con semilla 140795 ...\n",
      "Entrenando modelo con semilla 130316 ...\n",
      "Entrenando modelo con semilla 130351 ...\n",
      "Entrenando modelo con semilla 130255 ...\n",
      "✅ Ensemble final guardado en DataFrame.\n"
     ]
    },
    {
     "data": {
      "text/html": [
       "<div>\n",
       "<style scoped>\n",
       "    .dataframe tbody tr th:only-of-type {\n",
       "        vertical-align: middle;\n",
       "    }\n",
       "\n",
       "    .dataframe tbody tr th {\n",
       "        vertical-align: top;\n",
       "    }\n",
       "\n",
       "    .dataframe thead th {\n",
       "        text-align: right;\n",
       "    }\n",
       "</style>\n",
       "<table border=\"1\" class=\"dataframe\">\n",
       "  <thead>\n",
       "    <tr style=\"text-align: right;\">\n",
       "      <th></th>\n",
       "      <th>numero_de_cliente</th>\n",
       "      <th>pred_seed_100992</th>\n",
       "      <th>pred_seed_140795</th>\n",
       "      <th>pred_seed_130316</th>\n",
       "      <th>pred_seed_130351</th>\n",
       "      <th>pred_seed_130255</th>\n",
       "      <th>pred_mean</th>\n",
       "    </tr>\n",
       "  </thead>\n",
       "  <tbody>\n",
       "    <tr>\n",
       "      <th>0</th>\n",
       "      <td>249221323</td>\n",
       "      <td>0.000015</td>\n",
       "      <td>0.000024</td>\n",
       "      <td>0.000049</td>\n",
       "      <td>0.000073</td>\n",
       "      <td>0.000013</td>\n",
       "      <td>0.000035</td>\n",
       "    </tr>\n",
       "    <tr>\n",
       "      <th>1</th>\n",
       "      <td>249227600</td>\n",
       "      <td>0.000179</td>\n",
       "      <td>0.000344</td>\n",
       "      <td>0.000230</td>\n",
       "      <td>0.000054</td>\n",
       "      <td>0.000053</td>\n",
       "      <td>0.000172</td>\n",
       "    </tr>\n",
       "    <tr>\n",
       "      <th>2</th>\n",
       "      <td>249234235</td>\n",
       "      <td>0.046125</td>\n",
       "      <td>0.029242</td>\n",
       "      <td>0.016950</td>\n",
       "      <td>0.062857</td>\n",
       "      <td>0.023099</td>\n",
       "      <td>0.035655</td>\n",
       "    </tr>\n",
       "    <tr>\n",
       "      <th>3</th>\n",
       "      <td>249244449</td>\n",
       "      <td>0.000565</td>\n",
       "      <td>0.001191</td>\n",
       "      <td>0.001814</td>\n",
       "      <td>0.001447</td>\n",
       "      <td>0.001405</td>\n",
       "      <td>0.001284</td>\n",
       "    </tr>\n",
       "    <tr>\n",
       "      <th>4</th>\n",
       "      <td>249244739</td>\n",
       "      <td>0.001430</td>\n",
       "      <td>0.004493</td>\n",
       "      <td>0.000179</td>\n",
       "      <td>0.001611</td>\n",
       "      <td>0.002779</td>\n",
       "      <td>0.002099</td>\n",
       "    </tr>\n",
       "  </tbody>\n",
       "</table>\n",
       "</div>"
      ],
      "text/plain": [
       "   numero_de_cliente  pred_seed_100992  pred_seed_140795  pred_seed_130316  \\\n",
       "0          249221323          0.000015          0.000024          0.000049   \n",
       "1          249227600          0.000179          0.000344          0.000230   \n",
       "2          249234235          0.046125          0.029242          0.016950   \n",
       "3          249244449          0.000565          0.001191          0.001814   \n",
       "4          249244739          0.001430          0.004493          0.000179   \n",
       "\n",
       "   pred_seed_130351  pred_seed_130255  pred_mean  \n",
       "0          0.000073          0.000013   0.000035  \n",
       "1          0.000054          0.000053   0.000172  \n",
       "2          0.062857          0.023099   0.035655  \n",
       "3          0.001447          0.001405   0.001284  \n",
       "4          0.001611          0.002779   0.002099  "
      ]
     },
     "execution_count": 18,
     "metadata": {},
     "output_type": "execute_result"
    }
   ],
   "source": [
    "import pandas as pd\n",
    "import lightgbm as lgb\n",
    "import numpy as np\n",
    "\n",
    "# 1️⃣ Hiperparámetros óptimos desde Optuna\n",
    "best_iter = study.best_trial.user_attrs[\"best_iter\"]\n",
    "print(f\"Mejor cantidad de árboles (num_boost_round) = {best_iter}\")\n",
    "\n",
    "best_params = {\n",
    "    'objective': 'binary',\n",
    "    'boosting_type': 'gbdt',\n",
    "    'first_metric_only': True,\n",
    "    'boost_from_average': True,\n",
    "    'feature_pre_filter': False,\n",
    "    'max_bin': 31,\n",
    "    'num_leaves': study.best_trial.params['num_leaves'],\n",
    "    'learning_rate': study.best_trial.params['learning_rate'],\n",
    "    'min_data_in_leaf': study.best_trial.params['min_data_in_leaf'],\n",
    "    'feature_fraction': study.best_trial.params['feature_fraction'],\n",
    "    'bagging_fraction': study.best_trial.params['bagging_fraction'],\n",
    "    'verbose': -1\n",
    "}\n",
    "\n",
    "# 2️⃣ Entrenar modelos con distintas semillas\n",
    "seeds = [100992, 140795, 130316, 130351, 130255]\n",
    "\n",
    "# DataFrame base con el ID del cliente (asumiendo que X_test tiene esa columna)\n",
    "df_preds = pd.DataFrame()\n",
    "df_preds[\"numero_de_cliente\"] = X_kaggle_data[\"numero_de_cliente\"].values  # 👈 ajustá si tu ID tiene otro nombre\n",
    "\n",
    "for seed in seeds:\n",
    "    print(f\"Entrenando modelo con semilla {seed} ...\")\n",
    "    params = best_params.copy()\n",
    "    params['seed'] = seed\n",
    "\n",
    "    # Dataset de entrenamiento\n",
    "    train_data = lgb.Dataset(\n",
    "        X_train_all_data,\n",
    "        label=X_train_all_binaria,\n",
    "        weight=w_train_all  # opcional\n",
    "    )\n",
    "\n",
    "    # Entrenar el modelo\n",
    "    model = lgb.train(params, train_data, num_boost_round=best_iter)\n",
    "\n",
    "    # Predecir\n",
    "    preds = model.predict(X_kaggle_data)\n",
    "\n",
    "    # Guardar columna con las predicciones de esta semilla\n",
    "    df_preds[f\"pred_seed_{seed}\"] = preds\n",
    "\n",
    "# 3️⃣ Promediar las columnas\n",
    "df_preds[\"pred_mean\"] = df_preds[[f\"pred_seed_{s}\" for s in seeds]].mean(axis=1)\n",
    "\n",
    "print(\"✅ Ensemble final guardado en DataFrame.\")\n",
    "df_preds.head()\n"
   ]
  },
  {
   "cell_type": "code",
   "execution_count": 19,
   "id": "e29dd898-a48d-44b5-9de8-0e7ba9c3e46a",
   "metadata": {},
   "outputs": [],
   "source": [
    "# 2) Ordenar de mayor a menor probabilidad\n",
    "df_preds = df_preds.sort_values(\"pred_mean\", ascending=False).reset_index(drop=True)\n",
    "\n",
    "# 3) Número de envíos óptimo (gan_max_idx es 0-based)\n",
    "N_opt = 15409 #el de 8 en kaggle\n",
    "\n",
    "# 4) Marcar Predicted\n",
    "df_preds[\"Predicted\"] = 0\n",
    "df_preds.loc[:N_opt-1, \"Predicted\"] = 1\n"
   ]
  },
  {
   "cell_type": "code",
   "execution_count": 20,
   "id": "76c134f3",
   "metadata": {},
   "outputs": [
    {
     "name": "stdout",
     "output_type": "stream",
     "text": [
      "Predicción de ensemble guardada en gs://brianlitwak_bukito3/submits/submit100.csv\n",
      "Archivo generado con 15409 envíos\n"
     ]
    }
   ],
   "source": [
    "from google.cloud import storage\n",
    "import tempfile\n",
    "import os\n",
    "\n",
    "# Ya tienes tu DataFrame df_preds preparado con las predicciones del ensemble\n",
    "\n",
    "# 1) Guardar el CSV localmente primero (temporal)\n",
    "with tempfile.NamedTemporaryFile(mode='w', suffix='.csv', delete=False) as tmp_file:\n",
    "    df_preds[[\"numero_de_cliente\", \"Predicted\"]].to_csv(tmp_file.name, index=False)\n",
    "    local_path = tmp_file.name\n",
    "\n",
    "# 2) Subir a Google Cloud Storage\n",
    "bucket_name = \"brianlitwak_bukito3\"\n",
    "destination_blob_name = \"submits/submit100.csv\"  # matches your filename\n",
    "\n",
    "storage_client = storage.Client()\n",
    "bucket = storage_client.bucket(bucket_name)\n",
    "blob = bucket.blob(destination_blob_name)\n",
    "blob.upload_from_filename(local_path)\n",
    "\n",
    "print(f\"Predicción de ensemble guardada en gs://{bucket_name}/{destination_blob_name}\")\n",
    "print(f\"Archivo generado con {N_opt} envíos\")\n",
    "\n",
    "# 3) Limpiar archivo temporal\n",
    "os.unlink(local_path)"
   ]
  },
  {
   "cell_type": "code",
   "execution_count": 21,
   "id": "52fdbca6-c13e-4eb2-8237-a2c4fc8d2125",
   "metadata": {},
   "outputs": [
    {
     "name": "stdout",
     "output_type": "stream",
     "text": [
      "Mejor cantidad de árboles (num_boost_round) = 193\n",
      "Entrenando modelo con semilla 100992 ...\n",
      "Entrenando modelo con semilla 140795 ...\n",
      "Entrenando modelo con semilla 130316 ...\n",
      "Entrenando modelo con semilla 130351 ...\n",
      "Entrenando modelo con semilla 130255 ...\n",
      "✅ Ensemble final guardado en DataFrame.\n"
     ]
    },
    {
     "data": {
      "text/html": [
       "<div>\n",
       "<style scoped>\n",
       "    .dataframe tbody tr th:only-of-type {\n",
       "        vertical-align: middle;\n",
       "    }\n",
       "\n",
       "    .dataframe tbody tr th {\n",
       "        vertical-align: top;\n",
       "    }\n",
       "\n",
       "    .dataframe thead th {\n",
       "        text-align: right;\n",
       "    }\n",
       "</style>\n",
       "<table border=\"1\" class=\"dataframe\">\n",
       "  <thead>\n",
       "    <tr style=\"text-align: right;\">\n",
       "      <th></th>\n",
       "      <th>numero_de_cliente</th>\n",
       "      <th>pred_seed_100992</th>\n",
       "      <th>pred_seed_140795</th>\n",
       "      <th>pred_seed_130316</th>\n",
       "      <th>pred_seed_130351</th>\n",
       "      <th>pred_seed_130255</th>\n",
       "      <th>pred_mean</th>\n",
       "    </tr>\n",
       "  </thead>\n",
       "  <tbody>\n",
       "    <tr>\n",
       "      <th>0</th>\n",
       "      <td>249221323</td>\n",
       "      <td>0.000052</td>\n",
       "      <td>0.000113</td>\n",
       "      <td>0.000039</td>\n",
       "      <td>0.000020</td>\n",
       "      <td>0.000067</td>\n",
       "      <td>0.000058</td>\n",
       "    </tr>\n",
       "    <tr>\n",
       "      <th>1</th>\n",
       "      <td>249227600</td>\n",
       "      <td>0.000242</td>\n",
       "      <td>0.000018</td>\n",
       "      <td>0.000032</td>\n",
       "      <td>0.000024</td>\n",
       "      <td>0.000016</td>\n",
       "      <td>0.000066</td>\n",
       "    </tr>\n",
       "    <tr>\n",
       "      <th>2</th>\n",
       "      <td>249234235</td>\n",
       "      <td>0.019539</td>\n",
       "      <td>0.013451</td>\n",
       "      <td>0.005117</td>\n",
       "      <td>0.006348</td>\n",
       "      <td>0.013267</td>\n",
       "      <td>0.011544</td>\n",
       "    </tr>\n",
       "    <tr>\n",
       "      <th>3</th>\n",
       "      <td>249244449</td>\n",
       "      <td>0.000465</td>\n",
       "      <td>0.000082</td>\n",
       "      <td>0.000109</td>\n",
       "      <td>0.002612</td>\n",
       "      <td>0.000217</td>\n",
       "      <td>0.000697</td>\n",
       "    </tr>\n",
       "    <tr>\n",
       "      <th>4</th>\n",
       "      <td>249244739</td>\n",
       "      <td>0.000143</td>\n",
       "      <td>0.000312</td>\n",
       "      <td>0.000009</td>\n",
       "      <td>0.000148</td>\n",
       "      <td>0.000021</td>\n",
       "      <td>0.000127</td>\n",
       "    </tr>\n",
       "  </tbody>\n",
       "</table>\n",
       "</div>"
      ],
      "text/plain": [
       "   numero_de_cliente  pred_seed_100992  pred_seed_140795  pred_seed_130316  \\\n",
       "0          249221323          0.000052          0.000113          0.000039   \n",
       "1          249227600          0.000242          0.000018          0.000032   \n",
       "2          249234235          0.019539          0.013451          0.005117   \n",
       "3          249244449          0.000465          0.000082          0.000109   \n",
       "4          249244739          0.000143          0.000312          0.000009   \n",
       "\n",
       "   pred_seed_130351  pred_seed_130255  pred_mean  \n",
       "0          0.000020          0.000067   0.000058  \n",
       "1          0.000024          0.000016   0.000066  \n",
       "2          0.006348          0.013267   0.011544  \n",
       "3          0.002612          0.000217   0.000697  \n",
       "4          0.000148          0.000021   0.000127  "
      ]
     },
     "execution_count": 21,
     "metadata": {},
     "output_type": "execute_result"
    }
   ],
   "source": [
    "import pandas as pd\n",
    "import lightgbm as lgb\n",
    "import numpy as np\n",
    "\n",
    "# 1️⃣ Hiperparámetros óptimos desde Optuna\n",
    "best_iter = study.best_trial.user_attrs[\"best_iter\"]\n",
    "print(f\"Mejor cantidad de árboles (num_boost_round) = {best_iter}\")\n",
    "\n",
    "best_params = {\n",
    "    'objective': 'binary',\n",
    "    'boosting_type': 'gbdt',\n",
    "    'first_metric_only': True,\n",
    "    'boost_from_average': True,\n",
    "    'feature_pre_filter': False,\n",
    "    'max_bin': 31,\n",
    "    'num_leaves': study.best_trial.params['num_leaves'],\n",
    "    'learning_rate': study.best_trial.params['learning_rate'],\n",
    "    'min_data_in_leaf': study.best_trial.params['min_data_in_leaf'],\n",
    "    'feature_fraction': study.best_trial.params['feature_fraction'],\n",
    "    'bagging_fraction': study.best_trial.params['bagging_fraction'],\n",
    "    'verbose': -1\n",
    "}\n",
    "\n",
    "# 2️⃣ Entrenar modelos con distintas semillas\n",
    "seeds = [100992, 140795, 130316, 130351, 130255]\n",
    "\n",
    "# DataFrame base con el ID del cliente (asumiendo que X_test tiene esa columna)\n",
    "df_preds = pd.DataFrame()\n",
    "df_preds[\"numero_de_cliente\"] = X_test[\"numero_de_cliente\"].values  # 👈 ajustá si tu ID tiene otro nombre\n",
    "\n",
    "for seed in seeds:\n",
    "    print(f\"Entrenando modelo con semilla {seed} ...\")\n",
    "    params = best_params.copy()\n",
    "    params['seed'] = seed\n",
    "\n",
    "    # Dataset de entrenamiento\n",
    "    train_data = lgb.Dataset(\n",
    "        X_train,\n",
    "        label=y_train_binaria1,\n",
    "        weight=w_train  # opcional\n",
    "    )\n",
    "\n",
    "    \n",
    "    # Entrenar el modelo\n",
    "    model = lgb.train(params, train_data, num_boost_round=best_iter)\n",
    "\n",
    "    # Predecir\n",
    "    preds = model.predict(X_test)\n",
    "\n",
    "    # Guardar columna con las predicciones de esta semilla\n",
    "    df_preds[f\"pred_seed_{seed}\"] = preds\n",
    "\n",
    "# 3️⃣ Promediar las columnas\n",
    "df_preds[\"pred_mean\"] = df_preds[[f\"pred_seed_{s}\" for s in seeds]].mean(axis=1)\n",
    "\n",
    "print(\"✅ Ensemble final guardado en DataFrame.\")\n",
    "df_preds.head()\n"
   ]
  },
  {
   "cell_type": "code",
   "execution_count": 22,
   "id": "0054060d-102d-4ec4-aa51-a2795fbf5bfd",
   "metadata": {},
   "outputs": [],
   "source": [
    "y_pred_lgm = df_preds[\"pred_mean\"]"
   ]
  },
  {
   "cell_type": "code",
   "execution_count": 23,
   "id": "54b37b41-e024-4763-9ae8-718d2c738d52",
   "metadata": {},
   "outputs": [
    {
     "name": "stdout",
     "output_type": "stream",
     "text": [
      "hello\n"
     ]
    }
   ],
   "source": [
    "print(\"hello\")"
   ]
  },
  {
   "cell_type": "code",
   "execution_count": 24,
   "id": "d3728ae6-623a-4678-85a6-a8b7b47dbd86",
   "metadata": {},
   "outputs": [
    {
     "data": {
      "image/png": "[encoded data removed]",
      "text/plain": [
       "<Figure size 1000x600 with 1 Axes>"
      ]
     },
     "metadata": {},
     "output_type": "display_data"
    }
   ],
   "source": [
    "ganancia = np.where(y_test_binaria1 == 1, ganancia_acierto, 0) - np.where(y_test_binaria1 == 0, costo_estimulo, 0)\n",
    "idx = np.argsort(y_pred_lgm)[::-1]\n",
    "ganancia = ganancia[idx]\n",
    "y_pred_lgm = y_pred_lgm[idx]\n",
    "ganancia_cum = np.cumsum(ganancia)\n",
    "piso_envios = 4000\n",
    "techo_envios = 20000\n",
    "\n",
    "\n",
    "ganancia_max = ganancia_cum.max()\n",
    "gan_max_idx = np.where(ganancia_cum == ganancia_max)[0][0]\n",
    "\n",
    "plt.figure(figsize=(10, 6))\n",
    "plt.plot(range(piso_envios, len(ganancia_cum[piso_envios:techo_envios]) + piso_envios), ganancia_cum[piso_envios:techo_envios], label='Ganancia LGBM')\n",
    "plt.axvline(x=gan_max_idx, color='g', linestyle='--', label=f'Punto de corte a la ganancia máxima {gan_max_idx}')\n",
    "plt.axhline(y=ganancia_max, color='r', linestyle='--', label=f'Ganancia máxima {ganancia_max}')\n",
    "plt.title('Curva de Ganancia')\n",
    "plt.xlabel('Clientes')\n",
    "plt.ylabel('Ganancia')\n",
    "plt.legend()\n",
    "plt.show()\n",
    "\n"
   ]
  }
 ],
 "metadata": {
  "kernelspec": {
   "display_name": "Python 3 (ipykernel)",
   "language": "python",
   "name": "python3"
  },
  "language_info": {
   "codemirror_mode": {
    "name": "ipython",
    "version": 3
   },
   "file_extension": ".py",
   "mimetype": "text/x-python",
   "name": "python",
   "nbconvert_exporter": "python",
   "pygments_lexer": "ipython3",
   "version": "3.13.7"
  }
 },
 "nbformat": 4,
 "nbformat_minor": 5
}
